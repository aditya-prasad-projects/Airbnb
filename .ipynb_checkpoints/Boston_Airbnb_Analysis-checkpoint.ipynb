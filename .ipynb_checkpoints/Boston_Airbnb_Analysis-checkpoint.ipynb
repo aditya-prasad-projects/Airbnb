{
 "cells": [
  {
   "cell_type": "code",
   "execution_count": 6,
   "metadata": {},
   "outputs": [
    {
     "data": {
      "text/html": [
       "        <script type=\"text/javascript\">\n",
       "        window.PlotlyConfig = {MathJaxConfig: 'local'};\n",
       "        if (window.MathJax) {MathJax.Hub.Config({SVG: {font: \"STIX-Web\"}});}\n",
       "        if (typeof require !== 'undefined') {\n",
       "        require.undef(\"plotly\");\n",
       "        requirejs.config({\n",
       "            paths: {\n",
       "                'plotly': ['https://cdn.plot.ly/plotly-latest.min']\n",
       "            }\n",
       "        });\n",
       "        require(['plotly'], function(Plotly) {\n",
       "            window._Plotly = Plotly;\n",
       "        });\n",
       "        }\n",
       "        </script>\n",
       "        "
      ]
     },
     "metadata": {},
     "output_type": "display_data"
    }
   ],
   "source": [
    "from pyspark.sql import SparkSession\n",
    "from pyspark.sql import functions as F\n",
    "from pyspark.sql.types import *\n",
    "import pandas as pd\n",
    "from pyspark.sql import types as T\n",
    "from pyspark import SparkFiles\n",
    "from textblob import TextBlob\n",
    "import plotly.graph_objects as go\n",
    "from plotly.offline import init_notebook_mode\n",
    "init_notebook_mode(connected = True)"
   ]
  },
  {
   "cell_type": "code",
   "execution_count": 7,
   "metadata": {},
   "outputs": [],
   "source": [
    "spark = SparkSession\\\n",
    "        .builder\\\n",
    "        .master(\"local\")\\\n",
    "        .config(\"spark.files.overwrite\", True)\\\n",
    "        .getOrCreate()"
   ]
  },
  {
   "cell_type": "markdown",
   "metadata": {},
   "source": [
    "Let's Start by analyzing the boston neighbourhoods"
   ]
  },
  {
   "cell_type": "code",
   "execution_count": 8,
   "metadata": {},
   "outputs": [
    {
     "data": {
      "text/html": [
       "<div>\n",
       "<style scoped>\n",
       "    .dataframe tbody tr th:only-of-type {\n",
       "        vertical-align: middle;\n",
       "    }\n",
       "\n",
       "    .dataframe tbody tr th {\n",
       "        vertical-align: top;\n",
       "    }\n",
       "\n",
       "    .dataframe thead th {\n",
       "        text-align: right;\n",
       "    }\n",
       "</style>\n",
       "<table border=\"1\" class=\"dataframe\">\n",
       "  <thead>\n",
       "    <tr style=\"text-align: right;\">\n",
       "      <th></th>\n",
       "      <th>neighbourhood_group</th>\n",
       "      <th>neighbourhood</th>\n",
       "    </tr>\n",
       "  </thead>\n",
       "  <tbody>\n",
       "    <tr>\n",
       "      <th>0</th>\n",
       "      <td>None</td>\n",
       "      <td>Allston</td>\n",
       "    </tr>\n",
       "    <tr>\n",
       "      <th>1</th>\n",
       "      <td>None</td>\n",
       "      <td>Back Bay</td>\n",
       "    </tr>\n",
       "    <tr>\n",
       "      <th>2</th>\n",
       "      <td>None</td>\n",
       "      <td>Bay Village</td>\n",
       "    </tr>\n",
       "    <tr>\n",
       "      <th>3</th>\n",
       "      <td>None</td>\n",
       "      <td>Beacon Hill</td>\n",
       "    </tr>\n",
       "    <tr>\n",
       "      <th>4</th>\n",
       "      <td>None</td>\n",
       "      <td>Brighton</td>\n",
       "    </tr>\n",
       "    <tr>\n",
       "      <th>5</th>\n",
       "      <td>None</td>\n",
       "      <td>Charlestown</td>\n",
       "    </tr>\n",
       "    <tr>\n",
       "      <th>6</th>\n",
       "      <td>None</td>\n",
       "      <td>Chinatown</td>\n",
       "    </tr>\n",
       "    <tr>\n",
       "      <th>7</th>\n",
       "      <td>None</td>\n",
       "      <td>Dorchester</td>\n",
       "    </tr>\n",
       "    <tr>\n",
       "      <th>8</th>\n",
       "      <td>None</td>\n",
       "      <td>Downtown</td>\n",
       "    </tr>\n",
       "    <tr>\n",
       "      <th>9</th>\n",
       "      <td>None</td>\n",
       "      <td>East Boston</td>\n",
       "    </tr>\n",
       "    <tr>\n",
       "      <th>10</th>\n",
       "      <td>None</td>\n",
       "      <td>Fenway</td>\n",
       "    </tr>\n",
       "    <tr>\n",
       "      <th>11</th>\n",
       "      <td>None</td>\n",
       "      <td>Harbor Islands</td>\n",
       "    </tr>\n",
       "    <tr>\n",
       "      <th>12</th>\n",
       "      <td>None</td>\n",
       "      <td>Hyde Park</td>\n",
       "    </tr>\n",
       "    <tr>\n",
       "      <th>13</th>\n",
       "      <td>None</td>\n",
       "      <td>Jamaica Plain</td>\n",
       "    </tr>\n",
       "    <tr>\n",
       "      <th>14</th>\n",
       "      <td>None</td>\n",
       "      <td>Leather District</td>\n",
       "    </tr>\n",
       "    <tr>\n",
       "      <th>15</th>\n",
       "      <td>None</td>\n",
       "      <td>Longwood Medical Area</td>\n",
       "    </tr>\n",
       "    <tr>\n",
       "      <th>16</th>\n",
       "      <td>None</td>\n",
       "      <td>Mattapan</td>\n",
       "    </tr>\n",
       "    <tr>\n",
       "      <th>17</th>\n",
       "      <td>None</td>\n",
       "      <td>Mission Hill</td>\n",
       "    </tr>\n",
       "    <tr>\n",
       "      <th>18</th>\n",
       "      <td>None</td>\n",
       "      <td>North End</td>\n",
       "    </tr>\n",
       "    <tr>\n",
       "      <th>19</th>\n",
       "      <td>None</td>\n",
       "      <td>Roslindale</td>\n",
       "    </tr>\n",
       "    <tr>\n",
       "      <th>20</th>\n",
       "      <td>None</td>\n",
       "      <td>Roxbury</td>\n",
       "    </tr>\n",
       "    <tr>\n",
       "      <th>21</th>\n",
       "      <td>None</td>\n",
       "      <td>South Boston</td>\n",
       "    </tr>\n",
       "    <tr>\n",
       "      <th>22</th>\n",
       "      <td>None</td>\n",
       "      <td>South Boston Waterfront</td>\n",
       "    </tr>\n",
       "    <tr>\n",
       "      <th>23</th>\n",
       "      <td>None</td>\n",
       "      <td>South End</td>\n",
       "    </tr>\n",
       "    <tr>\n",
       "      <th>24</th>\n",
       "      <td>None</td>\n",
       "      <td>West End</td>\n",
       "    </tr>\n",
       "    <tr>\n",
       "      <th>25</th>\n",
       "      <td>None</td>\n",
       "      <td>West Roxbury</td>\n",
       "    </tr>\n",
       "  </tbody>\n",
       "</table>\n",
       "</div>"
      ],
      "text/plain": [
       "   neighbourhood_group            neighbourhood\n",
       "0                 None                  Allston\n",
       "1                 None                 Back Bay\n",
       "2                 None              Bay Village\n",
       "3                 None              Beacon Hill\n",
       "4                 None                 Brighton\n",
       "5                 None              Charlestown\n",
       "6                 None                Chinatown\n",
       "7                 None               Dorchester\n",
       "8                 None                 Downtown\n",
       "9                 None              East Boston\n",
       "10                None                   Fenway\n",
       "11                None           Harbor Islands\n",
       "12                None                Hyde Park\n",
       "13                None            Jamaica Plain\n",
       "14                None         Leather District\n",
       "15                None    Longwood Medical Area\n",
       "16                None                 Mattapan\n",
       "17                None             Mission Hill\n",
       "18                None                North End\n",
       "19                None               Roslindale\n",
       "20                None                  Roxbury\n",
       "21                None             South Boston\n",
       "22                None  South Boston Waterfront\n",
       "23                None                South End\n",
       "24                None                 West End\n",
       "25                None             West Roxbury"
      ]
     },
     "execution_count": 8,
     "metadata": {},
     "output_type": "execute_result"
    }
   ],
   "source": [
    "boston_neighbourhoods_df = spark.read.csv(\"data/Boston/2020/June/neighbourhoods.csv\", header=True)\n",
    "boston_neighbourhoods_df.toPandas()"
   ]
  },
  {
   "cell_type": "markdown",
   "metadata": {},
   "source": [
    "We can see that for Boston atleast, there are no neighbourhood_groups, so lets drop the column"
   ]
  },
  {
   "cell_type": "code",
   "execution_count": 9,
   "metadata": {},
   "outputs": [
    {
     "data": {
      "text/html": [
       "<div>\n",
       "<style scoped>\n",
       "    .dataframe tbody tr th:only-of-type {\n",
       "        vertical-align: middle;\n",
       "    }\n",
       "\n",
       "    .dataframe tbody tr th {\n",
       "        vertical-align: top;\n",
       "    }\n",
       "\n",
       "    .dataframe thead th {\n",
       "        text-align: right;\n",
       "    }\n",
       "</style>\n",
       "<table border=\"1\" class=\"dataframe\">\n",
       "  <thead>\n",
       "    <tr style=\"text-align: right;\">\n",
       "      <th></th>\n",
       "      <th>neighbourhood</th>\n",
       "    </tr>\n",
       "  </thead>\n",
       "  <tbody>\n",
       "    <tr>\n",
       "      <th>0</th>\n",
       "      <td>Allston</td>\n",
       "    </tr>\n",
       "    <tr>\n",
       "      <th>1</th>\n",
       "      <td>Back Bay</td>\n",
       "    </tr>\n",
       "    <tr>\n",
       "      <th>2</th>\n",
       "      <td>Bay Village</td>\n",
       "    </tr>\n",
       "    <tr>\n",
       "      <th>3</th>\n",
       "      <td>Beacon Hill</td>\n",
       "    </tr>\n",
       "    <tr>\n",
       "      <th>4</th>\n",
       "      <td>Brighton</td>\n",
       "    </tr>\n",
       "    <tr>\n",
       "      <th>5</th>\n",
       "      <td>Charlestown</td>\n",
       "    </tr>\n",
       "    <tr>\n",
       "      <th>6</th>\n",
       "      <td>Chinatown</td>\n",
       "    </tr>\n",
       "    <tr>\n",
       "      <th>7</th>\n",
       "      <td>Dorchester</td>\n",
       "    </tr>\n",
       "    <tr>\n",
       "      <th>8</th>\n",
       "      <td>Downtown</td>\n",
       "    </tr>\n",
       "    <tr>\n",
       "      <th>9</th>\n",
       "      <td>East Boston</td>\n",
       "    </tr>\n",
       "    <tr>\n",
       "      <th>10</th>\n",
       "      <td>Fenway</td>\n",
       "    </tr>\n",
       "    <tr>\n",
       "      <th>11</th>\n",
       "      <td>Harbor Islands</td>\n",
       "    </tr>\n",
       "    <tr>\n",
       "      <th>12</th>\n",
       "      <td>Hyde Park</td>\n",
       "    </tr>\n",
       "    <tr>\n",
       "      <th>13</th>\n",
       "      <td>Jamaica Plain</td>\n",
       "    </tr>\n",
       "    <tr>\n",
       "      <th>14</th>\n",
       "      <td>Leather District</td>\n",
       "    </tr>\n",
       "    <tr>\n",
       "      <th>15</th>\n",
       "      <td>Longwood Medical Area</td>\n",
       "    </tr>\n",
       "    <tr>\n",
       "      <th>16</th>\n",
       "      <td>Mattapan</td>\n",
       "    </tr>\n",
       "    <tr>\n",
       "      <th>17</th>\n",
       "      <td>Mission Hill</td>\n",
       "    </tr>\n",
       "    <tr>\n",
       "      <th>18</th>\n",
       "      <td>North End</td>\n",
       "    </tr>\n",
       "    <tr>\n",
       "      <th>19</th>\n",
       "      <td>Roslindale</td>\n",
       "    </tr>\n",
       "    <tr>\n",
       "      <th>20</th>\n",
       "      <td>Roxbury</td>\n",
       "    </tr>\n",
       "    <tr>\n",
       "      <th>21</th>\n",
       "      <td>South Boston</td>\n",
       "    </tr>\n",
       "    <tr>\n",
       "      <th>22</th>\n",
       "      <td>South Boston Waterfront</td>\n",
       "    </tr>\n",
       "    <tr>\n",
       "      <th>23</th>\n",
       "      <td>South End</td>\n",
       "    </tr>\n",
       "    <tr>\n",
       "      <th>24</th>\n",
       "      <td>West End</td>\n",
       "    </tr>\n",
       "    <tr>\n",
       "      <th>25</th>\n",
       "      <td>West Roxbury</td>\n",
       "    </tr>\n",
       "  </tbody>\n",
       "</table>\n",
       "</div>"
      ],
      "text/plain": [
       "              neighbourhood\n",
       "0                   Allston\n",
       "1                  Back Bay\n",
       "2               Bay Village\n",
       "3               Beacon Hill\n",
       "4                  Brighton\n",
       "5               Charlestown\n",
       "6                 Chinatown\n",
       "7                Dorchester\n",
       "8                  Downtown\n",
       "9               East Boston\n",
       "10                   Fenway\n",
       "11           Harbor Islands\n",
       "12                Hyde Park\n",
       "13            Jamaica Plain\n",
       "14         Leather District\n",
       "15    Longwood Medical Area\n",
       "16                 Mattapan\n",
       "17             Mission Hill\n",
       "18                North End\n",
       "19               Roslindale\n",
       "20                  Roxbury\n",
       "21             South Boston\n",
       "22  South Boston Waterfront\n",
       "23                South End\n",
       "24                 West End\n",
       "25             West Roxbury"
      ]
     },
     "execution_count": 9,
     "metadata": {},
     "output_type": "execute_result"
    }
   ],
   "source": [
    "boston_neighbourhoods_df = boston_neighbourhoods_df.drop('neighbourhood_group')\n",
    "boston_neighbourhoods_df.toPandas()"
   ]
  },
  {
   "cell_type": "markdown",
   "metadata": {},
   "source": [
    "We will be running the analysis only on the top neighbourhoods that we selected from \"http://insideairbnb.com/get-the-data.html\" ,which had the highest YoY percent change."
   ]
  },
  {
   "cell_type": "code",
   "execution_count": 10,
   "metadata": {},
   "outputs": [
    {
     "data": {
      "text/html": [
       "<div>\n",
       "<style scoped>\n",
       "    .dataframe tbody tr th:only-of-type {\n",
       "        vertical-align: middle;\n",
       "    }\n",
       "\n",
       "    .dataframe tbody tr th {\n",
       "        vertical-align: top;\n",
       "    }\n",
       "\n",
       "    .dataframe thead th {\n",
       "        text-align: right;\n",
       "    }\n",
       "</style>\n",
       "<table border=\"1\" class=\"dataframe\">\n",
       "  <thead>\n",
       "    <tr style=\"text-align: right;\">\n",
       "      <th></th>\n",
       "      <th>neighbourhood</th>\n",
       "    </tr>\n",
       "  </thead>\n",
       "  <tbody>\n",
       "    <tr>\n",
       "      <th>0</th>\n",
       "      <td>Back Bay</td>\n",
       "    </tr>\n",
       "    <tr>\n",
       "      <th>1</th>\n",
       "      <td>South Boston</td>\n",
       "    </tr>\n",
       "    <tr>\n",
       "      <th>2</th>\n",
       "      <td>South End</td>\n",
       "    </tr>\n",
       "    <tr>\n",
       "      <th>3</th>\n",
       "      <td>Fenway</td>\n",
       "    </tr>\n",
       "    <tr>\n",
       "      <th>4</th>\n",
       "      <td>Allston</td>\n",
       "    </tr>\n",
       "    <tr>\n",
       "      <th>5</th>\n",
       "      <td>Dorchester</td>\n",
       "    </tr>\n",
       "    <tr>\n",
       "      <th>6</th>\n",
       "      <td>Downtown</td>\n",
       "    </tr>\n",
       "  </tbody>\n",
       "</table>\n",
       "</div>"
      ],
      "text/plain": [
       "  neighbourhood\n",
       "0      Back Bay\n",
       "1  South Boston\n",
       "2     South End\n",
       "3        Fenway\n",
       "4       Allston\n",
       "5    Dorchester\n",
       "6      Downtown"
      ]
     },
     "execution_count": 10,
     "metadata": {},
     "output_type": "execute_result"
    }
   ],
   "source": [
    "neighbourhoods_list = [\"Back Bay\", 'South Boston', 'South End', 'Fenway', 'Allston', 'Dorchester', 'Downtown']\n",
    "boston_neighbourhoods_df = spark.createDataFrame(neighbourhoods_list, StringType())\n",
    "boston_neighbourhoods_df = boston_neighbourhoods_df.selectExpr(\"value as neighbourhood\")\n",
    "boston_neighbourhoods_df.createOrReplaceTempView('boston_neighbourhoods')\n",
    "boston_neighbourhoods_df.toPandas()"
   ]
  },
  {
   "cell_type": "markdown",
   "metadata": {},
   "source": [
    "Let's create a function to read in listings data, and provide neighbourhood data such as number of listings for a particular year and average price for a year"
   ]
  },
  {
   "cell_type": "code",
   "execution_count": 11,
   "metadata": {},
   "outputs": [],
   "source": [
    "def neighbourhood_data_analysis(file_path, year):\n",
    "    boston_listings_df = spark.read.csv(file_path, header=True)\n",
    "    boston_listings_df.createOrReplaceTempView('boston_listings')\n",
    "    boston_listings_df = spark.sql(\"\"\"\n",
    "        SELECT * FROM boston_listings L\n",
    "        WHERE L.neighbourhood IN \n",
    "        (SELECT neighbourhood FROM boston_neighbourhoods)\n",
    "    \"\"\")\n",
    "    boston_listings_df.createOrReplaceTempView('boston_listings')\n",
    "    neighbourhood_data = spark.sql(\"\"\"\n",
    "        SELECT neighbourhood, count(neighbourhood) as number_of_listings, ROUND(avg(price), 2) as average_price\n",
    "        FROM boston_listings\n",
    "        GROUP BY neighbourhood\n",
    "        ORDER BY number_of_listings desc\n",
    "    \"\"\")\n",
    "    return neighbourhood_data.withColumn(\"year\", F.lit(year))\n",
    "    "
   ]
  },
  {
   "cell_type": "markdown",
   "metadata": {},
   "source": [
    "2020: "
   ]
  },
  {
   "cell_type": "code",
   "execution_count": 12,
   "metadata": {},
   "outputs": [
    {
     "data": {
      "text/html": [
       "<div>\n",
       "<style scoped>\n",
       "    .dataframe tbody tr th:only-of-type {\n",
       "        vertical-align: middle;\n",
       "    }\n",
       "\n",
       "    .dataframe tbody tr th {\n",
       "        vertical-align: top;\n",
       "    }\n",
       "\n",
       "    .dataframe thead th {\n",
       "        text-align: right;\n",
       "    }\n",
       "</style>\n",
       "<table border=\"1\" class=\"dataframe\">\n",
       "  <thead>\n",
       "    <tr style=\"text-align: right;\">\n",
       "      <th></th>\n",
       "      <th>neighbourhood</th>\n",
       "      <th>number_of_listings</th>\n",
       "      <th>average_price</th>\n",
       "      <th>year</th>\n",
       "    </tr>\n",
       "  </thead>\n",
       "  <tbody>\n",
       "    <tr>\n",
       "      <th>0</th>\n",
       "      <td>Dorchester</td>\n",
       "      <td>420</td>\n",
       "      <td>159.15</td>\n",
       "      <td>2020</td>\n",
       "    </tr>\n",
       "    <tr>\n",
       "      <th>1</th>\n",
       "      <td>Downtown</td>\n",
       "      <td>277</td>\n",
       "      <td>304.44</td>\n",
       "      <td>2020</td>\n",
       "    </tr>\n",
       "    <tr>\n",
       "      <th>2</th>\n",
       "      <td>Back Bay</td>\n",
       "      <td>224</td>\n",
       "      <td>259.63</td>\n",
       "      <td>2020</td>\n",
       "    </tr>\n",
       "    <tr>\n",
       "      <th>3</th>\n",
       "      <td>South End</td>\n",
       "      <td>214</td>\n",
       "      <td>171.21</td>\n",
       "      <td>2020</td>\n",
       "    </tr>\n",
       "    <tr>\n",
       "      <th>4</th>\n",
       "      <td>Allston</td>\n",
       "      <td>197</td>\n",
       "      <td>107.50</td>\n",
       "      <td>2020</td>\n",
       "    </tr>\n",
       "    <tr>\n",
       "      <th>5</th>\n",
       "      <td>South Boston</td>\n",
       "      <td>168</td>\n",
       "      <td>191.32</td>\n",
       "      <td>2020</td>\n",
       "    </tr>\n",
       "    <tr>\n",
       "      <th>6</th>\n",
       "      <td>Fenway</td>\n",
       "      <td>167</td>\n",
       "      <td>224.37</td>\n",
       "      <td>2020</td>\n",
       "    </tr>\n",
       "  </tbody>\n",
       "</table>\n",
       "</div>"
      ],
      "text/plain": [
       "  neighbourhood  number_of_listings  average_price  year\n",
       "0    Dorchester                 420         159.15  2020\n",
       "1      Downtown                 277         304.44  2020\n",
       "2      Back Bay                 224         259.63  2020\n",
       "3     South End                 214         171.21  2020\n",
       "4       Allston                 197         107.50  2020\n",
       "5  South Boston                 168         191.32  2020\n",
       "6        Fenway                 167         224.37  2020"
      ]
     },
     "execution_count": 12,
     "metadata": {},
     "output_type": "execute_result"
    }
   ],
   "source": [
    "neighbourhood_data_2020 = neighbourhood_data_analysis(\"data/Boston/2020/June/listings_original.csv\", 2020)\n",
    "neighbourhood_data_2020.toPandas()"
   ]
  },
  {
   "cell_type": "markdown",
   "metadata": {},
   "source": [
    "2019: "
   ]
  },
  {
   "cell_type": "code",
   "execution_count": 13,
   "metadata": {},
   "outputs": [
    {
     "data": {
      "text/html": [
       "<div>\n",
       "<style scoped>\n",
       "    .dataframe tbody tr th:only-of-type {\n",
       "        vertical-align: middle;\n",
       "    }\n",
       "\n",
       "    .dataframe tbody tr th {\n",
       "        vertical-align: top;\n",
       "    }\n",
       "\n",
       "    .dataframe thead th {\n",
       "        text-align: right;\n",
       "    }\n",
       "</style>\n",
       "<table border=\"1\" class=\"dataframe\">\n",
       "  <thead>\n",
       "    <tr style=\"text-align: right;\">\n",
       "      <th></th>\n",
       "      <th>neighbourhood</th>\n",
       "      <th>number_of_listings</th>\n",
       "      <th>average_price</th>\n",
       "      <th>year</th>\n",
       "    </tr>\n",
       "  </thead>\n",
       "  <tbody>\n",
       "    <tr>\n",
       "      <th>0</th>\n",
       "      <td>Dorchester</td>\n",
       "      <td>558</td>\n",
       "      <td>107.04</td>\n",
       "      <td>2019</td>\n",
       "    </tr>\n",
       "    <tr>\n",
       "      <th>1</th>\n",
       "      <td>Downtown</td>\n",
       "      <td>498</td>\n",
       "      <td>264.05</td>\n",
       "      <td>2019</td>\n",
       "    </tr>\n",
       "    <tr>\n",
       "      <th>2</th>\n",
       "      <td>Back Bay</td>\n",
       "      <td>471</td>\n",
       "      <td>332.59</td>\n",
       "      <td>2019</td>\n",
       "    </tr>\n",
       "    <tr>\n",
       "      <th>3</th>\n",
       "      <td>South End</td>\n",
       "      <td>404</td>\n",
       "      <td>227.28</td>\n",
       "      <td>2019</td>\n",
       "    </tr>\n",
       "    <tr>\n",
       "      <th>4</th>\n",
       "      <td>Fenway</td>\n",
       "      <td>400</td>\n",
       "      <td>235.58</td>\n",
       "      <td>2019</td>\n",
       "    </tr>\n",
       "    <tr>\n",
       "      <th>5</th>\n",
       "      <td>Allston</td>\n",
       "      <td>338</td>\n",
       "      <td>181.63</td>\n",
       "      <td>2019</td>\n",
       "    </tr>\n",
       "    <tr>\n",
       "      <th>6</th>\n",
       "      <td>South Boston</td>\n",
       "      <td>333</td>\n",
       "      <td>225.68</td>\n",
       "      <td>2019</td>\n",
       "    </tr>\n",
       "  </tbody>\n",
       "</table>\n",
       "</div>"
      ],
      "text/plain": [
       "  neighbourhood  number_of_listings  average_price  year\n",
       "0    Dorchester                 558         107.04  2019\n",
       "1      Downtown                 498         264.05  2019\n",
       "2      Back Bay                 471         332.59  2019\n",
       "3     South End                 404         227.28  2019\n",
       "4        Fenway                 400         235.58  2019\n",
       "5       Allston                 338         181.63  2019\n",
       "6  South Boston                 333         225.68  2019"
      ]
     },
     "execution_count": 13,
     "metadata": {},
     "output_type": "execute_result"
    }
   ],
   "source": [
    "neighbourhood_data_2019 = neighbourhood_data_analysis(\"data/Boston/2019/June/listings.csv\", 2019)\n",
    "neighbourhood_data_2019.toPandas()"
   ]
  },
  {
   "cell_type": "markdown",
   "metadata": {},
   "source": [
    "2018:"
   ]
  },
  {
   "cell_type": "code",
   "execution_count": 14,
   "metadata": {},
   "outputs": [
    {
     "data": {
      "text/html": [
       "<div>\n",
       "<style scoped>\n",
       "    .dataframe tbody tr th:only-of-type {\n",
       "        vertical-align: middle;\n",
       "    }\n",
       "\n",
       "    .dataframe tbody tr th {\n",
       "        vertical-align: top;\n",
       "    }\n",
       "\n",
       "    .dataframe thead th {\n",
       "        text-align: right;\n",
       "    }\n",
       "</style>\n",
       "<table border=\"1\" class=\"dataframe\">\n",
       "  <thead>\n",
       "    <tr style=\"text-align: right;\">\n",
       "      <th></th>\n",
       "      <th>neighbourhood</th>\n",
       "      <th>number_of_listings</th>\n",
       "      <th>average_price</th>\n",
       "      <th>year</th>\n",
       "    </tr>\n",
       "  </thead>\n",
       "  <tbody>\n",
       "    <tr>\n",
       "      <th>0</th>\n",
       "      <td>Dorchester</td>\n",
       "      <td>519</td>\n",
       "      <td>99.11</td>\n",
       "      <td>2018</td>\n",
       "    </tr>\n",
       "    <tr>\n",
       "      <th>1</th>\n",
       "      <td>Fenway</td>\n",
       "      <td>498</td>\n",
       "      <td>237.59</td>\n",
       "      <td>2018</td>\n",
       "    </tr>\n",
       "    <tr>\n",
       "      <th>2</th>\n",
       "      <td>Back Bay</td>\n",
       "      <td>464</td>\n",
       "      <td>248.84</td>\n",
       "      <td>2018</td>\n",
       "    </tr>\n",
       "    <tr>\n",
       "      <th>3</th>\n",
       "      <td>South End</td>\n",
       "      <td>406</td>\n",
       "      <td>212.26</td>\n",
       "      <td>2018</td>\n",
       "    </tr>\n",
       "    <tr>\n",
       "      <th>4</th>\n",
       "      <td>Allston</td>\n",
       "      <td>393</td>\n",
       "      <td>156.82</td>\n",
       "      <td>2018</td>\n",
       "    </tr>\n",
       "    <tr>\n",
       "      <th>5</th>\n",
       "      <td>Downtown</td>\n",
       "      <td>361</td>\n",
       "      <td>252.73</td>\n",
       "      <td>2018</td>\n",
       "    </tr>\n",
       "    <tr>\n",
       "      <th>6</th>\n",
       "      <td>South Boston</td>\n",
       "      <td>312</td>\n",
       "      <td>211.29</td>\n",
       "      <td>2018</td>\n",
       "    </tr>\n",
       "  </tbody>\n",
       "</table>\n",
       "</div>"
      ],
      "text/plain": [
       "  neighbourhood  number_of_listings  average_price  year\n",
       "0    Dorchester                 519          99.11  2018\n",
       "1        Fenway                 498         237.59  2018\n",
       "2      Back Bay                 464         248.84  2018\n",
       "3     South End                 406         212.26  2018\n",
       "4       Allston                 393         156.82  2018\n",
       "5      Downtown                 361         252.73  2018\n",
       "6  South Boston                 312         211.29  2018"
      ]
     },
     "execution_count": 14,
     "metadata": {},
     "output_type": "execute_result"
    }
   ],
   "source": [
    "neighbourhood_data_2018 = neighbourhood_data_analysis(\"data/Boston/2018/July/listings.csv\", 2018)\n",
    "neighbourhood_data_2018.toPandas()"
   ]
  },
  {
   "cell_type": "code",
   "execution_count": 15,
   "metadata": {},
   "outputs": [
    {
     "data": {
      "text/html": [
       "<div>\n",
       "<style scoped>\n",
       "    .dataframe tbody tr th:only-of-type {\n",
       "        vertical-align: middle;\n",
       "    }\n",
       "\n",
       "    .dataframe tbody tr th {\n",
       "        vertical-align: top;\n",
       "    }\n",
       "\n",
       "    .dataframe thead th {\n",
       "        text-align: right;\n",
       "    }\n",
       "</style>\n",
       "<table border=\"1\" class=\"dataframe\">\n",
       "  <thead>\n",
       "    <tr style=\"text-align: right;\">\n",
       "      <th></th>\n",
       "      <th>neighbourhood</th>\n",
       "      <th>number_of_listings</th>\n",
       "      <th>average_price</th>\n",
       "      <th>year</th>\n",
       "    </tr>\n",
       "  </thead>\n",
       "  <tbody>\n",
       "    <tr>\n",
       "      <th>0</th>\n",
       "      <td>Back Bay</td>\n",
       "      <td>410</td>\n",
       "      <td>239.88</td>\n",
       "      <td>2017</td>\n",
       "    </tr>\n",
       "    <tr>\n",
       "      <th>1</th>\n",
       "      <td>Dorchester</td>\n",
       "      <td>398</td>\n",
       "      <td>98.26</td>\n",
       "      <td>2017</td>\n",
       "    </tr>\n",
       "    <tr>\n",
       "      <th>2</th>\n",
       "      <td>Fenway</td>\n",
       "      <td>357</td>\n",
       "      <td>210.86</td>\n",
       "      <td>2017</td>\n",
       "    </tr>\n",
       "    <tr>\n",
       "      <th>3</th>\n",
       "      <td>South End</td>\n",
       "      <td>354</td>\n",
       "      <td>214.52</td>\n",
       "      <td>2017</td>\n",
       "    </tr>\n",
       "    <tr>\n",
       "      <th>4</th>\n",
       "      <td>Allston</td>\n",
       "      <td>297</td>\n",
       "      <td>99.63</td>\n",
       "      <td>2017</td>\n",
       "    </tr>\n",
       "    <tr>\n",
       "      <th>5</th>\n",
       "      <td>Downtown</td>\n",
       "      <td>295</td>\n",
       "      <td>252.32</td>\n",
       "      <td>2017</td>\n",
       "    </tr>\n",
       "    <tr>\n",
       "      <th>6</th>\n",
       "      <td>South Boston</td>\n",
       "      <td>264</td>\n",
       "      <td>197.83</td>\n",
       "      <td>2017</td>\n",
       "    </tr>\n",
       "  </tbody>\n",
       "</table>\n",
       "</div>"
      ],
      "text/plain": [
       "  neighbourhood  number_of_listings  average_price  year\n",
       "0      Back Bay                 410         239.88  2017\n",
       "1    Dorchester                 398          98.26  2017\n",
       "2        Fenway                 357         210.86  2017\n",
       "3     South End                 354         214.52  2017\n",
       "4       Allston                 297          99.63  2017\n",
       "5      Downtown                 295         252.32  2017\n",
       "6  South Boston                 264         197.83  2017"
      ]
     },
     "execution_count": 15,
     "metadata": {},
     "output_type": "execute_result"
    }
   ],
   "source": [
    "neighbourhood_data_2017 = neighbourhood_data_analysis(\"data/Boston/2017/October/listings.csv\", 2017)\n",
    "neighbourhood_data_2017.toPandas()"
   ]
  },
  {
   "cell_type": "code",
   "execution_count": 16,
   "metadata": {},
   "outputs": [
    {
     "data": {
      "text/html": [
       "<div>\n",
       "<style scoped>\n",
       "    .dataframe tbody tr th:only-of-type {\n",
       "        vertical-align: middle;\n",
       "    }\n",
       "\n",
       "    .dataframe tbody tr th {\n",
       "        vertical-align: top;\n",
       "    }\n",
       "\n",
       "    .dataframe thead th {\n",
       "        text-align: right;\n",
       "    }\n",
       "</style>\n",
       "<table border=\"1\" class=\"dataframe\">\n",
       "  <thead>\n",
       "    <tr style=\"text-align: right;\">\n",
       "      <th></th>\n",
       "      <th>neighbourhood</th>\n",
       "      <th>number_of_listings</th>\n",
       "      <th>average_price</th>\n",
       "      <th>year</th>\n",
       "    </tr>\n",
       "  </thead>\n",
       "  <tbody>\n",
       "    <tr>\n",
       "      <th>0</th>\n",
       "      <td>South End</td>\n",
       "      <td>326</td>\n",
       "      <td>204.35</td>\n",
       "      <td>2016</td>\n",
       "    </tr>\n",
       "    <tr>\n",
       "      <th>1</th>\n",
       "      <td>Back Bay</td>\n",
       "      <td>302</td>\n",
       "      <td>240.95</td>\n",
       "      <td>2016</td>\n",
       "    </tr>\n",
       "    <tr>\n",
       "      <th>2</th>\n",
       "      <td>Fenway</td>\n",
       "      <td>290</td>\n",
       "      <td>220.39</td>\n",
       "      <td>2016</td>\n",
       "    </tr>\n",
       "    <tr>\n",
       "      <th>3</th>\n",
       "      <td>Dorchester</td>\n",
       "      <td>269</td>\n",
       "      <td>91.64</td>\n",
       "      <td>2016</td>\n",
       "    </tr>\n",
       "    <tr>\n",
       "      <th>4</th>\n",
       "      <td>Allston</td>\n",
       "      <td>260</td>\n",
       "      <td>112.31</td>\n",
       "      <td>2016</td>\n",
       "    </tr>\n",
       "    <tr>\n",
       "      <th>5</th>\n",
       "      <td>South Boston</td>\n",
       "      <td>174</td>\n",
       "      <td>187.61</td>\n",
       "      <td>2016</td>\n",
       "    </tr>\n",
       "    <tr>\n",
       "      <th>6</th>\n",
       "      <td>Downtown</td>\n",
       "      <td>172</td>\n",
       "      <td>236.46</td>\n",
       "      <td>2016</td>\n",
       "    </tr>\n",
       "  </tbody>\n",
       "</table>\n",
       "</div>"
      ],
      "text/plain": [
       "  neighbourhood  number_of_listings  average_price  year\n",
       "0     South End                 326         204.35  2016\n",
       "1      Back Bay                 302         240.95  2016\n",
       "2        Fenway                 290         220.39  2016\n",
       "3    Dorchester                 269          91.64  2016\n",
       "4       Allston                 260         112.31  2016\n",
       "5  South Boston                 174         187.61  2016\n",
       "6      Downtown                 172         236.46  2016"
      ]
     },
     "execution_count": 16,
     "metadata": {},
     "output_type": "execute_result"
    }
   ],
   "source": [
    "neighbourhood_data_2016 = neighbourhood_data_analysis(\"data/Boston/2016/September/listings.csv\", 2016)\n",
    "neighbourhood_data_2016.toPandas()"
   ]
  },
  {
   "cell_type": "code",
   "execution_count": 17,
   "metadata": {},
   "outputs": [
    {
     "data": {
      "text/html": [
       "<div>\n",
       "<style scoped>\n",
       "    .dataframe tbody tr th:only-of-type {\n",
       "        vertical-align: middle;\n",
       "    }\n",
       "\n",
       "    .dataframe tbody tr th {\n",
       "        vertical-align: top;\n",
       "    }\n",
       "\n",
       "    .dataframe thead th {\n",
       "        text-align: right;\n",
       "    }\n",
       "</style>\n",
       "<table border=\"1\" class=\"dataframe\">\n",
       "  <thead>\n",
       "    <tr style=\"text-align: right;\">\n",
       "      <th></th>\n",
       "      <th>neighbourhood</th>\n",
       "      <th>number_of_listings</th>\n",
       "      <th>average_price</th>\n",
       "      <th>year</th>\n",
       "    </tr>\n",
       "  </thead>\n",
       "  <tbody>\n",
       "    <tr>\n",
       "      <th>0</th>\n",
       "      <td>South End</td>\n",
       "      <td>251</td>\n",
       "      <td>216.96</td>\n",
       "      <td>2015</td>\n",
       "    </tr>\n",
       "    <tr>\n",
       "      <th>1</th>\n",
       "      <td>Allston</td>\n",
       "      <td>223</td>\n",
       "      <td>128.91</td>\n",
       "      <td>2015</td>\n",
       "    </tr>\n",
       "    <tr>\n",
       "      <th>2</th>\n",
       "      <td>Back Bay</td>\n",
       "      <td>206</td>\n",
       "      <td>248.80</td>\n",
       "      <td>2015</td>\n",
       "    </tr>\n",
       "    <tr>\n",
       "      <th>3</th>\n",
       "      <td>Fenway</td>\n",
       "      <td>185</td>\n",
       "      <td>249.91</td>\n",
       "      <td>2015</td>\n",
       "    </tr>\n",
       "    <tr>\n",
       "      <th>4</th>\n",
       "      <td>Dorchester</td>\n",
       "      <td>166</td>\n",
       "      <td>104.14</td>\n",
       "      <td>2015</td>\n",
       "    </tr>\n",
       "    <tr>\n",
       "      <th>5</th>\n",
       "      <td>South Boston</td>\n",
       "      <td>114</td>\n",
       "      <td>191.62</td>\n",
       "      <td>2015</td>\n",
       "    </tr>\n",
       "    <tr>\n",
       "      <th>6</th>\n",
       "      <td>Downtown</td>\n",
       "      <td>103</td>\n",
       "      <td>243.82</td>\n",
       "      <td>2015</td>\n",
       "    </tr>\n",
       "  </tbody>\n",
       "</table>\n",
       "</div>"
      ],
      "text/plain": [
       "  neighbourhood  number_of_listings  average_price  year\n",
       "0     South End                 251         216.96  2015\n",
       "1       Allston                 223         128.91  2015\n",
       "2      Back Bay                 206         248.80  2015\n",
       "3        Fenway                 185         249.91  2015\n",
       "4    Dorchester                 166         104.14  2015\n",
       "5  South Boston                 114         191.62  2015\n",
       "6      Downtown                 103         243.82  2015"
      ]
     },
     "execution_count": 17,
     "metadata": {},
     "output_type": "execute_result"
    }
   ],
   "source": [
    "neighbourhood_data_2015 = neighbourhood_data_analysis(\"data/Boston/2015/October/listings.csv\", 2015)\n",
    "neighbourhood_data_2015.toPandas()"
   ]
  },
  {
   "cell_type": "markdown",
   "metadata": {},
   "source": [
    "Let's combine all the dataframes"
   ]
  },
  {
   "cell_type": "code",
   "execution_count": 18,
   "metadata": {},
   "outputs": [],
   "source": [
    "neighbourhood_data = neighbourhood_data_2020.union(neighbourhood_data_2019)\n",
    "neighbourhood_data = neighbourhood_data.union(neighbourhood_data_2018)\n",
    "neighbourhood_data = neighbourhood_data.union(neighbourhood_data_2017)\n",
    "neighbourhood_data = neighbourhood_data.union(neighbourhood_data_2016)\n",
    "neighbourhood_data = neighbourhood_data.union(neighbourhood_data_2015)"
   ]
  },
  {
   "cell_type": "code",
   "execution_count": 19,
   "metadata": {},
   "outputs": [],
   "source": [
    "neighbourhood_data = neighbourhood_data.withColumn(\"number_of_listings\", neighbourhood_data[\"number_of_listings\"].cast(IntegerType()))"
   ]
  },
  {
   "cell_type": "markdown",
   "metadata": {},
   "source": [
    "Let's plot it"
   ]
  },
  {
   "cell_type": "code",
   "execution_count": 20,
   "metadata": {},
   "outputs": [],
   "source": [
    "import plotly.express as px"
   ]
  },
  {
   "cell_type": "code",
   "execution_count": 21,
   "metadata": {},
   "outputs": [
    {
     "data": {
      "application/vnd.plotly.v1+json": {
       "config": {
        "plotlyServerURL": "https://plot.ly"
       },
       "data": [
        {
         "hovertemplate": "neighbourhood=Dorchester<br>variable=number_of_listings<br>year=%{x}<br>value=%{y}<extra></extra>",
         "legendgroup": "Dorchester",
         "line": {
          "color": "#636efa",
          "dash": "solid"
         },
         "mode": "lines",
         "name": "Dorchester",
         "orientation": "v",
         "showlegend": true,
         "type": "scatter",
         "x": [
          2020,
          2019,
          2018,
          2017,
          2016,
          2015
         ],
         "xaxis": "x",
         "y": [
          420,
          558,
          519,
          398,
          269,
          166
         ],
         "yaxis": "y"
        },
        {
         "hovertemplate": "neighbourhood=Downtown<br>variable=number_of_listings<br>year=%{x}<br>value=%{y}<extra></extra>",
         "legendgroup": "Downtown",
         "line": {
          "color": "#EF553B",
          "dash": "solid"
         },
         "mode": "lines",
         "name": "Downtown",
         "orientation": "v",
         "showlegend": true,
         "type": "scatter",
         "x": [
          2020,
          2019,
          2018,
          2017,
          2016,
          2015
         ],
         "xaxis": "x",
         "y": [
          277,
          498,
          361,
          295,
          172,
          103
         ],
         "yaxis": "y"
        },
        {
         "hovertemplate": "neighbourhood=Back Bay<br>variable=number_of_listings<br>year=%{x}<br>value=%{y}<extra></extra>",
         "legendgroup": "Back Bay",
         "line": {
          "color": "#00cc96",
          "dash": "solid"
         },
         "mode": "lines",
         "name": "Back Bay",
         "orientation": "v",
         "showlegend": true,
         "type": "scatter",
         "x": [
          2020,
          2019,
          2018,
          2017,
          2016,
          2015
         ],
         "xaxis": "x",
         "y": [
          224,
          471,
          464,
          410,
          302,
          206
         ],
         "yaxis": "y"
        },
        {
         "hovertemplate": "neighbourhood=South End<br>variable=number_of_listings<br>year=%{x}<br>value=%{y}<extra></extra>",
         "legendgroup": "South End",
         "line": {
          "color": "#ab63fa",
          "dash": "solid"
         },
         "mode": "lines",
         "name": "South End",
         "orientation": "v",
         "showlegend": true,
         "type": "scatter",
         "x": [
          2020,
          2019,
          2018,
          2017,
          2016,
          2015
         ],
         "xaxis": "x",
         "y": [
          214,
          404,
          406,
          354,
          326,
          251
         ],
         "yaxis": "y"
        },
        {
         "hovertemplate": "neighbourhood=Allston<br>variable=number_of_listings<br>year=%{x}<br>value=%{y}<extra></extra>",
         "legendgroup": "Allston",
         "line": {
          "color": "#FFA15A",
          "dash": "solid"
         },
         "mode": "lines",
         "name": "Allston",
         "orientation": "v",
         "showlegend": true,
         "type": "scatter",
         "x": [
          2020,
          2019,
          2018,
          2017,
          2016,
          2015
         ],
         "xaxis": "x",
         "y": [
          197,
          338,
          393,
          297,
          260,
          223
         ],
         "yaxis": "y"
        },
        {
         "hovertemplate": "neighbourhood=South Boston<br>variable=number_of_listings<br>year=%{x}<br>value=%{y}<extra></extra>",
         "legendgroup": "South Boston",
         "line": {
          "color": "#19d3f3",
          "dash": "solid"
         },
         "mode": "lines",
         "name": "South Boston",
         "orientation": "v",
         "showlegend": true,
         "type": "scatter",
         "x": [
          2020,
          2019,
          2018,
          2017,
          2016,
          2015
         ],
         "xaxis": "x",
         "y": [
          168,
          333,
          312,
          264,
          174,
          114
         ],
         "yaxis": "y"
        },
        {
         "hovertemplate": "neighbourhood=Fenway<br>variable=number_of_listings<br>year=%{x}<br>value=%{y}<extra></extra>",
         "legendgroup": "Fenway",
         "line": {
          "color": "#FF6692",
          "dash": "solid"
         },
         "mode": "lines",
         "name": "Fenway",
         "orientation": "v",
         "showlegend": true,
         "type": "scatter",
         "x": [
          2020,
          2019,
          2018,
          2017,
          2016,
          2015
         ],
         "xaxis": "x",
         "y": [
          167,
          400,
          498,
          357,
          290,
          185
         ],
         "yaxis": "y"
        }
       ],
       "layout": {
        "legend": {
         "title": {
          "text": "neighbourhood"
         },
         "tracegroupgap": 0
        },
        "margin": {
         "t": 60
        },
        "template": {
         "data": {
          "bar": [
           {
            "error_x": {
             "color": "#2a3f5f"
            },
            "error_y": {
             "color": "#2a3f5f"
            },
            "marker": {
             "line": {
              "color": "#E5ECF6",
              "width": 0.5
             }
            },
            "type": "bar"
           }
          ],
          "barpolar": [
           {
            "marker": {
             "line": {
              "color": "#E5ECF6",
              "width": 0.5
             }
            },
            "type": "barpolar"
           }
          ],
          "carpet": [
           {
            "aaxis": {
             "endlinecolor": "#2a3f5f",
             "gridcolor": "white",
             "linecolor": "white",
             "minorgridcolor": "white",
             "startlinecolor": "#2a3f5f"
            },
            "baxis": {
             "endlinecolor": "#2a3f5f",
             "gridcolor": "white",
             "linecolor": "white",
             "minorgridcolor": "white",
             "startlinecolor": "#2a3f5f"
            },
            "type": "carpet"
           }
          ],
          "choropleth": [
           {
            "colorbar": {
             "outlinewidth": 0,
             "ticks": ""
            },
            "type": "choropleth"
           }
          ],
          "contour": [
           {
            "colorbar": {
             "outlinewidth": 0,
             "ticks": ""
            },
            "colorscale": [
             [
              0,
              "#0d0887"
             ],
             [
              0.1111111111111111,
              "#46039f"
             ],
             [
              0.2222222222222222,
              "#7201a8"
             ],
             [
              0.3333333333333333,
              "#9c179e"
             ],
             [
              0.4444444444444444,
              "#bd3786"
             ],
             [
              0.5555555555555556,
              "#d8576b"
             ],
             [
              0.6666666666666666,
              "#ed7953"
             ],
             [
              0.7777777777777778,
              "#fb9f3a"
             ],
             [
              0.8888888888888888,
              "#fdca26"
             ],
             [
              1,
              "#f0f921"
             ]
            ],
            "type": "contour"
           }
          ],
          "contourcarpet": [
           {
            "colorbar": {
             "outlinewidth": 0,
             "ticks": ""
            },
            "type": "contourcarpet"
           }
          ],
          "heatmap": [
           {
            "colorbar": {
             "outlinewidth": 0,
             "ticks": ""
            },
            "colorscale": [
             [
              0,
              "#0d0887"
             ],
             [
              0.1111111111111111,
              "#46039f"
             ],
             [
              0.2222222222222222,
              "#7201a8"
             ],
             [
              0.3333333333333333,
              "#9c179e"
             ],
             [
              0.4444444444444444,
              "#bd3786"
             ],
             [
              0.5555555555555556,
              "#d8576b"
             ],
             [
              0.6666666666666666,
              "#ed7953"
             ],
             [
              0.7777777777777778,
              "#fb9f3a"
             ],
             [
              0.8888888888888888,
              "#fdca26"
             ],
             [
              1,
              "#f0f921"
             ]
            ],
            "type": "heatmap"
           }
          ],
          "heatmapgl": [
           {
            "colorbar": {
             "outlinewidth": 0,
             "ticks": ""
            },
            "colorscale": [
             [
              0,
              "#0d0887"
             ],
             [
              0.1111111111111111,
              "#46039f"
             ],
             [
              0.2222222222222222,
              "#7201a8"
             ],
             [
              0.3333333333333333,
              "#9c179e"
             ],
             [
              0.4444444444444444,
              "#bd3786"
             ],
             [
              0.5555555555555556,
              "#d8576b"
             ],
             [
              0.6666666666666666,
              "#ed7953"
             ],
             [
              0.7777777777777778,
              "#fb9f3a"
             ],
             [
              0.8888888888888888,
              "#fdca26"
             ],
             [
              1,
              "#f0f921"
             ]
            ],
            "type": "heatmapgl"
           }
          ],
          "histogram": [
           {
            "marker": {
             "colorbar": {
              "outlinewidth": 0,
              "ticks": ""
             }
            },
            "type": "histogram"
           }
          ],
          "histogram2d": [
           {
            "colorbar": {
             "outlinewidth": 0,
             "ticks": ""
            },
            "colorscale": [
             [
              0,
              "#0d0887"
             ],
             [
              0.1111111111111111,
              "#46039f"
             ],
             [
              0.2222222222222222,
              "#7201a8"
             ],
             [
              0.3333333333333333,
              "#9c179e"
             ],
             [
              0.4444444444444444,
              "#bd3786"
             ],
             [
              0.5555555555555556,
              "#d8576b"
             ],
             [
              0.6666666666666666,
              "#ed7953"
             ],
             [
              0.7777777777777778,
              "#fb9f3a"
             ],
             [
              0.8888888888888888,
              "#fdca26"
             ],
             [
              1,
              "#f0f921"
             ]
            ],
            "type": "histogram2d"
           }
          ],
          "histogram2dcontour": [
           {
            "colorbar": {
             "outlinewidth": 0,
             "ticks": ""
            },
            "colorscale": [
             [
              0,
              "#0d0887"
             ],
             [
              0.1111111111111111,
              "#46039f"
             ],
             [
              0.2222222222222222,
              "#7201a8"
             ],
             [
              0.3333333333333333,
              "#9c179e"
             ],
             [
              0.4444444444444444,
              "#bd3786"
             ],
             [
              0.5555555555555556,
              "#d8576b"
             ],
             [
              0.6666666666666666,
              "#ed7953"
             ],
             [
              0.7777777777777778,
              "#fb9f3a"
             ],
             [
              0.8888888888888888,
              "#fdca26"
             ],
             [
              1,
              "#f0f921"
             ]
            ],
            "type": "histogram2dcontour"
           }
          ],
          "mesh3d": [
           {
            "colorbar": {
             "outlinewidth": 0,
             "ticks": ""
            },
            "type": "mesh3d"
           }
          ],
          "parcoords": [
           {
            "line": {
             "colorbar": {
              "outlinewidth": 0,
              "ticks": ""
             }
            },
            "type": "parcoords"
           }
          ],
          "pie": [
           {
            "automargin": true,
            "type": "pie"
           }
          ],
          "scatter": [
           {
            "marker": {
             "colorbar": {
              "outlinewidth": 0,
              "ticks": ""
             }
            },
            "type": "scatter"
           }
          ],
          "scatter3d": [
           {
            "line": {
             "colorbar": {
              "outlinewidth": 0,
              "ticks": ""
             }
            },
            "marker": {
             "colorbar": {
              "outlinewidth": 0,
              "ticks": ""
             }
            },
            "type": "scatter3d"
           }
          ],
          "scattercarpet": [
           {
            "marker": {
             "colorbar": {
              "outlinewidth": 0,
              "ticks": ""
             }
            },
            "type": "scattercarpet"
           }
          ],
          "scattergeo": [
           {
            "marker": {
             "colorbar": {
              "outlinewidth": 0,
              "ticks": ""
             }
            },
            "type": "scattergeo"
           }
          ],
          "scattergl": [
           {
            "marker": {
             "colorbar": {
              "outlinewidth": 0,
              "ticks": ""
             }
            },
            "type": "scattergl"
           }
          ],
          "scattermapbox": [
           {
            "marker": {
             "colorbar": {
              "outlinewidth": 0,
              "ticks": ""
             }
            },
            "type": "scattermapbox"
           }
          ],
          "scatterpolar": [
           {
            "marker": {
             "colorbar": {
              "outlinewidth": 0,
              "ticks": ""
             }
            },
            "type": "scatterpolar"
           }
          ],
          "scatterpolargl": [
           {
            "marker": {
             "colorbar": {
              "outlinewidth": 0,
              "ticks": ""
             }
            },
            "type": "scatterpolargl"
           }
          ],
          "scatterternary": [
           {
            "marker": {
             "colorbar": {
              "outlinewidth": 0,
              "ticks": ""
             }
            },
            "type": "scatterternary"
           }
          ],
          "surface": [
           {
            "colorbar": {
             "outlinewidth": 0,
             "ticks": ""
            },
            "colorscale": [
             [
              0,
              "#0d0887"
             ],
             [
              0.1111111111111111,
              "#46039f"
             ],
             [
              0.2222222222222222,
              "#7201a8"
             ],
             [
              0.3333333333333333,
              "#9c179e"
             ],
             [
              0.4444444444444444,
              "#bd3786"
             ],
             [
              0.5555555555555556,
              "#d8576b"
             ],
             [
              0.6666666666666666,
              "#ed7953"
             ],
             [
              0.7777777777777778,
              "#fb9f3a"
             ],
             [
              0.8888888888888888,
              "#fdca26"
             ],
             [
              1,
              "#f0f921"
             ]
            ],
            "type": "surface"
           }
          ],
          "table": [
           {
            "cells": {
             "fill": {
              "color": "#EBF0F8"
             },
             "line": {
              "color": "white"
             }
            },
            "header": {
             "fill": {
              "color": "#C8D4E3"
             },
             "line": {
              "color": "white"
             }
            },
            "type": "table"
           }
          ]
         },
         "layout": {
          "annotationdefaults": {
           "arrowcolor": "#2a3f5f",
           "arrowhead": 0,
           "arrowwidth": 1
          },
          "coloraxis": {
           "colorbar": {
            "outlinewidth": 0,
            "ticks": ""
           }
          },
          "colorscale": {
           "diverging": [
            [
             0,
             "#8e0152"
            ],
            [
             0.1,
             "#c51b7d"
            ],
            [
             0.2,
             "#de77ae"
            ],
            [
             0.3,
             "#f1b6da"
            ],
            [
             0.4,
             "#fde0ef"
            ],
            [
             0.5,
             "#f7f7f7"
            ],
            [
             0.6,
             "#e6f5d0"
            ],
            [
             0.7,
             "#b8e186"
            ],
            [
             0.8,
             "#7fbc41"
            ],
            [
             0.9,
             "#4d9221"
            ],
            [
             1,
             "#276419"
            ]
           ],
           "sequential": [
            [
             0,
             "#0d0887"
            ],
            [
             0.1111111111111111,
             "#46039f"
            ],
            [
             0.2222222222222222,
             "#7201a8"
            ],
            [
             0.3333333333333333,
             "#9c179e"
            ],
            [
             0.4444444444444444,
             "#bd3786"
            ],
            [
             0.5555555555555556,
             "#d8576b"
            ],
            [
             0.6666666666666666,
             "#ed7953"
            ],
            [
             0.7777777777777778,
             "#fb9f3a"
            ],
            [
             0.8888888888888888,
             "#fdca26"
            ],
            [
             1,
             "#f0f921"
            ]
           ],
           "sequentialminus": [
            [
             0,
             "#0d0887"
            ],
            [
             0.1111111111111111,
             "#46039f"
            ],
            [
             0.2222222222222222,
             "#7201a8"
            ],
            [
             0.3333333333333333,
             "#9c179e"
            ],
            [
             0.4444444444444444,
             "#bd3786"
            ],
            [
             0.5555555555555556,
             "#d8576b"
            ],
            [
             0.6666666666666666,
             "#ed7953"
            ],
            [
             0.7777777777777778,
             "#fb9f3a"
            ],
            [
             0.8888888888888888,
             "#fdca26"
            ],
            [
             1,
             "#f0f921"
            ]
           ]
          },
          "colorway": [
           "#636efa",
           "#EF553B",
           "#00cc96",
           "#ab63fa",
           "#FFA15A",
           "#19d3f3",
           "#FF6692",
           "#B6E880",
           "#FF97FF",
           "#FECB52"
          ],
          "font": {
           "color": "#2a3f5f"
          },
          "geo": {
           "bgcolor": "white",
           "lakecolor": "white",
           "landcolor": "#E5ECF6",
           "showlakes": true,
           "showland": true,
           "subunitcolor": "white"
          },
          "hoverlabel": {
           "align": "left"
          },
          "hovermode": "closest",
          "mapbox": {
           "style": "light"
          },
          "paper_bgcolor": "white",
          "plot_bgcolor": "#E5ECF6",
          "polar": {
           "angularaxis": {
            "gridcolor": "white",
            "linecolor": "white",
            "ticks": ""
           },
           "bgcolor": "#E5ECF6",
           "radialaxis": {
            "gridcolor": "white",
            "linecolor": "white",
            "ticks": ""
           }
          },
          "scene": {
           "xaxis": {
            "backgroundcolor": "#E5ECF6",
            "gridcolor": "white",
            "gridwidth": 2,
            "linecolor": "white",
            "showbackground": true,
            "ticks": "",
            "zerolinecolor": "white"
           },
           "yaxis": {
            "backgroundcolor": "#E5ECF6",
            "gridcolor": "white",
            "gridwidth": 2,
            "linecolor": "white",
            "showbackground": true,
            "ticks": "",
            "zerolinecolor": "white"
           },
           "zaxis": {
            "backgroundcolor": "#E5ECF6",
            "gridcolor": "white",
            "gridwidth": 2,
            "linecolor": "white",
            "showbackground": true,
            "ticks": "",
            "zerolinecolor": "white"
           }
          },
          "shapedefaults": {
           "line": {
            "color": "#2a3f5f"
           }
          },
          "ternary": {
           "aaxis": {
            "gridcolor": "white",
            "linecolor": "white",
            "ticks": ""
           },
           "baxis": {
            "gridcolor": "white",
            "linecolor": "white",
            "ticks": ""
           },
           "bgcolor": "#E5ECF6",
           "caxis": {
            "gridcolor": "white",
            "linecolor": "white",
            "ticks": ""
           }
          },
          "title": {
           "x": 0.05
          },
          "xaxis": {
           "automargin": true,
           "gridcolor": "white",
           "linecolor": "white",
           "ticks": "",
           "title": {
            "standoff": 15
           },
           "zerolinecolor": "white",
           "zerolinewidth": 2
          },
          "yaxis": {
           "automargin": true,
           "gridcolor": "white",
           "linecolor": "white",
           "ticks": "",
           "title": {
            "standoff": 15
           },
           "zerolinecolor": "white",
           "zerolinewidth": 2
          }
         }
        },
        "xaxis": {
         "anchor": "y",
         "domain": [
          0,
          1
         ],
         "title": {
          "text": "year"
         }
        },
        "yaxis": {
         "anchor": "x",
         "domain": [
          0,
          1
         ],
         "title": {
          "text": "value"
         }
        }
       }
      },
      "text/html": [
       "<div>\n",
       "        \n",
       "        \n",
       "            <div id=\"7b643fc9-f299-4692-967d-3e2c2a76155d\" class=\"plotly-graph-div\" style=\"height:525px; width:100%;\"></div>\n",
       "            <script type=\"text/javascript\">\n",
       "                require([\"plotly\"], function(Plotly) {\n",
       "                    window.PLOTLYENV=window.PLOTLYENV || {};\n",
       "                    \n",
       "                if (document.getElementById(\"7b643fc9-f299-4692-967d-3e2c2a76155d\")) {\n",
       "                    Plotly.newPlot(\n",
       "                        '7b643fc9-f299-4692-967d-3e2c2a76155d',\n",
       "                        [{\"hovertemplate\": \"neighbourhood=Dorchester<br>variable=number_of_listings<br>year=%{x}<br>value=%{y}<extra></extra>\", \"legendgroup\": \"Dorchester\", \"line\": {\"color\": \"#636efa\", \"dash\": \"solid\"}, \"mode\": \"lines\", \"name\": \"Dorchester\", \"orientation\": \"v\", \"showlegend\": true, \"type\": \"scatter\", \"x\": [2020, 2019, 2018, 2017, 2016, 2015], \"xaxis\": \"x\", \"y\": [420, 558, 519, 398, 269, 166], \"yaxis\": \"y\"}, {\"hovertemplate\": \"neighbourhood=Downtown<br>variable=number_of_listings<br>year=%{x}<br>value=%{y}<extra></extra>\", \"legendgroup\": \"Downtown\", \"line\": {\"color\": \"#EF553B\", \"dash\": \"solid\"}, \"mode\": \"lines\", \"name\": \"Downtown\", \"orientation\": \"v\", \"showlegend\": true, \"type\": \"scatter\", \"x\": [2020, 2019, 2018, 2017, 2016, 2015], \"xaxis\": \"x\", \"y\": [277, 498, 361, 295, 172, 103], \"yaxis\": \"y\"}, {\"hovertemplate\": \"neighbourhood=Back Bay<br>variable=number_of_listings<br>year=%{x}<br>value=%{y}<extra></extra>\", \"legendgroup\": \"Back Bay\", \"line\": {\"color\": \"#00cc96\", \"dash\": \"solid\"}, \"mode\": \"lines\", \"name\": \"Back Bay\", \"orientation\": \"v\", \"showlegend\": true, \"type\": \"scatter\", \"x\": [2020, 2019, 2018, 2017, 2016, 2015], \"xaxis\": \"x\", \"y\": [224, 471, 464, 410, 302, 206], \"yaxis\": \"y\"}, {\"hovertemplate\": \"neighbourhood=South End<br>variable=number_of_listings<br>year=%{x}<br>value=%{y}<extra></extra>\", \"legendgroup\": \"South End\", \"line\": {\"color\": \"#ab63fa\", \"dash\": \"solid\"}, \"mode\": \"lines\", \"name\": \"South End\", \"orientation\": \"v\", \"showlegend\": true, \"type\": \"scatter\", \"x\": [2020, 2019, 2018, 2017, 2016, 2015], \"xaxis\": \"x\", \"y\": [214, 404, 406, 354, 326, 251], \"yaxis\": \"y\"}, {\"hovertemplate\": \"neighbourhood=Allston<br>variable=number_of_listings<br>year=%{x}<br>value=%{y}<extra></extra>\", \"legendgroup\": \"Allston\", \"line\": {\"color\": \"#FFA15A\", \"dash\": \"solid\"}, \"mode\": \"lines\", \"name\": \"Allston\", \"orientation\": \"v\", \"showlegend\": true, \"type\": \"scatter\", \"x\": [2020, 2019, 2018, 2017, 2016, 2015], \"xaxis\": \"x\", \"y\": [197, 338, 393, 297, 260, 223], \"yaxis\": \"y\"}, {\"hovertemplate\": \"neighbourhood=South Boston<br>variable=number_of_listings<br>year=%{x}<br>value=%{y}<extra></extra>\", \"legendgroup\": \"South Boston\", \"line\": {\"color\": \"#19d3f3\", \"dash\": \"solid\"}, \"mode\": \"lines\", \"name\": \"South Boston\", \"orientation\": \"v\", \"showlegend\": true, \"type\": \"scatter\", \"x\": [2020, 2019, 2018, 2017, 2016, 2015], \"xaxis\": \"x\", \"y\": [168, 333, 312, 264, 174, 114], \"yaxis\": \"y\"}, {\"hovertemplate\": \"neighbourhood=Fenway<br>variable=number_of_listings<br>year=%{x}<br>value=%{y}<extra></extra>\", \"legendgroup\": \"Fenway\", \"line\": {\"color\": \"#FF6692\", \"dash\": \"solid\"}, \"mode\": \"lines\", \"name\": \"Fenway\", \"orientation\": \"v\", \"showlegend\": true, \"type\": \"scatter\", \"x\": [2020, 2019, 2018, 2017, 2016, 2015], \"xaxis\": \"x\", \"y\": [167, 400, 498, 357, 290, 185], \"yaxis\": \"y\"}],\n",
       "                        {\"legend\": {\"title\": {\"text\": \"neighbourhood\"}, \"tracegroupgap\": 0}, \"margin\": {\"t\": 60}, \"template\": {\"data\": {\"bar\": [{\"error_x\": {\"color\": \"#2a3f5f\"}, \"error_y\": {\"color\": \"#2a3f5f\"}, \"marker\": {\"line\": {\"color\": \"#E5ECF6\", \"width\": 0.5}}, \"type\": \"bar\"}], \"barpolar\": [{\"marker\": {\"line\": {\"color\": \"#E5ECF6\", \"width\": 0.5}}, \"type\": \"barpolar\"}], \"carpet\": [{\"aaxis\": {\"endlinecolor\": \"#2a3f5f\", \"gridcolor\": \"white\", \"linecolor\": \"white\", \"minorgridcolor\": \"white\", \"startlinecolor\": \"#2a3f5f\"}, \"baxis\": {\"endlinecolor\": \"#2a3f5f\", \"gridcolor\": \"white\", \"linecolor\": \"white\", \"minorgridcolor\": \"white\", \"startlinecolor\": \"#2a3f5f\"}, \"type\": \"carpet\"}], \"choropleth\": [{\"colorbar\": {\"outlinewidth\": 0, \"ticks\": \"\"}, \"type\": \"choropleth\"}], \"contour\": [{\"colorbar\": {\"outlinewidth\": 0, \"ticks\": \"\"}, \"colorscale\": [[0.0, \"#0d0887\"], [0.1111111111111111, \"#46039f\"], [0.2222222222222222, \"#7201a8\"], [0.3333333333333333, \"#9c179e\"], [0.4444444444444444, \"#bd3786\"], [0.5555555555555556, \"#d8576b\"], [0.6666666666666666, \"#ed7953\"], [0.7777777777777778, \"#fb9f3a\"], [0.8888888888888888, \"#fdca26\"], [1.0, \"#f0f921\"]], \"type\": \"contour\"}], \"contourcarpet\": [{\"colorbar\": {\"outlinewidth\": 0, \"ticks\": \"\"}, \"type\": \"contourcarpet\"}], \"heatmap\": [{\"colorbar\": {\"outlinewidth\": 0, \"ticks\": \"\"}, \"colorscale\": [[0.0, \"#0d0887\"], [0.1111111111111111, \"#46039f\"], [0.2222222222222222, \"#7201a8\"], [0.3333333333333333, \"#9c179e\"], [0.4444444444444444, \"#bd3786\"], [0.5555555555555556, \"#d8576b\"], [0.6666666666666666, \"#ed7953\"], [0.7777777777777778, \"#fb9f3a\"], [0.8888888888888888, \"#fdca26\"], [1.0, \"#f0f921\"]], \"type\": \"heatmap\"}], \"heatmapgl\": [{\"colorbar\": {\"outlinewidth\": 0, \"ticks\": \"\"}, \"colorscale\": [[0.0, \"#0d0887\"], [0.1111111111111111, \"#46039f\"], [0.2222222222222222, \"#7201a8\"], [0.3333333333333333, \"#9c179e\"], [0.4444444444444444, \"#bd3786\"], [0.5555555555555556, \"#d8576b\"], [0.6666666666666666, \"#ed7953\"], [0.7777777777777778, \"#fb9f3a\"], [0.8888888888888888, \"#fdca26\"], [1.0, \"#f0f921\"]], \"type\": \"heatmapgl\"}], \"histogram\": [{\"marker\": {\"colorbar\": {\"outlinewidth\": 0, \"ticks\": \"\"}}, \"type\": \"histogram\"}], \"histogram2d\": [{\"colorbar\": {\"outlinewidth\": 0, \"ticks\": \"\"}, \"colorscale\": [[0.0, \"#0d0887\"], [0.1111111111111111, \"#46039f\"], [0.2222222222222222, \"#7201a8\"], [0.3333333333333333, \"#9c179e\"], [0.4444444444444444, \"#bd3786\"], [0.5555555555555556, \"#d8576b\"], [0.6666666666666666, \"#ed7953\"], [0.7777777777777778, \"#fb9f3a\"], [0.8888888888888888, \"#fdca26\"], [1.0, \"#f0f921\"]], \"type\": \"histogram2d\"}], \"histogram2dcontour\": [{\"colorbar\": {\"outlinewidth\": 0, \"ticks\": \"\"}, \"colorscale\": [[0.0, \"#0d0887\"], [0.1111111111111111, \"#46039f\"], [0.2222222222222222, \"#7201a8\"], [0.3333333333333333, \"#9c179e\"], [0.4444444444444444, \"#bd3786\"], [0.5555555555555556, \"#d8576b\"], [0.6666666666666666, \"#ed7953\"], [0.7777777777777778, \"#fb9f3a\"], [0.8888888888888888, \"#fdca26\"], [1.0, \"#f0f921\"]], \"type\": \"histogram2dcontour\"}], \"mesh3d\": [{\"colorbar\": {\"outlinewidth\": 0, \"ticks\": \"\"}, \"type\": \"mesh3d\"}], \"parcoords\": [{\"line\": {\"colorbar\": {\"outlinewidth\": 0, \"ticks\": \"\"}}, \"type\": \"parcoords\"}], \"pie\": [{\"automargin\": true, \"type\": \"pie\"}], \"scatter\": [{\"marker\": {\"colorbar\": {\"outlinewidth\": 0, \"ticks\": \"\"}}, \"type\": \"scatter\"}], \"scatter3d\": [{\"line\": {\"colorbar\": {\"outlinewidth\": 0, \"ticks\": \"\"}}, \"marker\": {\"colorbar\": {\"outlinewidth\": 0, \"ticks\": \"\"}}, \"type\": \"scatter3d\"}], \"scattercarpet\": [{\"marker\": {\"colorbar\": {\"outlinewidth\": 0, \"ticks\": \"\"}}, \"type\": \"scattercarpet\"}], \"scattergeo\": [{\"marker\": {\"colorbar\": {\"outlinewidth\": 0, \"ticks\": \"\"}}, \"type\": \"scattergeo\"}], \"scattergl\": [{\"marker\": {\"colorbar\": {\"outlinewidth\": 0, \"ticks\": \"\"}}, \"type\": \"scattergl\"}], \"scattermapbox\": [{\"marker\": {\"colorbar\": {\"outlinewidth\": 0, \"ticks\": \"\"}}, \"type\": \"scattermapbox\"}], \"scatterpolar\": [{\"marker\": {\"colorbar\": {\"outlinewidth\": 0, \"ticks\": \"\"}}, \"type\": \"scatterpolar\"}], \"scatterpolargl\": [{\"marker\": {\"colorbar\": {\"outlinewidth\": 0, \"ticks\": \"\"}}, \"type\": \"scatterpolargl\"}], \"scatterternary\": [{\"marker\": {\"colorbar\": {\"outlinewidth\": 0, \"ticks\": \"\"}}, \"type\": \"scatterternary\"}], \"surface\": [{\"colorbar\": {\"outlinewidth\": 0, \"ticks\": \"\"}, \"colorscale\": [[0.0, \"#0d0887\"], [0.1111111111111111, \"#46039f\"], [0.2222222222222222, \"#7201a8\"], [0.3333333333333333, \"#9c179e\"], [0.4444444444444444, \"#bd3786\"], [0.5555555555555556, \"#d8576b\"], [0.6666666666666666, \"#ed7953\"], [0.7777777777777778, \"#fb9f3a\"], [0.8888888888888888, \"#fdca26\"], [1.0, \"#f0f921\"]], \"type\": \"surface\"}], \"table\": [{\"cells\": {\"fill\": {\"color\": \"#EBF0F8\"}, \"line\": {\"color\": \"white\"}}, \"header\": {\"fill\": {\"color\": \"#C8D4E3\"}, \"line\": {\"color\": \"white\"}}, \"type\": \"table\"}]}, \"layout\": {\"annotationdefaults\": {\"arrowcolor\": \"#2a3f5f\", \"arrowhead\": 0, \"arrowwidth\": 1}, \"coloraxis\": {\"colorbar\": {\"outlinewidth\": 0, \"ticks\": \"\"}}, \"colorscale\": {\"diverging\": [[0, \"#8e0152\"], [0.1, \"#c51b7d\"], [0.2, \"#de77ae\"], [0.3, \"#f1b6da\"], [0.4, \"#fde0ef\"], [0.5, \"#f7f7f7\"], [0.6, \"#e6f5d0\"], [0.7, \"#b8e186\"], [0.8, \"#7fbc41\"], [0.9, \"#4d9221\"], [1, \"#276419\"]], \"sequential\": [[0.0, \"#0d0887\"], [0.1111111111111111, \"#46039f\"], [0.2222222222222222, \"#7201a8\"], [0.3333333333333333, \"#9c179e\"], [0.4444444444444444, \"#bd3786\"], [0.5555555555555556, \"#d8576b\"], [0.6666666666666666, \"#ed7953\"], [0.7777777777777778, \"#fb9f3a\"], [0.8888888888888888, \"#fdca26\"], [1.0, \"#f0f921\"]], \"sequentialminus\": [[0.0, \"#0d0887\"], [0.1111111111111111, \"#46039f\"], [0.2222222222222222, \"#7201a8\"], [0.3333333333333333, \"#9c179e\"], [0.4444444444444444, \"#bd3786\"], [0.5555555555555556, \"#d8576b\"], [0.6666666666666666, \"#ed7953\"], [0.7777777777777778, \"#fb9f3a\"], [0.8888888888888888, \"#fdca26\"], [1.0, \"#f0f921\"]]}, \"colorway\": [\"#636efa\", \"#EF553B\", \"#00cc96\", \"#ab63fa\", \"#FFA15A\", \"#19d3f3\", \"#FF6692\", \"#B6E880\", \"#FF97FF\", \"#FECB52\"], \"font\": {\"color\": \"#2a3f5f\"}, \"geo\": {\"bgcolor\": \"white\", \"lakecolor\": \"white\", \"landcolor\": \"#E5ECF6\", \"showlakes\": true, \"showland\": true, \"subunitcolor\": \"white\"}, \"hoverlabel\": {\"align\": \"left\"}, \"hovermode\": \"closest\", \"mapbox\": {\"style\": \"light\"}, \"paper_bgcolor\": \"white\", \"plot_bgcolor\": \"#E5ECF6\", \"polar\": {\"angularaxis\": {\"gridcolor\": \"white\", \"linecolor\": \"white\", \"ticks\": \"\"}, \"bgcolor\": \"#E5ECF6\", \"radialaxis\": {\"gridcolor\": \"white\", \"linecolor\": \"white\", \"ticks\": \"\"}}, \"scene\": {\"xaxis\": {\"backgroundcolor\": \"#E5ECF6\", \"gridcolor\": \"white\", \"gridwidth\": 2, \"linecolor\": \"white\", \"showbackground\": true, \"ticks\": \"\", \"zerolinecolor\": \"white\"}, \"yaxis\": {\"backgroundcolor\": \"#E5ECF6\", \"gridcolor\": \"white\", \"gridwidth\": 2, \"linecolor\": \"white\", \"showbackground\": true, \"ticks\": \"\", \"zerolinecolor\": \"white\"}, \"zaxis\": {\"backgroundcolor\": \"#E5ECF6\", \"gridcolor\": \"white\", \"gridwidth\": 2, \"linecolor\": \"white\", \"showbackground\": true, \"ticks\": \"\", \"zerolinecolor\": \"white\"}}, \"shapedefaults\": {\"line\": {\"color\": \"#2a3f5f\"}}, \"ternary\": {\"aaxis\": {\"gridcolor\": \"white\", \"linecolor\": \"white\", \"ticks\": \"\"}, \"baxis\": {\"gridcolor\": \"white\", \"linecolor\": \"white\", \"ticks\": \"\"}, \"bgcolor\": \"#E5ECF6\", \"caxis\": {\"gridcolor\": \"white\", \"linecolor\": \"white\", \"ticks\": \"\"}}, \"title\": {\"x\": 0.05}, \"xaxis\": {\"automargin\": true, \"gridcolor\": \"white\", \"linecolor\": \"white\", \"ticks\": \"\", \"title\": {\"standoff\": 15}, \"zerolinecolor\": \"white\", \"zerolinewidth\": 2}, \"yaxis\": {\"automargin\": true, \"gridcolor\": \"white\", \"linecolor\": \"white\", \"ticks\": \"\", \"title\": {\"standoff\": 15}, \"zerolinecolor\": \"white\", \"zerolinewidth\": 2}}}, \"xaxis\": {\"anchor\": \"y\", \"domain\": [0.0, 1.0], \"title\": {\"text\": \"year\"}}, \"yaxis\": {\"anchor\": \"x\", \"domain\": [0.0, 1.0], \"title\": {\"text\": \"value\"}}},\n",
       "                        {\"responsive\": true}\n",
       "                    ).then(function(){\n",
       "                            \n",
       "var gd = document.getElementById('7b643fc9-f299-4692-967d-3e2c2a76155d');\n",
       "var x = new MutationObserver(function (mutations, observer) {{\n",
       "        var display = window.getComputedStyle(gd).display;\n",
       "        if (!display || display === 'none') {{\n",
       "            console.log([gd, 'removed!']);\n",
       "            Plotly.purge(gd);\n",
       "            observer.disconnect();\n",
       "        }}\n",
       "}});\n",
       "\n",
       "// Listen for the removal of the full notebook cells\n",
       "var notebookContainer = gd.closest('#notebook-container');\n",
       "if (notebookContainer) {{\n",
       "    x.observe(notebookContainer, {childList: true});\n",
       "}}\n",
       "\n",
       "// Listen for the clearing of the current output cell\n",
       "var outputEl = gd.closest('.output');\n",
       "if (outputEl) {{\n",
       "    x.observe(outputEl, {childList: true});\n",
       "}}\n",
       "\n",
       "                        })\n",
       "                };\n",
       "                });\n",
       "            </script>\n",
       "        </div>"
      ]
     },
     "metadata": {},
     "output_type": "display_data"
    }
   ],
   "source": [
    "fig = px.line(neighbourhood_data.toPandas(), x=\"year\", y=[\"number_of_listings\"], color='neighbourhood')\n",
    "fig.show()"
   ]
  },
  {
   "cell_type": "code",
   "execution_count": 22,
   "metadata": {},
   "outputs": [
    {
     "data": {
      "application/vnd.plotly.v1+json": {
       "config": {
        "plotlyServerURL": "https://plot.ly"
       },
       "data": [
        {
         "hovertemplate": "neighbourhood=Dorchester<br>variable=average_price<br>year=%{x}<br>value=%{y}<extra></extra>",
         "legendgroup": "Dorchester",
         "line": {
          "color": "#636efa",
          "dash": "solid"
         },
         "mode": "lines",
         "name": "Dorchester",
         "orientation": "v",
         "showlegend": true,
         "type": "scatter",
         "x": [
          2020,
          2019,
          2018,
          2017,
          2016,
          2015
         ],
         "xaxis": "x",
         "y": [
          159.15,
          107.04,
          99.11,
          98.26,
          91.64,
          104.14
         ],
         "yaxis": "y"
        },
        {
         "hovertemplate": "neighbourhood=Downtown<br>variable=average_price<br>year=%{x}<br>value=%{y}<extra></extra>",
         "legendgroup": "Downtown",
         "line": {
          "color": "#EF553B",
          "dash": "solid"
         },
         "mode": "lines",
         "name": "Downtown",
         "orientation": "v",
         "showlegend": true,
         "type": "scatter",
         "x": [
          2020,
          2019,
          2018,
          2017,
          2016,
          2015
         ],
         "xaxis": "x",
         "y": [
          304.44,
          264.05,
          252.73,
          252.32,
          236.46,
          243.82
         ],
         "yaxis": "y"
        },
        {
         "hovertemplate": "neighbourhood=Back Bay<br>variable=average_price<br>year=%{x}<br>value=%{y}<extra></extra>",
         "legendgroup": "Back Bay",
         "line": {
          "color": "#00cc96",
          "dash": "solid"
         },
         "mode": "lines",
         "name": "Back Bay",
         "orientation": "v",
         "showlegend": true,
         "type": "scatter",
         "x": [
          2020,
          2019,
          2018,
          2017,
          2016,
          2015
         ],
         "xaxis": "x",
         "y": [
          259.63,
          332.59,
          248.84,
          239.88,
          240.95,
          248.8
         ],
         "yaxis": "y"
        },
        {
         "hovertemplate": "neighbourhood=South End<br>variable=average_price<br>year=%{x}<br>value=%{y}<extra></extra>",
         "legendgroup": "South End",
         "line": {
          "color": "#ab63fa",
          "dash": "solid"
         },
         "mode": "lines",
         "name": "South End",
         "orientation": "v",
         "showlegend": true,
         "type": "scatter",
         "x": [
          2020,
          2019,
          2018,
          2017,
          2016,
          2015
         ],
         "xaxis": "x",
         "y": [
          171.21,
          227.28,
          212.26,
          214.52,
          204.35,
          216.96
         ],
         "yaxis": "y"
        },
        {
         "hovertemplate": "neighbourhood=Allston<br>variable=average_price<br>year=%{x}<br>value=%{y}<extra></extra>",
         "legendgroup": "Allston",
         "line": {
          "color": "#FFA15A",
          "dash": "solid"
         },
         "mode": "lines",
         "name": "Allston",
         "orientation": "v",
         "showlegend": true,
         "type": "scatter",
         "x": [
          2020,
          2019,
          2018,
          2017,
          2016,
          2015
         ],
         "xaxis": "x",
         "y": [
          107.5,
          181.63,
          156.82,
          99.63,
          112.31,
          128.91
         ],
         "yaxis": "y"
        },
        {
         "hovertemplate": "neighbourhood=South Boston<br>variable=average_price<br>year=%{x}<br>value=%{y}<extra></extra>",
         "legendgroup": "South Boston",
         "line": {
          "color": "#19d3f3",
          "dash": "solid"
         },
         "mode": "lines",
         "name": "South Boston",
         "orientation": "v",
         "showlegend": true,
         "type": "scatter",
         "x": [
          2020,
          2019,
          2018,
          2017,
          2016,
          2015
         ],
         "xaxis": "x",
         "y": [
          191.32,
          225.68,
          211.29,
          197.83,
          187.61,
          191.62
         ],
         "yaxis": "y"
        },
        {
         "hovertemplate": "neighbourhood=Fenway<br>variable=average_price<br>year=%{x}<br>value=%{y}<extra></extra>",
         "legendgroup": "Fenway",
         "line": {
          "color": "#FF6692",
          "dash": "solid"
         },
         "mode": "lines",
         "name": "Fenway",
         "orientation": "v",
         "showlegend": true,
         "type": "scatter",
         "x": [
          2020,
          2019,
          2018,
          2017,
          2016,
          2015
         ],
         "xaxis": "x",
         "y": [
          224.37,
          235.58,
          237.59,
          210.86,
          220.39,
          249.91
         ],
         "yaxis": "y"
        }
       ],
       "layout": {
        "legend": {
         "title": {
          "text": "neighbourhood"
         },
         "tracegroupgap": 0
        },
        "margin": {
         "t": 60
        },
        "template": {
         "data": {
          "bar": [
           {
            "error_x": {
             "color": "#2a3f5f"
            },
            "error_y": {
             "color": "#2a3f5f"
            },
            "marker": {
             "line": {
              "color": "#E5ECF6",
              "width": 0.5
             }
            },
            "type": "bar"
           }
          ],
          "barpolar": [
           {
            "marker": {
             "line": {
              "color": "#E5ECF6",
              "width": 0.5
             }
            },
            "type": "barpolar"
           }
          ],
          "carpet": [
           {
            "aaxis": {
             "endlinecolor": "#2a3f5f",
             "gridcolor": "white",
             "linecolor": "white",
             "minorgridcolor": "white",
             "startlinecolor": "#2a3f5f"
            },
            "baxis": {
             "endlinecolor": "#2a3f5f",
             "gridcolor": "white",
             "linecolor": "white",
             "minorgridcolor": "white",
             "startlinecolor": "#2a3f5f"
            },
            "type": "carpet"
           }
          ],
          "choropleth": [
           {
            "colorbar": {
             "outlinewidth": 0,
             "ticks": ""
            },
            "type": "choropleth"
           }
          ],
          "contour": [
           {
            "colorbar": {
             "outlinewidth": 0,
             "ticks": ""
            },
            "colorscale": [
             [
              0,
              "#0d0887"
             ],
             [
              0.1111111111111111,
              "#46039f"
             ],
             [
              0.2222222222222222,
              "#7201a8"
             ],
             [
              0.3333333333333333,
              "#9c179e"
             ],
             [
              0.4444444444444444,
              "#bd3786"
             ],
             [
              0.5555555555555556,
              "#d8576b"
             ],
             [
              0.6666666666666666,
              "#ed7953"
             ],
             [
              0.7777777777777778,
              "#fb9f3a"
             ],
             [
              0.8888888888888888,
              "#fdca26"
             ],
             [
              1,
              "#f0f921"
             ]
            ],
            "type": "contour"
           }
          ],
          "contourcarpet": [
           {
            "colorbar": {
             "outlinewidth": 0,
             "ticks": ""
            },
            "type": "contourcarpet"
           }
          ],
          "heatmap": [
           {
            "colorbar": {
             "outlinewidth": 0,
             "ticks": ""
            },
            "colorscale": [
             [
              0,
              "#0d0887"
             ],
             [
              0.1111111111111111,
              "#46039f"
             ],
             [
              0.2222222222222222,
              "#7201a8"
             ],
             [
              0.3333333333333333,
              "#9c179e"
             ],
             [
              0.4444444444444444,
              "#bd3786"
             ],
             [
              0.5555555555555556,
              "#d8576b"
             ],
             [
              0.6666666666666666,
              "#ed7953"
             ],
             [
              0.7777777777777778,
              "#fb9f3a"
             ],
             [
              0.8888888888888888,
              "#fdca26"
             ],
             [
              1,
              "#f0f921"
             ]
            ],
            "type": "heatmap"
           }
          ],
          "heatmapgl": [
           {
            "colorbar": {
             "outlinewidth": 0,
             "ticks": ""
            },
            "colorscale": [
             [
              0,
              "#0d0887"
             ],
             [
              0.1111111111111111,
              "#46039f"
             ],
             [
              0.2222222222222222,
              "#7201a8"
             ],
             [
              0.3333333333333333,
              "#9c179e"
             ],
             [
              0.4444444444444444,
              "#bd3786"
             ],
             [
              0.5555555555555556,
              "#d8576b"
             ],
             [
              0.6666666666666666,
              "#ed7953"
             ],
             [
              0.7777777777777778,
              "#fb9f3a"
             ],
             [
              0.8888888888888888,
              "#fdca26"
             ],
             [
              1,
              "#f0f921"
             ]
            ],
            "type": "heatmapgl"
           }
          ],
          "histogram": [
           {
            "marker": {
             "colorbar": {
              "outlinewidth": 0,
              "ticks": ""
             }
            },
            "type": "histogram"
           }
          ],
          "histogram2d": [
           {
            "colorbar": {
             "outlinewidth": 0,
             "ticks": ""
            },
            "colorscale": [
             [
              0,
              "#0d0887"
             ],
             [
              0.1111111111111111,
              "#46039f"
             ],
             [
              0.2222222222222222,
              "#7201a8"
             ],
             [
              0.3333333333333333,
              "#9c179e"
             ],
             [
              0.4444444444444444,
              "#bd3786"
             ],
             [
              0.5555555555555556,
              "#d8576b"
             ],
             [
              0.6666666666666666,
              "#ed7953"
             ],
             [
              0.7777777777777778,
              "#fb9f3a"
             ],
             [
              0.8888888888888888,
              "#fdca26"
             ],
             [
              1,
              "#f0f921"
             ]
            ],
            "type": "histogram2d"
           }
          ],
          "histogram2dcontour": [
           {
            "colorbar": {
             "outlinewidth": 0,
             "ticks": ""
            },
            "colorscale": [
             [
              0,
              "#0d0887"
             ],
             [
              0.1111111111111111,
              "#46039f"
             ],
             [
              0.2222222222222222,
              "#7201a8"
             ],
             [
              0.3333333333333333,
              "#9c179e"
             ],
             [
              0.4444444444444444,
              "#bd3786"
             ],
             [
              0.5555555555555556,
              "#d8576b"
             ],
             [
              0.6666666666666666,
              "#ed7953"
             ],
             [
              0.7777777777777778,
              "#fb9f3a"
             ],
             [
              0.8888888888888888,
              "#fdca26"
             ],
             [
              1,
              "#f0f921"
             ]
            ],
            "type": "histogram2dcontour"
           }
          ],
          "mesh3d": [
           {
            "colorbar": {
             "outlinewidth": 0,
             "ticks": ""
            },
            "type": "mesh3d"
           }
          ],
          "parcoords": [
           {
            "line": {
             "colorbar": {
              "outlinewidth": 0,
              "ticks": ""
             }
            },
            "type": "parcoords"
           }
          ],
          "pie": [
           {
            "automargin": true,
            "type": "pie"
           }
          ],
          "scatter": [
           {
            "marker": {
             "colorbar": {
              "outlinewidth": 0,
              "ticks": ""
             }
            },
            "type": "scatter"
           }
          ],
          "scatter3d": [
           {
            "line": {
             "colorbar": {
              "outlinewidth": 0,
              "ticks": ""
             }
            },
            "marker": {
             "colorbar": {
              "outlinewidth": 0,
              "ticks": ""
             }
            },
            "type": "scatter3d"
           }
          ],
          "scattercarpet": [
           {
            "marker": {
             "colorbar": {
              "outlinewidth": 0,
              "ticks": ""
             }
            },
            "type": "scattercarpet"
           }
          ],
          "scattergeo": [
           {
            "marker": {
             "colorbar": {
              "outlinewidth": 0,
              "ticks": ""
             }
            },
            "type": "scattergeo"
           }
          ],
          "scattergl": [
           {
            "marker": {
             "colorbar": {
              "outlinewidth": 0,
              "ticks": ""
             }
            },
            "type": "scattergl"
           }
          ],
          "scattermapbox": [
           {
            "marker": {
             "colorbar": {
              "outlinewidth": 0,
              "ticks": ""
             }
            },
            "type": "scattermapbox"
           }
          ],
          "scatterpolar": [
           {
            "marker": {
             "colorbar": {
              "outlinewidth": 0,
              "ticks": ""
             }
            },
            "type": "scatterpolar"
           }
          ],
          "scatterpolargl": [
           {
            "marker": {
             "colorbar": {
              "outlinewidth": 0,
              "ticks": ""
             }
            },
            "type": "scatterpolargl"
           }
          ],
          "scatterternary": [
           {
            "marker": {
             "colorbar": {
              "outlinewidth": 0,
              "ticks": ""
             }
            },
            "type": "scatterternary"
           }
          ],
          "surface": [
           {
            "colorbar": {
             "outlinewidth": 0,
             "ticks": ""
            },
            "colorscale": [
             [
              0,
              "#0d0887"
             ],
             [
              0.1111111111111111,
              "#46039f"
             ],
             [
              0.2222222222222222,
              "#7201a8"
             ],
             [
              0.3333333333333333,
              "#9c179e"
             ],
             [
              0.4444444444444444,
              "#bd3786"
             ],
             [
              0.5555555555555556,
              "#d8576b"
             ],
             [
              0.6666666666666666,
              "#ed7953"
             ],
             [
              0.7777777777777778,
              "#fb9f3a"
             ],
             [
              0.8888888888888888,
              "#fdca26"
             ],
             [
              1,
              "#f0f921"
             ]
            ],
            "type": "surface"
           }
          ],
          "table": [
           {
            "cells": {
             "fill": {
              "color": "#EBF0F8"
             },
             "line": {
              "color": "white"
             }
            },
            "header": {
             "fill": {
              "color": "#C8D4E3"
             },
             "line": {
              "color": "white"
             }
            },
            "type": "table"
           }
          ]
         },
         "layout": {
          "annotationdefaults": {
           "arrowcolor": "#2a3f5f",
           "arrowhead": 0,
           "arrowwidth": 1
          },
          "coloraxis": {
           "colorbar": {
            "outlinewidth": 0,
            "ticks": ""
           }
          },
          "colorscale": {
           "diverging": [
            [
             0,
             "#8e0152"
            ],
            [
             0.1,
             "#c51b7d"
            ],
            [
             0.2,
             "#de77ae"
            ],
            [
             0.3,
             "#f1b6da"
            ],
            [
             0.4,
             "#fde0ef"
            ],
            [
             0.5,
             "#f7f7f7"
            ],
            [
             0.6,
             "#e6f5d0"
            ],
            [
             0.7,
             "#b8e186"
            ],
            [
             0.8,
             "#7fbc41"
            ],
            [
             0.9,
             "#4d9221"
            ],
            [
             1,
             "#276419"
            ]
           ],
           "sequential": [
            [
             0,
             "#0d0887"
            ],
            [
             0.1111111111111111,
             "#46039f"
            ],
            [
             0.2222222222222222,
             "#7201a8"
            ],
            [
             0.3333333333333333,
             "#9c179e"
            ],
            [
             0.4444444444444444,
             "#bd3786"
            ],
            [
             0.5555555555555556,
             "#d8576b"
            ],
            [
             0.6666666666666666,
             "#ed7953"
            ],
            [
             0.7777777777777778,
             "#fb9f3a"
            ],
            [
             0.8888888888888888,
             "#fdca26"
            ],
            [
             1,
             "#f0f921"
            ]
           ],
           "sequentialminus": [
            [
             0,
             "#0d0887"
            ],
            [
             0.1111111111111111,
             "#46039f"
            ],
            [
             0.2222222222222222,
             "#7201a8"
            ],
            [
             0.3333333333333333,
             "#9c179e"
            ],
            [
             0.4444444444444444,
             "#bd3786"
            ],
            [
             0.5555555555555556,
             "#d8576b"
            ],
            [
             0.6666666666666666,
             "#ed7953"
            ],
            [
             0.7777777777777778,
             "#fb9f3a"
            ],
            [
             0.8888888888888888,
             "#fdca26"
            ],
            [
             1,
             "#f0f921"
            ]
           ]
          },
          "colorway": [
           "#636efa",
           "#EF553B",
           "#00cc96",
           "#ab63fa",
           "#FFA15A",
           "#19d3f3",
           "#FF6692",
           "#B6E880",
           "#FF97FF",
           "#FECB52"
          ],
          "font": {
           "color": "#2a3f5f"
          },
          "geo": {
           "bgcolor": "white",
           "lakecolor": "white",
           "landcolor": "#E5ECF6",
           "showlakes": true,
           "showland": true,
           "subunitcolor": "white"
          },
          "hoverlabel": {
           "align": "left"
          },
          "hovermode": "closest",
          "mapbox": {
           "style": "light"
          },
          "paper_bgcolor": "white",
          "plot_bgcolor": "#E5ECF6",
          "polar": {
           "angularaxis": {
            "gridcolor": "white",
            "linecolor": "white",
            "ticks": ""
           },
           "bgcolor": "#E5ECF6",
           "radialaxis": {
            "gridcolor": "white",
            "linecolor": "white",
            "ticks": ""
           }
          },
          "scene": {
           "xaxis": {
            "backgroundcolor": "#E5ECF6",
            "gridcolor": "white",
            "gridwidth": 2,
            "linecolor": "white",
            "showbackground": true,
            "ticks": "",
            "zerolinecolor": "white"
           },
           "yaxis": {
            "backgroundcolor": "#E5ECF6",
            "gridcolor": "white",
            "gridwidth": 2,
            "linecolor": "white",
            "showbackground": true,
            "ticks": "",
            "zerolinecolor": "white"
           },
           "zaxis": {
            "backgroundcolor": "#E5ECF6",
            "gridcolor": "white",
            "gridwidth": 2,
            "linecolor": "white",
            "showbackground": true,
            "ticks": "",
            "zerolinecolor": "white"
           }
          },
          "shapedefaults": {
           "line": {
            "color": "#2a3f5f"
           }
          },
          "ternary": {
           "aaxis": {
            "gridcolor": "white",
            "linecolor": "white",
            "ticks": ""
           },
           "baxis": {
            "gridcolor": "white",
            "linecolor": "white",
            "ticks": ""
           },
           "bgcolor": "#E5ECF6",
           "caxis": {
            "gridcolor": "white",
            "linecolor": "white",
            "ticks": ""
           }
          },
          "title": {
           "x": 0.05
          },
          "xaxis": {
           "automargin": true,
           "gridcolor": "white",
           "linecolor": "white",
           "ticks": "",
           "title": {
            "standoff": 15
           },
           "zerolinecolor": "white",
           "zerolinewidth": 2
          },
          "yaxis": {
           "automargin": true,
           "gridcolor": "white",
           "linecolor": "white",
           "ticks": "",
           "title": {
            "standoff": 15
           },
           "zerolinecolor": "white",
           "zerolinewidth": 2
          }
         }
        },
        "xaxis": {
         "anchor": "y",
         "domain": [
          0,
          1
         ],
         "title": {
          "text": "year"
         }
        },
        "yaxis": {
         "anchor": "x",
         "domain": [
          0,
          1
         ],
         "title": {
          "text": "value"
         }
        }
       }
      },
      "text/html": [
       "<div>\n",
       "        \n",
       "        \n",
       "            <div id=\"7675d586-615d-4472-bfb8-32c0c5f353db\" class=\"plotly-graph-div\" style=\"height:525px; width:100%;\"></div>\n",
       "            <script type=\"text/javascript\">\n",
       "                require([\"plotly\"], function(Plotly) {\n",
       "                    window.PLOTLYENV=window.PLOTLYENV || {};\n",
       "                    \n",
       "                if (document.getElementById(\"7675d586-615d-4472-bfb8-32c0c5f353db\")) {\n",
       "                    Plotly.newPlot(\n",
       "                        '7675d586-615d-4472-bfb8-32c0c5f353db',\n",
       "                        [{\"hovertemplate\": \"neighbourhood=Dorchester<br>variable=average_price<br>year=%{x}<br>value=%{y}<extra></extra>\", \"legendgroup\": \"Dorchester\", \"line\": {\"color\": \"#636efa\", \"dash\": \"solid\"}, \"mode\": \"lines\", \"name\": \"Dorchester\", \"orientation\": \"v\", \"showlegend\": true, \"type\": \"scatter\", \"x\": [2020, 2019, 2018, 2017, 2016, 2015], \"xaxis\": \"x\", \"y\": [159.15, 107.04, 99.11, 98.26, 91.64, 104.14], \"yaxis\": \"y\"}, {\"hovertemplate\": \"neighbourhood=Downtown<br>variable=average_price<br>year=%{x}<br>value=%{y}<extra></extra>\", \"legendgroup\": \"Downtown\", \"line\": {\"color\": \"#EF553B\", \"dash\": \"solid\"}, \"mode\": \"lines\", \"name\": \"Downtown\", \"orientation\": \"v\", \"showlegend\": true, \"type\": \"scatter\", \"x\": [2020, 2019, 2018, 2017, 2016, 2015], \"xaxis\": \"x\", \"y\": [304.44, 264.05, 252.73, 252.32, 236.46, 243.82], \"yaxis\": \"y\"}, {\"hovertemplate\": \"neighbourhood=Back Bay<br>variable=average_price<br>year=%{x}<br>value=%{y}<extra></extra>\", \"legendgroup\": \"Back Bay\", \"line\": {\"color\": \"#00cc96\", \"dash\": \"solid\"}, \"mode\": \"lines\", \"name\": \"Back Bay\", \"orientation\": \"v\", \"showlegend\": true, \"type\": \"scatter\", \"x\": [2020, 2019, 2018, 2017, 2016, 2015], \"xaxis\": \"x\", \"y\": [259.63, 332.59, 248.84, 239.88, 240.95, 248.8], \"yaxis\": \"y\"}, {\"hovertemplate\": \"neighbourhood=South End<br>variable=average_price<br>year=%{x}<br>value=%{y}<extra></extra>\", \"legendgroup\": \"South End\", \"line\": {\"color\": \"#ab63fa\", \"dash\": \"solid\"}, \"mode\": \"lines\", \"name\": \"South End\", \"orientation\": \"v\", \"showlegend\": true, \"type\": \"scatter\", \"x\": [2020, 2019, 2018, 2017, 2016, 2015], \"xaxis\": \"x\", \"y\": [171.21, 227.28, 212.26, 214.52, 204.35, 216.96], \"yaxis\": \"y\"}, {\"hovertemplate\": \"neighbourhood=Allston<br>variable=average_price<br>year=%{x}<br>value=%{y}<extra></extra>\", \"legendgroup\": \"Allston\", \"line\": {\"color\": \"#FFA15A\", \"dash\": \"solid\"}, \"mode\": \"lines\", \"name\": \"Allston\", \"orientation\": \"v\", \"showlegend\": true, \"type\": \"scatter\", \"x\": [2020, 2019, 2018, 2017, 2016, 2015], \"xaxis\": \"x\", \"y\": [107.5, 181.63, 156.82, 99.63, 112.31, 128.91], \"yaxis\": \"y\"}, {\"hovertemplate\": \"neighbourhood=South Boston<br>variable=average_price<br>year=%{x}<br>value=%{y}<extra></extra>\", \"legendgroup\": \"South Boston\", \"line\": {\"color\": \"#19d3f3\", \"dash\": \"solid\"}, \"mode\": \"lines\", \"name\": \"South Boston\", \"orientation\": \"v\", \"showlegend\": true, \"type\": \"scatter\", \"x\": [2020, 2019, 2018, 2017, 2016, 2015], \"xaxis\": \"x\", \"y\": [191.32, 225.68, 211.29, 197.83, 187.61, 191.62], \"yaxis\": \"y\"}, {\"hovertemplate\": \"neighbourhood=Fenway<br>variable=average_price<br>year=%{x}<br>value=%{y}<extra></extra>\", \"legendgroup\": \"Fenway\", \"line\": {\"color\": \"#FF6692\", \"dash\": \"solid\"}, \"mode\": \"lines\", \"name\": \"Fenway\", \"orientation\": \"v\", \"showlegend\": true, \"type\": \"scatter\", \"x\": [2020, 2019, 2018, 2017, 2016, 2015], \"xaxis\": \"x\", \"y\": [224.37, 235.58, 237.59, 210.86, 220.39, 249.91], \"yaxis\": \"y\"}],\n",
       "                        {\"legend\": {\"title\": {\"text\": \"neighbourhood\"}, \"tracegroupgap\": 0}, \"margin\": {\"t\": 60}, \"template\": {\"data\": {\"bar\": [{\"error_x\": {\"color\": \"#2a3f5f\"}, \"error_y\": {\"color\": \"#2a3f5f\"}, \"marker\": {\"line\": {\"color\": \"#E5ECF6\", \"width\": 0.5}}, \"type\": \"bar\"}], \"barpolar\": [{\"marker\": {\"line\": {\"color\": \"#E5ECF6\", \"width\": 0.5}}, \"type\": \"barpolar\"}], \"carpet\": [{\"aaxis\": {\"endlinecolor\": \"#2a3f5f\", \"gridcolor\": \"white\", \"linecolor\": \"white\", \"minorgridcolor\": \"white\", \"startlinecolor\": \"#2a3f5f\"}, \"baxis\": {\"endlinecolor\": \"#2a3f5f\", \"gridcolor\": \"white\", \"linecolor\": \"white\", \"minorgridcolor\": \"white\", \"startlinecolor\": \"#2a3f5f\"}, \"type\": \"carpet\"}], \"choropleth\": [{\"colorbar\": {\"outlinewidth\": 0, \"ticks\": \"\"}, \"type\": \"choropleth\"}], \"contour\": [{\"colorbar\": {\"outlinewidth\": 0, \"ticks\": \"\"}, \"colorscale\": [[0.0, \"#0d0887\"], [0.1111111111111111, \"#46039f\"], [0.2222222222222222, \"#7201a8\"], [0.3333333333333333, \"#9c179e\"], [0.4444444444444444, \"#bd3786\"], [0.5555555555555556, \"#d8576b\"], [0.6666666666666666, \"#ed7953\"], [0.7777777777777778, \"#fb9f3a\"], [0.8888888888888888, \"#fdca26\"], [1.0, \"#f0f921\"]], \"type\": \"contour\"}], \"contourcarpet\": [{\"colorbar\": {\"outlinewidth\": 0, \"ticks\": \"\"}, \"type\": \"contourcarpet\"}], \"heatmap\": [{\"colorbar\": {\"outlinewidth\": 0, \"ticks\": \"\"}, \"colorscale\": [[0.0, \"#0d0887\"], [0.1111111111111111, \"#46039f\"], [0.2222222222222222, \"#7201a8\"], [0.3333333333333333, \"#9c179e\"], [0.4444444444444444, \"#bd3786\"], [0.5555555555555556, \"#d8576b\"], [0.6666666666666666, \"#ed7953\"], [0.7777777777777778, \"#fb9f3a\"], [0.8888888888888888, \"#fdca26\"], [1.0, \"#f0f921\"]], \"type\": \"heatmap\"}], \"heatmapgl\": [{\"colorbar\": {\"outlinewidth\": 0, \"ticks\": \"\"}, \"colorscale\": [[0.0, \"#0d0887\"], [0.1111111111111111, \"#46039f\"], [0.2222222222222222, \"#7201a8\"], [0.3333333333333333, \"#9c179e\"], [0.4444444444444444, \"#bd3786\"], [0.5555555555555556, \"#d8576b\"], [0.6666666666666666, \"#ed7953\"], [0.7777777777777778, \"#fb9f3a\"], [0.8888888888888888, \"#fdca26\"], [1.0, \"#f0f921\"]], \"type\": \"heatmapgl\"}], \"histogram\": [{\"marker\": {\"colorbar\": {\"outlinewidth\": 0, \"ticks\": \"\"}}, \"type\": \"histogram\"}], \"histogram2d\": [{\"colorbar\": {\"outlinewidth\": 0, \"ticks\": \"\"}, \"colorscale\": [[0.0, \"#0d0887\"], [0.1111111111111111, \"#46039f\"], [0.2222222222222222, \"#7201a8\"], [0.3333333333333333, \"#9c179e\"], [0.4444444444444444, \"#bd3786\"], [0.5555555555555556, \"#d8576b\"], [0.6666666666666666, \"#ed7953\"], [0.7777777777777778, \"#fb9f3a\"], [0.8888888888888888, \"#fdca26\"], [1.0, \"#f0f921\"]], \"type\": \"histogram2d\"}], \"histogram2dcontour\": [{\"colorbar\": {\"outlinewidth\": 0, \"ticks\": \"\"}, \"colorscale\": [[0.0, \"#0d0887\"], [0.1111111111111111, \"#46039f\"], [0.2222222222222222, \"#7201a8\"], [0.3333333333333333, \"#9c179e\"], [0.4444444444444444, \"#bd3786\"], [0.5555555555555556, \"#d8576b\"], [0.6666666666666666, \"#ed7953\"], [0.7777777777777778, \"#fb9f3a\"], [0.8888888888888888, \"#fdca26\"], [1.0, \"#f0f921\"]], \"type\": \"histogram2dcontour\"}], \"mesh3d\": [{\"colorbar\": {\"outlinewidth\": 0, \"ticks\": \"\"}, \"type\": \"mesh3d\"}], \"parcoords\": [{\"line\": {\"colorbar\": {\"outlinewidth\": 0, \"ticks\": \"\"}}, \"type\": \"parcoords\"}], \"pie\": [{\"automargin\": true, \"type\": \"pie\"}], \"scatter\": [{\"marker\": {\"colorbar\": {\"outlinewidth\": 0, \"ticks\": \"\"}}, \"type\": \"scatter\"}], \"scatter3d\": [{\"line\": {\"colorbar\": {\"outlinewidth\": 0, \"ticks\": \"\"}}, \"marker\": {\"colorbar\": {\"outlinewidth\": 0, \"ticks\": \"\"}}, \"type\": \"scatter3d\"}], \"scattercarpet\": [{\"marker\": {\"colorbar\": {\"outlinewidth\": 0, \"ticks\": \"\"}}, \"type\": \"scattercarpet\"}], \"scattergeo\": [{\"marker\": {\"colorbar\": {\"outlinewidth\": 0, \"ticks\": \"\"}}, \"type\": \"scattergeo\"}], \"scattergl\": [{\"marker\": {\"colorbar\": {\"outlinewidth\": 0, \"ticks\": \"\"}}, \"type\": \"scattergl\"}], \"scattermapbox\": [{\"marker\": {\"colorbar\": {\"outlinewidth\": 0, \"ticks\": \"\"}}, \"type\": \"scattermapbox\"}], \"scatterpolar\": [{\"marker\": {\"colorbar\": {\"outlinewidth\": 0, \"ticks\": \"\"}}, \"type\": \"scatterpolar\"}], \"scatterpolargl\": [{\"marker\": {\"colorbar\": {\"outlinewidth\": 0, \"ticks\": \"\"}}, \"type\": \"scatterpolargl\"}], \"scatterternary\": [{\"marker\": {\"colorbar\": {\"outlinewidth\": 0, \"ticks\": \"\"}}, \"type\": \"scatterternary\"}], \"surface\": [{\"colorbar\": {\"outlinewidth\": 0, \"ticks\": \"\"}, \"colorscale\": [[0.0, \"#0d0887\"], [0.1111111111111111, \"#46039f\"], [0.2222222222222222, \"#7201a8\"], [0.3333333333333333, \"#9c179e\"], [0.4444444444444444, \"#bd3786\"], [0.5555555555555556, \"#d8576b\"], [0.6666666666666666, \"#ed7953\"], [0.7777777777777778, \"#fb9f3a\"], [0.8888888888888888, \"#fdca26\"], [1.0, \"#f0f921\"]], \"type\": \"surface\"}], \"table\": [{\"cells\": {\"fill\": {\"color\": \"#EBF0F8\"}, \"line\": {\"color\": \"white\"}}, \"header\": {\"fill\": {\"color\": \"#C8D4E3\"}, \"line\": {\"color\": \"white\"}}, \"type\": \"table\"}]}, \"layout\": {\"annotationdefaults\": {\"arrowcolor\": \"#2a3f5f\", \"arrowhead\": 0, \"arrowwidth\": 1}, \"coloraxis\": {\"colorbar\": {\"outlinewidth\": 0, \"ticks\": \"\"}}, \"colorscale\": {\"diverging\": [[0, \"#8e0152\"], [0.1, \"#c51b7d\"], [0.2, \"#de77ae\"], [0.3, \"#f1b6da\"], [0.4, \"#fde0ef\"], [0.5, \"#f7f7f7\"], [0.6, \"#e6f5d0\"], [0.7, \"#b8e186\"], [0.8, \"#7fbc41\"], [0.9, \"#4d9221\"], [1, \"#276419\"]], \"sequential\": [[0.0, \"#0d0887\"], [0.1111111111111111, \"#46039f\"], [0.2222222222222222, \"#7201a8\"], [0.3333333333333333, \"#9c179e\"], [0.4444444444444444, \"#bd3786\"], [0.5555555555555556, \"#d8576b\"], [0.6666666666666666, \"#ed7953\"], [0.7777777777777778, \"#fb9f3a\"], [0.8888888888888888, \"#fdca26\"], [1.0, \"#f0f921\"]], \"sequentialminus\": [[0.0, \"#0d0887\"], [0.1111111111111111, \"#46039f\"], [0.2222222222222222, \"#7201a8\"], [0.3333333333333333, \"#9c179e\"], [0.4444444444444444, \"#bd3786\"], [0.5555555555555556, \"#d8576b\"], [0.6666666666666666, \"#ed7953\"], [0.7777777777777778, \"#fb9f3a\"], [0.8888888888888888, \"#fdca26\"], [1.0, \"#f0f921\"]]}, \"colorway\": [\"#636efa\", \"#EF553B\", \"#00cc96\", \"#ab63fa\", \"#FFA15A\", \"#19d3f3\", \"#FF6692\", \"#B6E880\", \"#FF97FF\", \"#FECB52\"], \"font\": {\"color\": \"#2a3f5f\"}, \"geo\": {\"bgcolor\": \"white\", \"lakecolor\": \"white\", \"landcolor\": \"#E5ECF6\", \"showlakes\": true, \"showland\": true, \"subunitcolor\": \"white\"}, \"hoverlabel\": {\"align\": \"left\"}, \"hovermode\": \"closest\", \"mapbox\": {\"style\": \"light\"}, \"paper_bgcolor\": \"white\", \"plot_bgcolor\": \"#E5ECF6\", \"polar\": {\"angularaxis\": {\"gridcolor\": \"white\", \"linecolor\": \"white\", \"ticks\": \"\"}, \"bgcolor\": \"#E5ECF6\", \"radialaxis\": {\"gridcolor\": \"white\", \"linecolor\": \"white\", \"ticks\": \"\"}}, \"scene\": {\"xaxis\": {\"backgroundcolor\": \"#E5ECF6\", \"gridcolor\": \"white\", \"gridwidth\": 2, \"linecolor\": \"white\", \"showbackground\": true, \"ticks\": \"\", \"zerolinecolor\": \"white\"}, \"yaxis\": {\"backgroundcolor\": \"#E5ECF6\", \"gridcolor\": \"white\", \"gridwidth\": 2, \"linecolor\": \"white\", \"showbackground\": true, \"ticks\": \"\", \"zerolinecolor\": \"white\"}, \"zaxis\": {\"backgroundcolor\": \"#E5ECF6\", \"gridcolor\": \"white\", \"gridwidth\": 2, \"linecolor\": \"white\", \"showbackground\": true, \"ticks\": \"\", \"zerolinecolor\": \"white\"}}, \"shapedefaults\": {\"line\": {\"color\": \"#2a3f5f\"}}, \"ternary\": {\"aaxis\": {\"gridcolor\": \"white\", \"linecolor\": \"white\", \"ticks\": \"\"}, \"baxis\": {\"gridcolor\": \"white\", \"linecolor\": \"white\", \"ticks\": \"\"}, \"bgcolor\": \"#E5ECF6\", \"caxis\": {\"gridcolor\": \"white\", \"linecolor\": \"white\", \"ticks\": \"\"}}, \"title\": {\"x\": 0.05}, \"xaxis\": {\"automargin\": true, \"gridcolor\": \"white\", \"linecolor\": \"white\", \"ticks\": \"\", \"title\": {\"standoff\": 15}, \"zerolinecolor\": \"white\", \"zerolinewidth\": 2}, \"yaxis\": {\"automargin\": true, \"gridcolor\": \"white\", \"linecolor\": \"white\", \"ticks\": \"\", \"title\": {\"standoff\": 15}, \"zerolinecolor\": \"white\", \"zerolinewidth\": 2}}}, \"xaxis\": {\"anchor\": \"y\", \"domain\": [0.0, 1.0], \"title\": {\"text\": \"year\"}}, \"yaxis\": {\"anchor\": \"x\", \"domain\": [0.0, 1.0], \"title\": {\"text\": \"value\"}}},\n",
       "                        {\"responsive\": true}\n",
       "                    ).then(function(){\n",
       "                            \n",
       "var gd = document.getElementById('7675d586-615d-4472-bfb8-32c0c5f353db');\n",
       "var x = new MutationObserver(function (mutations, observer) {{\n",
       "        var display = window.getComputedStyle(gd).display;\n",
       "        if (!display || display === 'none') {{\n",
       "            console.log([gd, 'removed!']);\n",
       "            Plotly.purge(gd);\n",
       "            observer.disconnect();\n",
       "        }}\n",
       "}});\n",
       "\n",
       "// Listen for the removal of the full notebook cells\n",
       "var notebookContainer = gd.closest('#notebook-container');\n",
       "if (notebookContainer) {{\n",
       "    x.observe(notebookContainer, {childList: true});\n",
       "}}\n",
       "\n",
       "// Listen for the clearing of the current output cell\n",
       "var outputEl = gd.closest('.output');\n",
       "if (outputEl) {{\n",
       "    x.observe(outputEl, {childList: true});\n",
       "}}\n",
       "\n",
       "                        })\n",
       "                };\n",
       "                });\n",
       "            </script>\n",
       "        </div>"
      ]
     },
     "metadata": {},
     "output_type": "display_data"
    }
   ],
   "source": [
    "fig = px.line(neighbourhood_data.toPandas(), x=\"year\", y=[\"average_price\"], color='neighbourhood')\n",
    "fig.show()"
   ]
  },
  {
   "cell_type": "markdown",
   "metadata": {},
   "source": [
    "For average_price, we decided that we are going about it in the wrong way, since the listings had to be further divided into room_types to get a better estimate of how each neighbourhood has been affected"
   ]
  },
  {
   "cell_type": "markdown",
   "metadata": {},
   "source": [
    "For further analysis, we decided to incorporate review data for each listings, and gather the sentiments as well for each review."
   ]
  },
  {
   "cell_type": "markdown",
   "metadata": {},
   "source": [
    "We decided to take the top 3 neighbourhoods with the highest poverty rate in 2014(Ref: 'http://www.bostonplans.org/getattachment/f1ecaf8a-d529-40b6-a9bc-8b4419587b86')"
   ]
  },
  {
   "cell_type": "code",
   "execution_count": 23,
   "metadata": {},
   "outputs": [],
   "source": [
    "def get_complete_boston_data(listings_url, reviews_url, year):\n",
    "    spark.sparkContext.addFile(reviews_url)\n",
    "    spark.sparkContext.addFile(listings_url)\n",
    "    boston_reviews_df = spark.read.option(\"header\", \"true\").csv(SparkFiles.get(\"reviews.csv.gz\"))\n",
    "    boston_listings_df = spark.read.csv(SparkFiles.get(\"listings.csv\"), header=True)\n",
    "    boston_reviews_df = boston_reviews_df.where(\"comments != 'None'\")\n",
    "    boston_reviews_df = boston_reviews_df.withColumnRenamed(\"id\", \"review_id\")\n",
    "    boston_top_neighbourhood = boston_listings_df.join(boston_neighbourhoods_df, [\"neighbourhood\"] , \"left_semi\")\n",
    "    boston_top_neighbourhood = boston_top_neighbourhood.join(boston_reviews_df, boston_top_neighbourhood[\"id\"] == boston_reviews_df[\"listing_id\"], \"left\")\n",
    "    return boston_top_neighbourhood.withColumn(\"year\", F.lit(year))"
   ]
  },
  {
   "cell_type": "code",
   "execution_count": 24,
   "metadata": {},
   "outputs": [],
   "source": [
    "neighbourhoods_list = ['Fenway', 'Allston', 'Dorchester']\n",
    "boston_neighbourhoods_df = spark.createDataFrame(neighbourhoods_list, StringType())\n",
    "boston_neighbourhoods_df = boston_neighbourhoods_df.selectExpr(\"value as neighbourhood\")"
   ]
  },
  {
   "cell_type": "code",
   "execution_count": 25,
   "metadata": {},
   "outputs": [
    {
     "data": {
      "text/html": [
       "<div>\n",
       "<style scoped>\n",
       "    .dataframe tbody tr th:only-of-type {\n",
       "        vertical-align: middle;\n",
       "    }\n",
       "\n",
       "    .dataframe tbody tr th {\n",
       "        vertical-align: top;\n",
       "    }\n",
       "\n",
       "    .dataframe thead th {\n",
       "        text-align: right;\n",
       "    }\n",
       "</style>\n",
       "<table border=\"1\" class=\"dataframe\">\n",
       "  <thead>\n",
       "    <tr style=\"text-align: right;\">\n",
       "      <th></th>\n",
       "      <th>neighbourhood</th>\n",
       "      <th>id</th>\n",
       "      <th>name</th>\n",
       "      <th>host_id</th>\n",
       "      <th>host_name</th>\n",
       "      <th>neighbourhood_group</th>\n",
       "      <th>latitude</th>\n",
       "      <th>longitude</th>\n",
       "      <th>room_type</th>\n",
       "      <th>price</th>\n",
       "      <th>...</th>\n",
       "      <th>reviews_per_month</th>\n",
       "      <th>calculated_host_listings_count</th>\n",
       "      <th>availability_365</th>\n",
       "      <th>listing_id</th>\n",
       "      <th>review_id</th>\n",
       "      <th>date</th>\n",
       "      <th>reviewer_id</th>\n",
       "      <th>reviewer_name</th>\n",
       "      <th>comments</th>\n",
       "      <th>year</th>\n",
       "    </tr>\n",
       "  </thead>\n",
       "  <tbody>\n",
       "    <tr>\n",
       "      <th>0</th>\n",
       "      <td>Dorchester</td>\n",
       "      <td>22571244</td>\n",
       "      <td>✪2 Double beds 4mi to Downtown near subway fre...</td>\n",
       "      <td>25203946</td>\n",
       "      <td>Eder</td>\n",
       "      <td>None</td>\n",
       "      <td>42.30936</td>\n",
       "      <td>-71.06347</td>\n",
       "      <td>Private room</td>\n",
       "      <td>44</td>\n",
       "      <td>...</td>\n",
       "      <td>0.34</td>\n",
       "      <td>17</td>\n",
       "      <td>160</td>\n",
       "      <td>22571244</td>\n",
       "      <td>228392128</td>\n",
       "      <td>2018-01-19</td>\n",
       "      <td>162953953</td>\n",
       "      <td>Samuel</td>\n",
       "      <td>Really a nice stay. Warm accommodations. A lot...</td>\n",
       "      <td>2020</td>\n",
       "    </tr>\n",
       "    <tr>\n",
       "      <th>1</th>\n",
       "      <td>Dorchester</td>\n",
       "      <td>22571244</td>\n",
       "      <td>✪2 Double beds 4mi to Downtown near subway fre...</td>\n",
       "      <td>25203946</td>\n",
       "      <td>Eder</td>\n",
       "      <td>None</td>\n",
       "      <td>42.30936</td>\n",
       "      <td>-71.06347</td>\n",
       "      <td>Private room</td>\n",
       "      <td>44</td>\n",
       "      <td>...</td>\n",
       "      <td>0.34</td>\n",
       "      <td>17</td>\n",
       "      <td>160</td>\n",
       "      <td>22571244</td>\n",
       "      <td>232850966</td>\n",
       "      <td>2018-02-06</td>\n",
       "      <td>108441156</td>\n",
       "      <td>Loise Coleen</td>\n",
       "      <td>This place is a wonderful value in a very nice...</td>\n",
       "      <td>2020</td>\n",
       "    </tr>\n",
       "    <tr>\n",
       "      <th>2</th>\n",
       "      <td>Dorchester</td>\n",
       "      <td>22571244</td>\n",
       "      <td>✪2 Double beds 4mi to Downtown near subway fre...</td>\n",
       "      <td>25203946</td>\n",
       "      <td>Eder</td>\n",
       "      <td>None</td>\n",
       "      <td>42.30936</td>\n",
       "      <td>-71.06347</td>\n",
       "      <td>Private room</td>\n",
       "      <td>44</td>\n",
       "      <td>...</td>\n",
       "      <td>0.34</td>\n",
       "      <td>17</td>\n",
       "      <td>160</td>\n",
       "      <td>22571244</td>\n",
       "      <td>249045170</td>\n",
       "      <td>2018-04-01</td>\n",
       "      <td>50884175</td>\n",
       "      <td>Marcelo</td>\n",
       "      <td>Eder, is the best host I had so far! He’s amaz...</td>\n",
       "      <td>2020</td>\n",
       "    </tr>\n",
       "    <tr>\n",
       "      <th>3</th>\n",
       "      <td>Dorchester</td>\n",
       "      <td>22571244</td>\n",
       "      <td>✪2 Double beds 4mi to Downtown near subway fre...</td>\n",
       "      <td>25203946</td>\n",
       "      <td>Eder</td>\n",
       "      <td>None</td>\n",
       "      <td>42.30936</td>\n",
       "      <td>-71.06347</td>\n",
       "      <td>Private room</td>\n",
       "      <td>44</td>\n",
       "      <td>...</td>\n",
       "      <td>0.34</td>\n",
       "      <td>17</td>\n",
       "      <td>160</td>\n",
       "      <td>22571244</td>\n",
       "      <td>276689352</td>\n",
       "      <td>2018-06-14</td>\n",
       "      <td>126237644</td>\n",
       "      <td>Gloria</td>\n",
       "      <td>La casa è  molto confortevole e il marito di E...</td>\n",
       "      <td>2020</td>\n",
       "    </tr>\n",
       "    <tr>\n",
       "      <th>4</th>\n",
       "      <td>Dorchester</td>\n",
       "      <td>22571244</td>\n",
       "      <td>✪2 Double beds 4mi to Downtown near subway fre...</td>\n",
       "      <td>25203946</td>\n",
       "      <td>Eder</td>\n",
       "      <td>None</td>\n",
       "      <td>42.30936</td>\n",
       "      <td>-71.06347</td>\n",
       "      <td>Private room</td>\n",
       "      <td>44</td>\n",
       "      <td>...</td>\n",
       "      <td>0.34</td>\n",
       "      <td>17</td>\n",
       "      <td>160</td>\n",
       "      <td>22571244</td>\n",
       "      <td>279053437</td>\n",
       "      <td>2018-06-19</td>\n",
       "      <td>140123458</td>\n",
       "      <td>F</td>\n",
       "      <td>Located close to Boston, this place is a home ...</td>\n",
       "      <td>2020</td>\n",
       "    </tr>\n",
       "    <tr>\n",
       "      <th>...</th>\n",
       "      <td>...</td>\n",
       "      <td>...</td>\n",
       "      <td>...</td>\n",
       "      <td>...</td>\n",
       "      <td>...</td>\n",
       "      <td>...</td>\n",
       "      <td>...</td>\n",
       "      <td>...</td>\n",
       "      <td>...</td>\n",
       "      <td>...</td>\n",
       "      <td>...</td>\n",
       "      <td>...</td>\n",
       "      <td>...</td>\n",
       "      <td>...</td>\n",
       "      <td>...</td>\n",
       "      <td>...</td>\n",
       "      <td>...</td>\n",
       "      <td>...</td>\n",
       "      <td>...</td>\n",
       "      <td>...</td>\n",
       "      <td>...</td>\n",
       "    </tr>\n",
       "    <tr>\n",
       "      <th>29224</th>\n",
       "      <td>Allston</td>\n",
       "      <td>38131632</td>\n",
       "      <td>Gorgeous space in vibrant area, steps to the t614</td>\n",
       "      <td>18110188</td>\n",
       "      <td>Cindy</td>\n",
       "      <td>None</td>\n",
       "      <td>42.35192</td>\n",
       "      <td>-71.12404</td>\n",
       "      <td>Entire home/apt</td>\n",
       "      <td>133</td>\n",
       "      <td>...</td>\n",
       "      <td>3.71</td>\n",
       "      <td>48</td>\n",
       "      <td>78</td>\n",
       "      <td>38131632</td>\n",
       "      <td>614850845</td>\n",
       "      <td>2020-03-06</td>\n",
       "      <td>65276350</td>\n",
       "      <td>Patty</td>\n",
       "      <td>Es un apartamento</td>\n",
       "      <td>2020</td>\n",
       "    </tr>\n",
       "    <tr>\n",
       "      <th>29225</th>\n",
       "      <td>Allston</td>\n",
       "      <td>38131632</td>\n",
       "      <td>Gorgeous space in vibrant area, steps to the t614</td>\n",
       "      <td>18110188</td>\n",
       "      <td>Cindy</td>\n",
       "      <td>None</td>\n",
       "      <td>42.35192</td>\n",
       "      <td>-71.12404</td>\n",
       "      <td>Entire home/apt</td>\n",
       "      <td>133</td>\n",
       "      <td>...</td>\n",
       "      <td>3.71</td>\n",
       "      <td>48</td>\n",
       "      <td>78</td>\n",
       "      <td>38131632</td>\n",
       "      <td>616753381</td>\n",
       "      <td>2020-03-10</td>\n",
       "      <td>45242217</td>\n",
       "      <td>A&amp;J</td>\n",
       "      <td>Great space. Near many restaurants but also qu...</td>\n",
       "      <td>2020</td>\n",
       "    </tr>\n",
       "    <tr>\n",
       "      <th>29226</th>\n",
       "      <td>Allston</td>\n",
       "      <td>38131632</td>\n",
       "      <td>Gorgeous space in vibrant area, steps to the t614</td>\n",
       "      <td>18110188</td>\n",
       "      <td>Cindy</td>\n",
       "      <td>None</td>\n",
       "      <td>42.35192</td>\n",
       "      <td>-71.12404</td>\n",
       "      <td>Entire home/apt</td>\n",
       "      <td>133</td>\n",
       "      <td>...</td>\n",
       "      <td>3.71</td>\n",
       "      <td>48</td>\n",
       "      <td>78</td>\n",
       "      <td>38131632</td>\n",
       "      <td>617688297</td>\n",
       "      <td>2020-03-13</td>\n",
       "      <td>153288282</td>\n",
       "      <td>Rowan</td>\n",
       "      <td>Lovely stay! Definitely a great place for food...</td>\n",
       "      <td>2020</td>\n",
       "    </tr>\n",
       "    <tr>\n",
       "      <th>29227</th>\n",
       "      <td>Allston</td>\n",
       "      <td>38131632</td>\n",
       "      <td>Gorgeous space in vibrant area, steps to the t614</td>\n",
       "      <td>18110188</td>\n",
       "      <td>Cindy</td>\n",
       "      <td>None</td>\n",
       "      <td>42.35192</td>\n",
       "      <td>-71.12404</td>\n",
       "      <td>Entire home/apt</td>\n",
       "      <td>133</td>\n",
       "      <td>...</td>\n",
       "      <td>3.71</td>\n",
       "      <td>48</td>\n",
       "      <td>78</td>\n",
       "      <td>38131632</td>\n",
       "      <td>618083877</td>\n",
       "      <td>2020-03-14</td>\n",
       "      <td>313838678</td>\n",
       "      <td>Alisha</td>\n",
       "      <td>Good place for value</td>\n",
       "      <td>2020</td>\n",
       "    </tr>\n",
       "    <tr>\n",
       "      <th>29228</th>\n",
       "      <td>Allston</td>\n",
       "      <td>38131632</td>\n",
       "      <td>Gorgeous space in vibrant area, steps to the t614</td>\n",
       "      <td>18110188</td>\n",
       "      <td>Cindy</td>\n",
       "      <td>None</td>\n",
       "      <td>42.35192</td>\n",
       "      <td>-71.12404</td>\n",
       "      <td>Entire home/apt</td>\n",
       "      <td>133</td>\n",
       "      <td>...</td>\n",
       "      <td>3.71</td>\n",
       "      <td>48</td>\n",
       "      <td>78</td>\n",
       "      <td>38131632</td>\n",
       "      <td>622959291</td>\n",
       "      <td>2020-04-23</td>\n",
       "      <td>344369351</td>\n",
       "      <td>Adriana</td>\n",
       "      <td>Great!!!</td>\n",
       "      <td>2020</td>\n",
       "    </tr>\n",
       "  </tbody>\n",
       "</table>\n",
       "<p>29229 rows × 23 columns</p>\n",
       "</div>"
      ],
      "text/plain": [
       "      neighbourhood        id  \\\n",
       "0        Dorchester  22571244   \n",
       "1        Dorchester  22571244   \n",
       "2        Dorchester  22571244   \n",
       "3        Dorchester  22571244   \n",
       "4        Dorchester  22571244   \n",
       "...             ...       ...   \n",
       "29224       Allston  38131632   \n",
       "29225       Allston  38131632   \n",
       "29226       Allston  38131632   \n",
       "29227       Allston  38131632   \n",
       "29228       Allston  38131632   \n",
       "\n",
       "                                                    name   host_id host_name  \\\n",
       "0      ✪2 Double beds 4mi to Downtown near subway fre...  25203946      Eder   \n",
       "1      ✪2 Double beds 4mi to Downtown near subway fre...  25203946      Eder   \n",
       "2      ✪2 Double beds 4mi to Downtown near subway fre...  25203946      Eder   \n",
       "3      ✪2 Double beds 4mi to Downtown near subway fre...  25203946      Eder   \n",
       "4      ✪2 Double beds 4mi to Downtown near subway fre...  25203946      Eder   \n",
       "...                                                  ...       ...       ...   \n",
       "29224  Gorgeous space in vibrant area, steps to the t614  18110188     Cindy   \n",
       "29225  Gorgeous space in vibrant area, steps to the t614  18110188     Cindy   \n",
       "29226  Gorgeous space in vibrant area, steps to the t614  18110188     Cindy   \n",
       "29227  Gorgeous space in vibrant area, steps to the t614  18110188     Cindy   \n",
       "29228  Gorgeous space in vibrant area, steps to the t614  18110188     Cindy   \n",
       "\n",
       "      neighbourhood_group  latitude  longitude        room_type price  ...  \\\n",
       "0                    None  42.30936  -71.06347     Private room    44  ...   \n",
       "1                    None  42.30936  -71.06347     Private room    44  ...   \n",
       "2                    None  42.30936  -71.06347     Private room    44  ...   \n",
       "3                    None  42.30936  -71.06347     Private room    44  ...   \n",
       "4                    None  42.30936  -71.06347     Private room    44  ...   \n",
       "...                   ...       ...        ...              ...   ...  ...   \n",
       "29224                None  42.35192  -71.12404  Entire home/apt   133  ...   \n",
       "29225                None  42.35192  -71.12404  Entire home/apt   133  ...   \n",
       "29226                None  42.35192  -71.12404  Entire home/apt   133  ...   \n",
       "29227                None  42.35192  -71.12404  Entire home/apt   133  ...   \n",
       "29228                None  42.35192  -71.12404  Entire home/apt   133  ...   \n",
       "\n",
       "      reviews_per_month calculated_host_listings_count availability_365  \\\n",
       "0                  0.34                             17              160   \n",
       "1                  0.34                             17              160   \n",
       "2                  0.34                             17              160   \n",
       "3                  0.34                             17              160   \n",
       "4                  0.34                             17              160   \n",
       "...                 ...                            ...              ...   \n",
       "29224              3.71                             48               78   \n",
       "29225              3.71                             48               78   \n",
       "29226              3.71                             48               78   \n",
       "29227              3.71                             48               78   \n",
       "29228              3.71                             48               78   \n",
       "\n",
       "      listing_id  review_id        date reviewer_id reviewer_name  \\\n",
       "0       22571244  228392128  2018-01-19   162953953        Samuel   \n",
       "1       22571244  232850966  2018-02-06   108441156  Loise Coleen   \n",
       "2       22571244  249045170  2018-04-01    50884175       Marcelo   \n",
       "3       22571244  276689352  2018-06-14   126237644        Gloria   \n",
       "4       22571244  279053437  2018-06-19   140123458             F   \n",
       "...          ...        ...         ...         ...           ...   \n",
       "29224   38131632  614850845  2020-03-06    65276350         Patty   \n",
       "29225   38131632  616753381  2020-03-10    45242217           A&J   \n",
       "29226   38131632  617688297  2020-03-13   153288282         Rowan   \n",
       "29227   38131632  618083877  2020-03-14   313838678        Alisha   \n",
       "29228   38131632  622959291  2020-04-23   344369351       Adriana   \n",
       "\n",
       "                                                comments  year  \n",
       "0      Really a nice stay. Warm accommodations. A lot...  2020  \n",
       "1      This place is a wonderful value in a very nice...  2020  \n",
       "2      Eder, is the best host I had so far! He’s amaz...  2020  \n",
       "3      La casa è  molto confortevole e il marito di E...  2020  \n",
       "4      Located close to Boston, this place is a home ...  2020  \n",
       "...                                                  ...   ...  \n",
       "29224                                  Es un apartamento  2020  \n",
       "29225  Great space. Near many restaurants but also qu...  2020  \n",
       "29226  Lovely stay! Definitely a great place for food...  2020  \n",
       "29227                               Good place for value  2020  \n",
       "29228                                           Great!!!  2020  \n",
       "\n",
       "[29229 rows x 23 columns]"
      ]
     },
     "execution_count": 25,
     "metadata": {},
     "output_type": "execute_result"
    }
   ],
   "source": [
    "reviews_url = \"http://data.insideairbnb.com/united-states/ma/boston/2020-06-10/data/reviews.csv.gz\"\n",
    "listings_url = \"http://data.insideairbnb.com/united-states/ma/boston/2020-06-10/visualisations/listings.csv\"\n",
    "\n",
    "boston_neighbourhood_2020 = get_complete_boston_data(listings_url, reviews_url, 2020)\n",
    "boston_neighbourhood_2020.toPandas()"
   ]
  },
  {
   "cell_type": "code",
   "execution_count": 26,
   "metadata": {},
   "outputs": [
    {
     "data": {
      "text/html": [
       "<div>\n",
       "<style scoped>\n",
       "    .dataframe tbody tr th:only-of-type {\n",
       "        vertical-align: middle;\n",
       "    }\n",
       "\n",
       "    .dataframe tbody tr th {\n",
       "        vertical-align: top;\n",
       "    }\n",
       "\n",
       "    .dataframe thead th {\n",
       "        text-align: right;\n",
       "    }\n",
       "</style>\n",
       "<table border=\"1\" class=\"dataframe\">\n",
       "  <thead>\n",
       "    <tr style=\"text-align: right;\">\n",
       "      <th></th>\n",
       "      <th>neighbourhood</th>\n",
       "      <th>id</th>\n",
       "      <th>name</th>\n",
       "      <th>host_id</th>\n",
       "      <th>host_name</th>\n",
       "      <th>neighbourhood_group</th>\n",
       "      <th>latitude</th>\n",
       "      <th>longitude</th>\n",
       "      <th>room_type</th>\n",
       "      <th>price</th>\n",
       "      <th>...</th>\n",
       "      <th>reviews_per_month</th>\n",
       "      <th>calculated_host_listings_count</th>\n",
       "      <th>availability_365</th>\n",
       "      <th>listing_id</th>\n",
       "      <th>review_id</th>\n",
       "      <th>date</th>\n",
       "      <th>reviewer_id</th>\n",
       "      <th>reviewer_name</th>\n",
       "      <th>comments</th>\n",
       "      <th>year</th>\n",
       "    </tr>\n",
       "  </thead>\n",
       "  <tbody>\n",
       "    <tr>\n",
       "      <th>0</th>\n",
       "      <td>Dorchester</td>\n",
       "      <td>17063804</td>\n",
       "      <td>Jacques &amp; Smriti's large bright room by JFK-UMASS</td>\n",
       "      <td>57812241</td>\n",
       "      <td>Alexia</td>\n",
       "      <td>None</td>\n",
       "      <td>42.31838</td>\n",
       "      <td>-71.05671</td>\n",
       "      <td>Private room</td>\n",
       "      <td>75</td>\n",
       "      <td>...</td>\n",
       "      <td>0.20</td>\n",
       "      <td>7</td>\n",
       "      <td>219</td>\n",
       "      <td>17063804</td>\n",
       "      <td>152646064</td>\n",
       "      <td>2017-05-17</td>\n",
       "      <td>85499345</td>\n",
       "      <td>Smriti</td>\n",
       "      <td>Alexia is an amazing host and such a wonderful...</td>\n",
       "      <td>2019</td>\n",
       "    </tr>\n",
       "    <tr>\n",
       "      <th>1</th>\n",
       "      <td>Dorchester</td>\n",
       "      <td>17063804</td>\n",
       "      <td>Jacques &amp; Smriti's large bright room by JFK-UMASS</td>\n",
       "      <td>57812241</td>\n",
       "      <td>Alexia</td>\n",
       "      <td>None</td>\n",
       "      <td>42.31838</td>\n",
       "      <td>-71.05671</td>\n",
       "      <td>Private room</td>\n",
       "      <td>75</td>\n",
       "      <td>...</td>\n",
       "      <td>0.20</td>\n",
       "      <td>7</td>\n",
       "      <td>219</td>\n",
       "      <td>17063804</td>\n",
       "      <td>154022197</td>\n",
       "      <td>2017-05-22</td>\n",
       "      <td>52183481</td>\n",
       "      <td>Florin</td>\n",
       "      <td>Alexia is very friendly, good knowledge of the...</td>\n",
       "      <td>2019</td>\n",
       "    </tr>\n",
       "    <tr>\n",
       "      <th>2</th>\n",
       "      <td>Dorchester</td>\n",
       "      <td>17063804</td>\n",
       "      <td>Jacques &amp; Smriti's large bright room by JFK-UMASS</td>\n",
       "      <td>57812241</td>\n",
       "      <td>Alexia</td>\n",
       "      <td>None</td>\n",
       "      <td>42.31838</td>\n",
       "      <td>-71.05671</td>\n",
       "      <td>Private room</td>\n",
       "      <td>75</td>\n",
       "      <td>...</td>\n",
       "      <td>0.20</td>\n",
       "      <td>7</td>\n",
       "      <td>219</td>\n",
       "      <td>17063804</td>\n",
       "      <td>213046934</td>\n",
       "      <td>2017-11-19</td>\n",
       "      <td>156382082</td>\n",
       "      <td>Tamaki</td>\n",
       "      <td>Located within 15-minute-walk distance from JF...</td>\n",
       "      <td>2019</td>\n",
       "    </tr>\n",
       "    <tr>\n",
       "      <th>3</th>\n",
       "      <td>Dorchester</td>\n",
       "      <td>17063804</td>\n",
       "      <td>Jacques &amp; Smriti's large bright room by JFK-UMASS</td>\n",
       "      <td>57812241</td>\n",
       "      <td>Alexia</td>\n",
       "      <td>None</td>\n",
       "      <td>42.31838</td>\n",
       "      <td>-71.05671</td>\n",
       "      <td>Private room</td>\n",
       "      <td>75</td>\n",
       "      <td>...</td>\n",
       "      <td>0.20</td>\n",
       "      <td>7</td>\n",
       "      <td>219</td>\n",
       "      <td>17063804</td>\n",
       "      <td>254925324</td>\n",
       "      <td>2018-04-18</td>\n",
       "      <td>40103131</td>\n",
       "      <td>Haiko &amp; Fleur</td>\n",
       "      <td>Without doubt Alexia is the best airbnb host w...</td>\n",
       "      <td>2019</td>\n",
       "    </tr>\n",
       "    <tr>\n",
       "      <th>4</th>\n",
       "      <td>Dorchester</td>\n",
       "      <td>17063804</td>\n",
       "      <td>Jacques &amp; Smriti's large bright room by JFK-UMASS</td>\n",
       "      <td>57812241</td>\n",
       "      <td>Alexia</td>\n",
       "      <td>None</td>\n",
       "      <td>42.31838</td>\n",
       "      <td>-71.05671</td>\n",
       "      <td>Private room</td>\n",
       "      <td>75</td>\n",
       "      <td>...</td>\n",
       "      <td>0.20</td>\n",
       "      <td>7</td>\n",
       "      <td>219</td>\n",
       "      <td>17063804</td>\n",
       "      <td>264698249</td>\n",
       "      <td>2018-05-14</td>\n",
       "      <td>86247216</td>\n",
       "      <td>Mine</td>\n",
       "      <td>Great location: a short walk to the red line s...</td>\n",
       "      <td>2019</td>\n",
       "    </tr>\n",
       "    <tr>\n",
       "      <th>...</th>\n",
       "      <td>...</td>\n",
       "      <td>...</td>\n",
       "      <td>...</td>\n",
       "      <td>...</td>\n",
       "      <td>...</td>\n",
       "      <td>...</td>\n",
       "      <td>...</td>\n",
       "      <td>...</td>\n",
       "      <td>...</td>\n",
       "      <td>...</td>\n",
       "      <td>...</td>\n",
       "      <td>...</td>\n",
       "      <td>...</td>\n",
       "      <td>...</td>\n",
       "      <td>...</td>\n",
       "      <td>...</td>\n",
       "      <td>...</td>\n",
       "      <td>...</td>\n",
       "      <td>...</td>\n",
       "      <td>...</td>\n",
       "      <td>...</td>\n",
       "    </tr>\n",
       "    <tr>\n",
       "      <th>39882</th>\n",
       "      <td>Dorchester</td>\n",
       "      <td>26138090</td>\n",
       "      <td>Comfortable room in Dorchester (#1)</td>\n",
       "      <td>188413439</td>\n",
       "      <td>Hilson</td>\n",
       "      <td>None</td>\n",
       "      <td>42.3065</td>\n",
       "      <td>-71.06666</td>\n",
       "      <td>Private room</td>\n",
       "      <td>65</td>\n",
       "      <td>...</td>\n",
       "      <td>2.91</td>\n",
       "      <td>4</td>\n",
       "      <td>71</td>\n",
       "      <td>26138090</td>\n",
       "      <td>467659647</td>\n",
       "      <td>2019-06-10</td>\n",
       "      <td>221753343</td>\n",
       "      <td>Rohan</td>\n",
       "      <td>Air bnb itself is fine, area around not so good.</td>\n",
       "      <td>2019</td>\n",
       "    </tr>\n",
       "    <tr>\n",
       "      <th>39883</th>\n",
       "      <td>Allston</td>\n",
       "      <td>27991699</td>\n",
       "      <td>Boston Spot</td>\n",
       "      <td>211416849</td>\n",
       "      <td>Adam</td>\n",
       "      <td>None</td>\n",
       "      <td>42.35221</td>\n",
       "      <td>-71.14307</td>\n",
       "      <td>Private room</td>\n",
       "      <td>115</td>\n",
       "      <td>...</td>\n",
       "      <td>None</td>\n",
       "      <td>1</td>\n",
       "      <td>364</td>\n",
       "      <td>None</td>\n",
       "      <td>None</td>\n",
       "      <td>None</td>\n",
       "      <td>None</td>\n",
       "      <td>None</td>\n",
       "      <td>None</td>\n",
       "      <td>2019</td>\n",
       "    </tr>\n",
       "    <tr>\n",
       "      <th>39884</th>\n",
       "      <td>Dorchester</td>\n",
       "      <td>35238309</td>\n",
       "      <td>Location location location and so beautiful!!!...</td>\n",
       "      <td>261646616</td>\n",
       "      <td>Joseph</td>\n",
       "      <td>None</td>\n",
       "      <td>42.31584</td>\n",
       "      <td>-71.05796</td>\n",
       "      <td>Private room</td>\n",
       "      <td>500</td>\n",
       "      <td>...</td>\n",
       "      <td>None</td>\n",
       "      <td>3</td>\n",
       "      <td>85</td>\n",
       "      <td>None</td>\n",
       "      <td>None</td>\n",
       "      <td>None</td>\n",
       "      <td>None</td>\n",
       "      <td>None</td>\n",
       "      <td>None</td>\n",
       "      <td>2019</td>\n",
       "    </tr>\n",
       "    <tr>\n",
       "      <th>39885</th>\n",
       "      <td>Allston</td>\n",
       "      <td>35614764</td>\n",
       "      <td>Spacious 1 bedroom apartment on commonwealth ave</td>\n",
       "      <td>90175388</td>\n",
       "      <td>Alekya</td>\n",
       "      <td>None</td>\n",
       "      <td>42.35299</td>\n",
       "      <td>-71.12243</td>\n",
       "      <td>Entire home/apt</td>\n",
       "      <td>200</td>\n",
       "      <td>...</td>\n",
       "      <td>None</td>\n",
       "      <td>1</td>\n",
       "      <td>25</td>\n",
       "      <td>None</td>\n",
       "      <td>None</td>\n",
       "      <td>None</td>\n",
       "      <td>None</td>\n",
       "      <td>None</td>\n",
       "      <td>None</td>\n",
       "      <td>2019</td>\n",
       "    </tr>\n",
       "    <tr>\n",
       "      <th>39886</th>\n",
       "      <td>Dorchester</td>\n",
       "      <td>9332643</td>\n",
       "      <td>Great space in a great location</td>\n",
       "      <td>5911459</td>\n",
       "      <td>Edan</td>\n",
       "      <td>None</td>\n",
       "      <td>42.31766</td>\n",
       "      <td>-71.05346</td>\n",
       "      <td>Private room</td>\n",
       "      <td>100</td>\n",
       "      <td>...</td>\n",
       "      <td>None</td>\n",
       "      <td>1</td>\n",
       "      <td>0</td>\n",
       "      <td>None</td>\n",
       "      <td>None</td>\n",
       "      <td>None</td>\n",
       "      <td>None</td>\n",
       "      <td>None</td>\n",
       "      <td>None</td>\n",
       "      <td>2019</td>\n",
       "    </tr>\n",
       "  </tbody>\n",
       "</table>\n",
       "<p>39887 rows × 23 columns</p>\n",
       "</div>"
      ],
      "text/plain": [
       "      neighbourhood        id  \\\n",
       "0        Dorchester  17063804   \n",
       "1        Dorchester  17063804   \n",
       "2        Dorchester  17063804   \n",
       "3        Dorchester  17063804   \n",
       "4        Dorchester  17063804   \n",
       "...             ...       ...   \n",
       "39882    Dorchester  26138090   \n",
       "39883       Allston  27991699   \n",
       "39884    Dorchester  35238309   \n",
       "39885       Allston  35614764   \n",
       "39886    Dorchester   9332643   \n",
       "\n",
       "                                                    name    host_id host_name  \\\n",
       "0      Jacques & Smriti's large bright room by JFK-UMASS   57812241    Alexia   \n",
       "1      Jacques & Smriti's large bright room by JFK-UMASS   57812241    Alexia   \n",
       "2      Jacques & Smriti's large bright room by JFK-UMASS   57812241    Alexia   \n",
       "3      Jacques & Smriti's large bright room by JFK-UMASS   57812241    Alexia   \n",
       "4      Jacques & Smriti's large bright room by JFK-UMASS   57812241    Alexia   \n",
       "...                                                  ...        ...       ...   \n",
       "39882                Comfortable room in Dorchester (#1)  188413439    Hilson   \n",
       "39883                                        Boston Spot  211416849      Adam   \n",
       "39884  Location location location and so beautiful!!!...  261646616    Joseph   \n",
       "39885   Spacious 1 bedroom apartment on commonwealth ave   90175388    Alekya   \n",
       "39886                    Great space in a great location    5911459      Edan   \n",
       "\n",
       "      neighbourhood_group  latitude  longitude        room_type price  ...  \\\n",
       "0                    None  42.31838  -71.05671     Private room    75  ...   \n",
       "1                    None  42.31838  -71.05671     Private room    75  ...   \n",
       "2                    None  42.31838  -71.05671     Private room    75  ...   \n",
       "3                    None  42.31838  -71.05671     Private room    75  ...   \n",
       "4                    None  42.31838  -71.05671     Private room    75  ...   \n",
       "...                   ...       ...        ...              ...   ...  ...   \n",
       "39882                None   42.3065  -71.06666     Private room    65  ...   \n",
       "39883                None  42.35221  -71.14307     Private room   115  ...   \n",
       "39884                None  42.31584  -71.05796     Private room   500  ...   \n",
       "39885                None  42.35299  -71.12243  Entire home/apt   200  ...   \n",
       "39886                None  42.31766  -71.05346     Private room   100  ...   \n",
       "\n",
       "      reviews_per_month calculated_host_listings_count availability_365  \\\n",
       "0                  0.20                              7              219   \n",
       "1                  0.20                              7              219   \n",
       "2                  0.20                              7              219   \n",
       "3                  0.20                              7              219   \n",
       "4                  0.20                              7              219   \n",
       "...                 ...                            ...              ...   \n",
       "39882              2.91                              4               71   \n",
       "39883              None                              1              364   \n",
       "39884              None                              3               85   \n",
       "39885              None                              1               25   \n",
       "39886              None                              1                0   \n",
       "\n",
       "      listing_id  review_id        date reviewer_id  reviewer_name  \\\n",
       "0       17063804  152646064  2017-05-17    85499345         Smriti   \n",
       "1       17063804  154022197  2017-05-22    52183481         Florin   \n",
       "2       17063804  213046934  2017-11-19   156382082         Tamaki   \n",
       "3       17063804  254925324  2018-04-18    40103131  Haiko & Fleur   \n",
       "4       17063804  264698249  2018-05-14    86247216           Mine   \n",
       "...          ...        ...         ...         ...            ...   \n",
       "39882   26138090  467659647  2019-06-10   221753343          Rohan   \n",
       "39883       None       None        None        None           None   \n",
       "39884       None       None        None        None           None   \n",
       "39885       None       None        None        None           None   \n",
       "39886       None       None        None        None           None   \n",
       "\n",
       "                                                comments  year  \n",
       "0      Alexia is an amazing host and such a wonderful...  2019  \n",
       "1      Alexia is very friendly, good knowledge of the...  2019  \n",
       "2      Located within 15-minute-walk distance from JF...  2019  \n",
       "3      Without doubt Alexia is the best airbnb host w...  2019  \n",
       "4      Great location: a short walk to the red line s...  2019  \n",
       "...                                                  ...   ...  \n",
       "39882   Air bnb itself is fine, area around not so good.  2019  \n",
       "39883                                               None  2019  \n",
       "39884                                               None  2019  \n",
       "39885                                               None  2019  \n",
       "39886                                               None  2019  \n",
       "\n",
       "[39887 rows x 23 columns]"
      ]
     },
     "execution_count": 26,
     "metadata": {},
     "output_type": "execute_result"
    }
   ],
   "source": [
    "reviews_url = \"http://data.insideairbnb.com/united-states/ma/boston/2019-06-14/data/reviews.csv.gz\"\n",
    "listings_url = \"http://data.insideairbnb.com/united-states/ma/boston/2019-06-14/visualisations/listings.csv\"\n",
    "boston_neighbourhood_2019 = get_complete_boston_data(listings_url, reviews_url, 2019)\n",
    "boston_neighbourhood_2019.toPandas()"
   ]
  },
  {
   "cell_type": "code",
   "execution_count": 27,
   "metadata": {},
   "outputs": [
    {
     "data": {
      "text/html": [
       "<div>\n",
       "<style scoped>\n",
       "    .dataframe tbody tr th:only-of-type {\n",
       "        vertical-align: middle;\n",
       "    }\n",
       "\n",
       "    .dataframe tbody tr th {\n",
       "        vertical-align: top;\n",
       "    }\n",
       "\n",
       "    .dataframe thead th {\n",
       "        text-align: right;\n",
       "    }\n",
       "</style>\n",
       "<table border=\"1\" class=\"dataframe\">\n",
       "  <thead>\n",
       "    <tr style=\"text-align: right;\">\n",
       "      <th></th>\n",
       "      <th>neighbourhood</th>\n",
       "      <th>id</th>\n",
       "      <th>name</th>\n",
       "      <th>host_id</th>\n",
       "      <th>host_name</th>\n",
       "      <th>neighbourhood_group</th>\n",
       "      <th>latitude</th>\n",
       "      <th>longitude</th>\n",
       "      <th>room_type</th>\n",
       "      <th>price</th>\n",
       "      <th>...</th>\n",
       "      <th>reviews_per_month</th>\n",
       "      <th>calculated_host_listings_count</th>\n",
       "      <th>availability_365</th>\n",
       "      <th>listing_id</th>\n",
       "      <th>review_id</th>\n",
       "      <th>date</th>\n",
       "      <th>reviewer_id</th>\n",
       "      <th>reviewer_name</th>\n",
       "      <th>comments</th>\n",
       "      <th>year</th>\n",
       "    </tr>\n",
       "  </thead>\n",
       "  <tbody>\n",
       "    <tr>\n",
       "      <th>0</th>\n",
       "      <td>Dorchester</td>\n",
       "      <td>17063804</td>\n",
       "      <td>Jacques &amp; Smriti's large bright room by JFK-UMASS</td>\n",
       "      <td>57812241</td>\n",
       "      <td>Alexia</td>\n",
       "      <td>None</td>\n",
       "      <td>42.31837726494946</td>\n",
       "      <td>-71.05671457362139</td>\n",
       "      <td>Private room</td>\n",
       "      <td>75</td>\n",
       "      <td>...</td>\n",
       "      <td>0.35</td>\n",
       "      <td>7</td>\n",
       "      <td>243</td>\n",
       "      <td>17063804</td>\n",
       "      <td>152646064</td>\n",
       "      <td>2017-05-17</td>\n",
       "      <td>85499345</td>\n",
       "      <td>Smriti</td>\n",
       "      <td>Alexia is an amazing host and such a wonderful...</td>\n",
       "      <td>2018</td>\n",
       "    </tr>\n",
       "    <tr>\n",
       "      <th>1</th>\n",
       "      <td>Dorchester</td>\n",
       "      <td>17063804</td>\n",
       "      <td>Jacques &amp; Smriti's large bright room by JFK-UMASS</td>\n",
       "      <td>57812241</td>\n",
       "      <td>Alexia</td>\n",
       "      <td>None</td>\n",
       "      <td>42.31837726494946</td>\n",
       "      <td>-71.05671457362139</td>\n",
       "      <td>Private room</td>\n",
       "      <td>75</td>\n",
       "      <td>...</td>\n",
       "      <td>0.35</td>\n",
       "      <td>7</td>\n",
       "      <td>243</td>\n",
       "      <td>17063804</td>\n",
       "      <td>154022197</td>\n",
       "      <td>2017-05-22</td>\n",
       "      <td>52183481</td>\n",
       "      <td>Florin</td>\n",
       "      <td>Alexia is very friendly, good knowledge of the...</td>\n",
       "      <td>2018</td>\n",
       "    </tr>\n",
       "    <tr>\n",
       "      <th>2</th>\n",
       "      <td>Dorchester</td>\n",
       "      <td>17063804</td>\n",
       "      <td>Jacques &amp; Smriti's large bright room by JFK-UMASS</td>\n",
       "      <td>57812241</td>\n",
       "      <td>Alexia</td>\n",
       "      <td>None</td>\n",
       "      <td>42.31837726494946</td>\n",
       "      <td>-71.05671457362139</td>\n",
       "      <td>Private room</td>\n",
       "      <td>75</td>\n",
       "      <td>...</td>\n",
       "      <td>0.35</td>\n",
       "      <td>7</td>\n",
       "      <td>243</td>\n",
       "      <td>17063804</td>\n",
       "      <td>213046934</td>\n",
       "      <td>2017-11-19</td>\n",
       "      <td>156382082</td>\n",
       "      <td>Tamaki</td>\n",
       "      <td>Located within 15-minute-walk distance from JF...</td>\n",
       "      <td>2018</td>\n",
       "    </tr>\n",
       "    <tr>\n",
       "      <th>3</th>\n",
       "      <td>Dorchester</td>\n",
       "      <td>17063804</td>\n",
       "      <td>Jacques &amp; Smriti's large bright room by JFK-UMASS</td>\n",
       "      <td>57812241</td>\n",
       "      <td>Alexia</td>\n",
       "      <td>None</td>\n",
       "      <td>42.31837726494946</td>\n",
       "      <td>-71.05671457362139</td>\n",
       "      <td>Private room</td>\n",
       "      <td>75</td>\n",
       "      <td>...</td>\n",
       "      <td>0.35</td>\n",
       "      <td>7</td>\n",
       "      <td>243</td>\n",
       "      <td>17063804</td>\n",
       "      <td>254925324</td>\n",
       "      <td>2018-04-18</td>\n",
       "      <td>40103131</td>\n",
       "      <td>Haiko &amp; Fleur</td>\n",
       "      <td>Without doubt Alexia is the best airbnb host w...</td>\n",
       "      <td>2018</td>\n",
       "    </tr>\n",
       "    <tr>\n",
       "      <th>4</th>\n",
       "      <td>Dorchester</td>\n",
       "      <td>17063804</td>\n",
       "      <td>Jacques &amp; Smriti's large bright room by JFK-UMASS</td>\n",
       "      <td>57812241</td>\n",
       "      <td>Alexia</td>\n",
       "      <td>None</td>\n",
       "      <td>42.31837726494946</td>\n",
       "      <td>-71.05671457362139</td>\n",
       "      <td>Private room</td>\n",
       "      <td>75</td>\n",
       "      <td>...</td>\n",
       "      <td>0.35</td>\n",
       "      <td>7</td>\n",
       "      <td>243</td>\n",
       "      <td>17063804</td>\n",
       "      <td>264698249</td>\n",
       "      <td>2018-05-14</td>\n",
       "      <td>86247216</td>\n",
       "      <td>Fikret</td>\n",
       "      <td>Great location: a short walk to the red line s...</td>\n",
       "      <td>2018</td>\n",
       "    </tr>\n",
       "    <tr>\n",
       "      <th>...</th>\n",
       "      <td>...</td>\n",
       "      <td>...</td>\n",
       "      <td>...</td>\n",
       "      <td>...</td>\n",
       "      <td>...</td>\n",
       "      <td>...</td>\n",
       "      <td>...</td>\n",
       "      <td>...</td>\n",
       "      <td>...</td>\n",
       "      <td>...</td>\n",
       "      <td>...</td>\n",
       "      <td>...</td>\n",
       "      <td>...</td>\n",
       "      <td>...</td>\n",
       "      <td>...</td>\n",
       "      <td>...</td>\n",
       "      <td>...</td>\n",
       "      <td>...</td>\n",
       "      <td>...</td>\n",
       "      <td>...</td>\n",
       "      <td>...</td>\n",
       "    </tr>\n",
       "    <tr>\n",
       "      <th>31699</th>\n",
       "      <td>Allston</td>\n",
       "      <td>25914450</td>\n",
       "      <td>Lovely Day</td>\n",
       "      <td>187707739</td>\n",
       "      <td>Yehuda</td>\n",
       "      <td>None</td>\n",
       "      <td>42.35375808904245</td>\n",
       "      <td>-71.13733178267444</td>\n",
       "      <td>Private room</td>\n",
       "      <td>65</td>\n",
       "      <td>...</td>\n",
       "      <td>2.81</td>\n",
       "      <td>6</td>\n",
       "      <td>54</td>\n",
       "      <td>25914450</td>\n",
       "      <td>279761091</td>\n",
       "      <td>2018-06-21</td>\n",
       "      <td>63818801</td>\n",
       "      <td>Daniel</td>\n",
       "      <td>Nice and clean space! The location is convenie...</td>\n",
       "      <td>2018</td>\n",
       "    </tr>\n",
       "    <tr>\n",
       "      <th>31700</th>\n",
       "      <td>Allston</td>\n",
       "      <td>25914450</td>\n",
       "      <td>Lovely Day</td>\n",
       "      <td>187707739</td>\n",
       "      <td>Yehuda</td>\n",
       "      <td>None</td>\n",
       "      <td>42.35375808904245</td>\n",
       "      <td>-71.13733178267444</td>\n",
       "      <td>Private room</td>\n",
       "      <td>65</td>\n",
       "      <td>...</td>\n",
       "      <td>2.81</td>\n",
       "      <td>6</td>\n",
       "      <td>54</td>\n",
       "      <td>25914450</td>\n",
       "      <td>281828334</td>\n",
       "      <td>2018-06-25</td>\n",
       "      <td>28588628</td>\n",
       "      <td>Aditi</td>\n",
       "      <td>The place is very well located and is incredib...</td>\n",
       "      <td>2018</td>\n",
       "    </tr>\n",
       "    <tr>\n",
       "      <th>31701</th>\n",
       "      <td>Dorchester</td>\n",
       "      <td>26138090</td>\n",
       "      <td>Comfortable room in Dorchester (#1)</td>\n",
       "      <td>188413439</td>\n",
       "      <td>Hilson</td>\n",
       "      <td>None</td>\n",
       "      <td>42.306501109039026</td>\n",
       "      <td>-71.06665534423358</td>\n",
       "      <td>Private room</td>\n",
       "      <td>65</td>\n",
       "      <td>...</td>\n",
       "      <td>1</td>\n",
       "      <td>4</td>\n",
       "      <td>33</td>\n",
       "      <td>26138090</td>\n",
       "      <td>288729383</td>\n",
       "      <td>2018-07-10</td>\n",
       "      <td>179467430</td>\n",
       "      <td>LaDoris</td>\n",
       "      <td>This is a great place to stay!!! Very clean, q...</td>\n",
       "      <td>2018</td>\n",
       "    </tr>\n",
       "    <tr>\n",
       "      <th>31702</th>\n",
       "      <td>Fenway</td>\n",
       "      <td>26935855</td>\n",
       "      <td>Amazing view of the apartme</td>\n",
       "      <td>194322480</td>\n",
       "      <td>Nhgio</td>\n",
       "      <td>None</td>\n",
       "      <td>42.34572531468303</td>\n",
       "      <td>-71.08824820401912</td>\n",
       "      <td>Private room</td>\n",
       "      <td>204</td>\n",
       "      <td>...</td>\n",
       "      <td>None</td>\n",
       "      <td>1</td>\n",
       "      <td>362</td>\n",
       "      <td>None</td>\n",
       "      <td>None</td>\n",
       "      <td>None</td>\n",
       "      <td>None</td>\n",
       "      <td>None</td>\n",
       "      <td>None</td>\n",
       "      <td>2018</td>\n",
       "    </tr>\n",
       "    <tr>\n",
       "      <th>31703</th>\n",
       "      <td>Dorchester</td>\n",
       "      <td>9332643</td>\n",
       "      <td>Great space in a great location</td>\n",
       "      <td>5911459</td>\n",
       "      <td>Edan</td>\n",
       "      <td>None</td>\n",
       "      <td>42.31765907300954</td>\n",
       "      <td>-71.05346245162896</td>\n",
       "      <td>Private room</td>\n",
       "      <td>100</td>\n",
       "      <td>...</td>\n",
       "      <td>None</td>\n",
       "      <td>1</td>\n",
       "      <td>0</td>\n",
       "      <td>None</td>\n",
       "      <td>None</td>\n",
       "      <td>None</td>\n",
       "      <td>None</td>\n",
       "      <td>None</td>\n",
       "      <td>None</td>\n",
       "      <td>2018</td>\n",
       "    </tr>\n",
       "  </tbody>\n",
       "</table>\n",
       "<p>31704 rows × 23 columns</p>\n",
       "</div>"
      ],
      "text/plain": [
       "      neighbourhood        id  \\\n",
       "0        Dorchester  17063804   \n",
       "1        Dorchester  17063804   \n",
       "2        Dorchester  17063804   \n",
       "3        Dorchester  17063804   \n",
       "4        Dorchester  17063804   \n",
       "...             ...       ...   \n",
       "31699       Allston  25914450   \n",
       "31700       Allston  25914450   \n",
       "31701    Dorchester  26138090   \n",
       "31702        Fenway  26935855   \n",
       "31703    Dorchester   9332643   \n",
       "\n",
       "                                                    name    host_id host_name  \\\n",
       "0      Jacques & Smriti's large bright room by JFK-UMASS   57812241    Alexia   \n",
       "1      Jacques & Smriti's large bright room by JFK-UMASS   57812241    Alexia   \n",
       "2      Jacques & Smriti's large bright room by JFK-UMASS   57812241    Alexia   \n",
       "3      Jacques & Smriti's large bright room by JFK-UMASS   57812241    Alexia   \n",
       "4      Jacques & Smriti's large bright room by JFK-UMASS   57812241    Alexia   \n",
       "...                                                  ...        ...       ...   \n",
       "31699                                         Lovely Day  187707739    Yehuda   \n",
       "31700                                         Lovely Day  187707739    Yehuda   \n",
       "31701                Comfortable room in Dorchester (#1)  188413439    Hilson   \n",
       "31702                        Amazing view of the apartme  194322480     Nhgio   \n",
       "31703                    Great space in a great location    5911459      Edan   \n",
       "\n",
       "      neighbourhood_group            latitude           longitude  \\\n",
       "0                    None   42.31837726494946  -71.05671457362139   \n",
       "1                    None   42.31837726494946  -71.05671457362139   \n",
       "2                    None   42.31837726494946  -71.05671457362139   \n",
       "3                    None   42.31837726494946  -71.05671457362139   \n",
       "4                    None   42.31837726494946  -71.05671457362139   \n",
       "...                   ...                 ...                 ...   \n",
       "31699                None   42.35375808904245  -71.13733178267444   \n",
       "31700                None   42.35375808904245  -71.13733178267444   \n",
       "31701                None  42.306501109039026  -71.06665534423358   \n",
       "31702                None   42.34572531468303  -71.08824820401912   \n",
       "31703                None   42.31765907300954  -71.05346245162896   \n",
       "\n",
       "          room_type price  ... reviews_per_month  \\\n",
       "0      Private room    75  ...              0.35   \n",
       "1      Private room    75  ...              0.35   \n",
       "2      Private room    75  ...              0.35   \n",
       "3      Private room    75  ...              0.35   \n",
       "4      Private room    75  ...              0.35   \n",
       "...             ...   ...  ...               ...   \n",
       "31699  Private room    65  ...              2.81   \n",
       "31700  Private room    65  ...              2.81   \n",
       "31701  Private room    65  ...                 1   \n",
       "31702  Private room   204  ...              None   \n",
       "31703  Private room   100  ...              None   \n",
       "\n",
       "      calculated_host_listings_count availability_365 listing_id  review_id  \\\n",
       "0                                  7              243   17063804  152646064   \n",
       "1                                  7              243   17063804  154022197   \n",
       "2                                  7              243   17063804  213046934   \n",
       "3                                  7              243   17063804  254925324   \n",
       "4                                  7              243   17063804  264698249   \n",
       "...                              ...              ...        ...        ...   \n",
       "31699                              6               54   25914450  279761091   \n",
       "31700                              6               54   25914450  281828334   \n",
       "31701                              4               33   26138090  288729383   \n",
       "31702                              1              362       None       None   \n",
       "31703                              1                0       None       None   \n",
       "\n",
       "             date reviewer_id  reviewer_name  \\\n",
       "0      2017-05-17    85499345         Smriti   \n",
       "1      2017-05-22    52183481         Florin   \n",
       "2      2017-11-19   156382082         Tamaki   \n",
       "3      2018-04-18    40103131  Haiko & Fleur   \n",
       "4      2018-05-14    86247216         Fikret   \n",
       "...           ...         ...            ...   \n",
       "31699  2018-06-21    63818801         Daniel   \n",
       "31700  2018-06-25    28588628          Aditi   \n",
       "31701  2018-07-10   179467430        LaDoris   \n",
       "31702        None        None           None   \n",
       "31703        None        None           None   \n",
       "\n",
       "                                                comments  year  \n",
       "0      Alexia is an amazing host and such a wonderful...  2018  \n",
       "1      Alexia is very friendly, good knowledge of the...  2018  \n",
       "2      Located within 15-minute-walk distance from JF...  2018  \n",
       "3      Without doubt Alexia is the best airbnb host w...  2018  \n",
       "4      Great location: a short walk to the red line s...  2018  \n",
       "...                                                  ...   ...  \n",
       "31699  Nice and clean space! The location is convenie...  2018  \n",
       "31700  The place is very well located and is incredib...  2018  \n",
       "31701  This is a great place to stay!!! Very clean, q...  2018  \n",
       "31702                                               None  2018  \n",
       "31703                                               None  2018  \n",
       "\n",
       "[31704 rows x 23 columns]"
      ]
     },
     "execution_count": 27,
     "metadata": {},
     "output_type": "execute_result"
    }
   ],
   "source": [
    "reviews_url = \"http://data.insideairbnb.com/united-states/ma/boston/2018-07-18/data/reviews.csv.gz\"\n",
    "listings_url = \"http://data.insideairbnb.com/united-states/ma/boston/2018-07-18/visualisations/listings.csv\"\n",
    "boston_neighbourhood_2018 = get_complete_boston_data(listings_url, reviews_url, 2018)\n",
    "boston_neighbourhood_2018.toPandas()"
   ]
  },
  {
   "cell_type": "code",
   "execution_count": 28,
   "metadata": {},
   "outputs": [
    {
     "data": {
      "text/html": [
       "<div>\n",
       "<style scoped>\n",
       "    .dataframe tbody tr th:only-of-type {\n",
       "        vertical-align: middle;\n",
       "    }\n",
       "\n",
       "    .dataframe tbody tr th {\n",
       "        vertical-align: top;\n",
       "    }\n",
       "\n",
       "    .dataframe thead th {\n",
       "        text-align: right;\n",
       "    }\n",
       "</style>\n",
       "<table border=\"1\" class=\"dataframe\">\n",
       "  <thead>\n",
       "    <tr style=\"text-align: right;\">\n",
       "      <th></th>\n",
       "      <th>neighbourhood</th>\n",
       "      <th>id</th>\n",
       "      <th>name</th>\n",
       "      <th>host_id</th>\n",
       "      <th>host_name</th>\n",
       "      <th>neighbourhood_group</th>\n",
       "      <th>latitude</th>\n",
       "      <th>longitude</th>\n",
       "      <th>room_type</th>\n",
       "      <th>price</th>\n",
       "      <th>...</th>\n",
       "      <th>reviews_per_month</th>\n",
       "      <th>calculated_host_listings_count</th>\n",
       "      <th>availability_365</th>\n",
       "      <th>listing_id</th>\n",
       "      <th>review_id</th>\n",
       "      <th>date</th>\n",
       "      <th>reviewer_id</th>\n",
       "      <th>reviewer_name</th>\n",
       "      <th>comments</th>\n",
       "      <th>year</th>\n",
       "    </tr>\n",
       "  </thead>\n",
       "  <tbody>\n",
       "    <tr>\n",
       "      <th>0</th>\n",
       "      <td>Dorchester</td>\n",
       "      <td>10743879</td>\n",
       "      <td>Charming, sun filled condo in quiet neighborhood</td>\n",
       "      <td>41269443</td>\n",
       "      <td>Allison</td>\n",
       "      <td>None</td>\n",
       "      <td>42.3172840909121</td>\n",
       "      <td>-71.05493708945174</td>\n",
       "      <td>Entire home/apt</td>\n",
       "      <td>150</td>\n",
       "      <td>...</td>\n",
       "      <td>1.19</td>\n",
       "      <td>1</td>\n",
       "      <td>22</td>\n",
       "      <td>10743879</td>\n",
       "      <td>113687242</td>\n",
       "      <td>2016-11-13</td>\n",
       "      <td>103088025</td>\n",
       "      <td>Gerri</td>\n",
       "      <td>We had a great stay at Allison's home.  Her pl...</td>\n",
       "      <td>2017</td>\n",
       "    </tr>\n",
       "    <tr>\n",
       "      <th>1</th>\n",
       "      <td>Dorchester</td>\n",
       "      <td>10743879</td>\n",
       "      <td>Charming, sun filled condo in quiet neighborhood</td>\n",
       "      <td>41269443</td>\n",
       "      <td>Allison</td>\n",
       "      <td>None</td>\n",
       "      <td>42.3172840909121</td>\n",
       "      <td>-71.05493708945174</td>\n",
       "      <td>Entire home/apt</td>\n",
       "      <td>150</td>\n",
       "      <td>...</td>\n",
       "      <td>1.19</td>\n",
       "      <td>1</td>\n",
       "      <td>22</td>\n",
       "      <td>10743879</td>\n",
       "      <td>121702696</td>\n",
       "      <td>2016-12-18</td>\n",
       "      <td>105866458</td>\n",
       "      <td>Jennifer</td>\n",
       "      <td>Staying in Allison's home was such a wonderful...</td>\n",
       "      <td>2017</td>\n",
       "    </tr>\n",
       "    <tr>\n",
       "      <th>2</th>\n",
       "      <td>Dorchester</td>\n",
       "      <td>10743879</td>\n",
       "      <td>Charming, sun filled condo in quiet neighborhood</td>\n",
       "      <td>41269443</td>\n",
       "      <td>Allison</td>\n",
       "      <td>None</td>\n",
       "      <td>42.3172840909121</td>\n",
       "      <td>-71.05493708945174</td>\n",
       "      <td>Entire home/apt</td>\n",
       "      <td>150</td>\n",
       "      <td>...</td>\n",
       "      <td>1.19</td>\n",
       "      <td>1</td>\n",
       "      <td>22</td>\n",
       "      <td>10743879</td>\n",
       "      <td>132845450</td>\n",
       "      <td>2017-02-19</td>\n",
       "      <td>116909212</td>\n",
       "      <td>Brenna</td>\n",
       "      <td>Allisons place was perfect! Especially if you ...</td>\n",
       "      <td>2017</td>\n",
       "    </tr>\n",
       "    <tr>\n",
       "      <th>3</th>\n",
       "      <td>Dorchester</td>\n",
       "      <td>10743879</td>\n",
       "      <td>Charming, sun filled condo in quiet neighborhood</td>\n",
       "      <td>41269443</td>\n",
       "      <td>Allison</td>\n",
       "      <td>None</td>\n",
       "      <td>42.3172840909121</td>\n",
       "      <td>-71.05493708945174</td>\n",
       "      <td>Entire home/apt</td>\n",
       "      <td>150</td>\n",
       "      <td>...</td>\n",
       "      <td>1.19</td>\n",
       "      <td>1</td>\n",
       "      <td>22</td>\n",
       "      <td>10743879</td>\n",
       "      <td>136863198</td>\n",
       "      <td>2017-03-12</td>\n",
       "      <td>118336543</td>\n",
       "      <td>Peter</td>\n",
       "      <td>\"This place was amazing, I'd even go as far as...</td>\n",
       "      <td>2017</td>\n",
       "    </tr>\n",
       "    <tr>\n",
       "      <th>4</th>\n",
       "      <td>Dorchester</td>\n",
       "      <td>10743879</td>\n",
       "      <td>Charming, sun filled condo in quiet neighborhood</td>\n",
       "      <td>41269443</td>\n",
       "      <td>Allison</td>\n",
       "      <td>None</td>\n",
       "      <td>42.3172840909121</td>\n",
       "      <td>-71.05493708945174</td>\n",
       "      <td>Entire home/apt</td>\n",
       "      <td>150</td>\n",
       "      <td>...</td>\n",
       "      <td>1.19</td>\n",
       "      <td>1</td>\n",
       "      <td>22</td>\n",
       "      <td>10743879</td>\n",
       "      <td>138393020</td>\n",
       "      <td>2017-03-19</td>\n",
       "      <td>110442436</td>\n",
       "      <td>Nicole</td>\n",
       "      <td>The house was a little out of the way for the ...</td>\n",
       "      <td>2017</td>\n",
       "    </tr>\n",
       "    <tr>\n",
       "      <th>...</th>\n",
       "      <td>...</td>\n",
       "      <td>...</td>\n",
       "      <td>...</td>\n",
       "      <td>...</td>\n",
       "      <td>...</td>\n",
       "      <td>...</td>\n",
       "      <td>...</td>\n",
       "      <td>...</td>\n",
       "      <td>...</td>\n",
       "      <td>...</td>\n",
       "      <td>...</td>\n",
       "      <td>...</td>\n",
       "      <td>...</td>\n",
       "      <td>...</td>\n",
       "      <td>...</td>\n",
       "      <td>...</td>\n",
       "      <td>...</td>\n",
       "      <td>...</td>\n",
       "      <td>...</td>\n",
       "      <td>...</td>\n",
       "      <td>...</td>\n",
       "    </tr>\n",
       "    <tr>\n",
       "      <th>20902</th>\n",
       "      <td>Dorchester</td>\n",
       "      <td>19599031</td>\n",
       "      <td>Home away from home</td>\n",
       "      <td>118883513</td>\n",
       "      <td>Darryl</td>\n",
       "      <td>None</td>\n",
       "      <td>42.28615614997633</td>\n",
       "      <td>-71.03953104938581</td>\n",
       "      <td>Private room</td>\n",
       "      <td>70</td>\n",
       "      <td>...</td>\n",
       "      <td>7.32</td>\n",
       "      <td>1</td>\n",
       "      <td>347</td>\n",
       "      <td>19599031</td>\n",
       "      <td>197092669</td>\n",
       "      <td>2017-09-24</td>\n",
       "      <td>150881862</td>\n",
       "      <td>Dione</td>\n",
       "      <td>Amazing host, place was lovely and would recom...</td>\n",
       "      <td>2017</td>\n",
       "    </tr>\n",
       "    <tr>\n",
       "      <th>20903</th>\n",
       "      <td>Dorchester</td>\n",
       "      <td>19599031</td>\n",
       "      <td>Home away from home</td>\n",
       "      <td>118883513</td>\n",
       "      <td>Darryl</td>\n",
       "      <td>None</td>\n",
       "      <td>42.28615614997633</td>\n",
       "      <td>-71.03953104938581</td>\n",
       "      <td>Private room</td>\n",
       "      <td>70</td>\n",
       "      <td>...</td>\n",
       "      <td>7.32</td>\n",
       "      <td>1</td>\n",
       "      <td>347</td>\n",
       "      <td>19599031</td>\n",
       "      <td>198802427</td>\n",
       "      <td>2017-09-30</td>\n",
       "      <td>152268461</td>\n",
       "      <td>David</td>\n",
       "      <td>Darryl was a great host (and so was Gigi!). Th...</td>\n",
       "      <td>2017</td>\n",
       "    </tr>\n",
       "    <tr>\n",
       "      <th>20904</th>\n",
       "      <td>Dorchester</td>\n",
       "      <td>21148820</td>\n",
       "      <td>Private Apartment Close to Redline T Subway</td>\n",
       "      <td>18479599</td>\n",
       "      <td>Agnieszka</td>\n",
       "      <td>None</td>\n",
       "      <td>42.325976820904145</td>\n",
       "      <td>-71.06016439244476</td>\n",
       "      <td>Entire home/apt</td>\n",
       "      <td>250</td>\n",
       "      <td>...</td>\n",
       "      <td>None</td>\n",
       "      <td>9</td>\n",
       "      <td>309</td>\n",
       "      <td>None</td>\n",
       "      <td>None</td>\n",
       "      <td>None</td>\n",
       "      <td>None</td>\n",
       "      <td>None</td>\n",
       "      <td>None</td>\n",
       "      <td>2017</td>\n",
       "    </tr>\n",
       "    <tr>\n",
       "      <th>20905</th>\n",
       "      <td>Dorchester</td>\n",
       "      <td>21217710</td>\n",
       "      <td>Cozy Boston Room</td>\n",
       "      <td>153299935</td>\n",
       "      <td>NhuanKim</td>\n",
       "      <td>None</td>\n",
       "      <td>42.31497905682507</td>\n",
       "      <td>-71.0564388777616</td>\n",
       "      <td>Private room</td>\n",
       "      <td>35</td>\n",
       "      <td>...</td>\n",
       "      <td>None</td>\n",
       "      <td>1</td>\n",
       "      <td>56</td>\n",
       "      <td>None</td>\n",
       "      <td>None</td>\n",
       "      <td>None</td>\n",
       "      <td>None</td>\n",
       "      <td>None</td>\n",
       "      <td>None</td>\n",
       "      <td>2017</td>\n",
       "    </tr>\n",
       "    <tr>\n",
       "      <th>20906</th>\n",
       "      <td>Dorchester</td>\n",
       "      <td>9332643</td>\n",
       "      <td>Great space in a great location</td>\n",
       "      <td>5911459</td>\n",
       "      <td>Edan</td>\n",
       "      <td>None</td>\n",
       "      <td>42.31765907300954</td>\n",
       "      <td>-71.05346245162896</td>\n",
       "      <td>Private room</td>\n",
       "      <td>100</td>\n",
       "      <td>...</td>\n",
       "      <td>None</td>\n",
       "      <td>1</td>\n",
       "      <td>0</td>\n",
       "      <td>None</td>\n",
       "      <td>None</td>\n",
       "      <td>None</td>\n",
       "      <td>None</td>\n",
       "      <td>None</td>\n",
       "      <td>None</td>\n",
       "      <td>2017</td>\n",
       "    </tr>\n",
       "  </tbody>\n",
       "</table>\n",
       "<p>20907 rows × 23 columns</p>\n",
       "</div>"
      ],
      "text/plain": [
       "      neighbourhood        id  \\\n",
       "0        Dorchester  10743879   \n",
       "1        Dorchester  10743879   \n",
       "2        Dorchester  10743879   \n",
       "3        Dorchester  10743879   \n",
       "4        Dorchester  10743879   \n",
       "...             ...       ...   \n",
       "20902    Dorchester  19599031   \n",
       "20903    Dorchester  19599031   \n",
       "20904    Dorchester  21148820   \n",
       "20905    Dorchester  21217710   \n",
       "20906    Dorchester   9332643   \n",
       "\n",
       "                                                   name    host_id  host_name  \\\n",
       "0      Charming, sun filled condo in quiet neighborhood   41269443    Allison   \n",
       "1      Charming, sun filled condo in quiet neighborhood   41269443    Allison   \n",
       "2      Charming, sun filled condo in quiet neighborhood   41269443    Allison   \n",
       "3      Charming, sun filled condo in quiet neighborhood   41269443    Allison   \n",
       "4      Charming, sun filled condo in quiet neighborhood   41269443    Allison   \n",
       "...                                                 ...        ...        ...   \n",
       "20902                               Home away from home  118883513     Darryl   \n",
       "20903                               Home away from home  118883513     Darryl   \n",
       "20904       Private Apartment Close to Redline T Subway   18479599  Agnieszka   \n",
       "20905                                  Cozy Boston Room  153299935   NhuanKim   \n",
       "20906                   Great space in a great location    5911459       Edan   \n",
       "\n",
       "      neighbourhood_group            latitude           longitude  \\\n",
       "0                    None    42.3172840909121  -71.05493708945174   \n",
       "1                    None    42.3172840909121  -71.05493708945174   \n",
       "2                    None    42.3172840909121  -71.05493708945174   \n",
       "3                    None    42.3172840909121  -71.05493708945174   \n",
       "4                    None    42.3172840909121  -71.05493708945174   \n",
       "...                   ...                 ...                 ...   \n",
       "20902                None   42.28615614997633  -71.03953104938581   \n",
       "20903                None   42.28615614997633  -71.03953104938581   \n",
       "20904                None  42.325976820904145  -71.06016439244476   \n",
       "20905                None   42.31497905682507   -71.0564388777616   \n",
       "20906                None   42.31765907300954  -71.05346245162896   \n",
       "\n",
       "             room_type price  ... reviews_per_month  \\\n",
       "0      Entire home/apt   150  ...              1.19   \n",
       "1      Entire home/apt   150  ...              1.19   \n",
       "2      Entire home/apt   150  ...              1.19   \n",
       "3      Entire home/apt   150  ...              1.19   \n",
       "4      Entire home/apt   150  ...              1.19   \n",
       "...                ...   ...  ...               ...   \n",
       "20902     Private room    70  ...              7.32   \n",
       "20903     Private room    70  ...              7.32   \n",
       "20904  Entire home/apt   250  ...              None   \n",
       "20905     Private room    35  ...              None   \n",
       "20906     Private room   100  ...              None   \n",
       "\n",
       "      calculated_host_listings_count availability_365 listing_id  review_id  \\\n",
       "0                                  1               22   10743879  113687242   \n",
       "1                                  1               22   10743879  121702696   \n",
       "2                                  1               22   10743879  132845450   \n",
       "3                                  1               22   10743879  136863198   \n",
       "4                                  1               22   10743879  138393020   \n",
       "...                              ...              ...        ...        ...   \n",
       "20902                              1              347   19599031  197092669   \n",
       "20903                              1              347   19599031  198802427   \n",
       "20904                              9              309       None       None   \n",
       "20905                              1               56       None       None   \n",
       "20906                              1                0       None       None   \n",
       "\n",
       "             date reviewer_id reviewer_name  \\\n",
       "0      2016-11-13   103088025         Gerri   \n",
       "1      2016-12-18   105866458      Jennifer   \n",
       "2      2017-02-19   116909212        Brenna   \n",
       "3      2017-03-12   118336543         Peter   \n",
       "4      2017-03-19   110442436        Nicole   \n",
       "...           ...         ...           ...   \n",
       "20902  2017-09-24   150881862         Dione   \n",
       "20903  2017-09-30   152268461         David   \n",
       "20904        None        None          None   \n",
       "20905        None        None          None   \n",
       "20906        None        None          None   \n",
       "\n",
       "                                                comments  year  \n",
       "0      We had a great stay at Allison's home.  Her pl...  2017  \n",
       "1      Staying in Allison's home was such a wonderful...  2017  \n",
       "2      Allisons place was perfect! Especially if you ...  2017  \n",
       "3      \"This place was amazing, I'd even go as far as...  2017  \n",
       "4      The house was a little out of the way for the ...  2017  \n",
       "...                                                  ...   ...  \n",
       "20902  Amazing host, place was lovely and would recom...  2017  \n",
       "20903  Darryl was a great host (and so was Gigi!). Th...  2017  \n",
       "20904                                               None  2017  \n",
       "20905                                               None  2017  \n",
       "20906                                               None  2017  \n",
       "\n",
       "[20907 rows x 23 columns]"
      ]
     },
     "execution_count": 28,
     "metadata": {},
     "output_type": "execute_result"
    }
   ],
   "source": [
    "reviews_url = \"http://data.insideairbnb.com/united-states/ma/boston/2017-10-06/data/reviews.csv.gz\"\n",
    "listings_url = \"http://data.insideairbnb.com/united-states/ma/boston/2017-10-06/visualisations/listings.csv\"\n",
    "boston_neighbourhood_2017 = get_complete_boston_data(listings_url, reviews_url, 2017)\n",
    "boston_neighbourhood_2017.toPandas()"
   ]
  },
  {
   "cell_type": "code",
   "execution_count": 29,
   "metadata": {},
   "outputs": [
    {
     "data": {
      "text/html": [
       "<div>\n",
       "<style scoped>\n",
       "    .dataframe tbody tr th:only-of-type {\n",
       "        vertical-align: middle;\n",
       "    }\n",
       "\n",
       "    .dataframe tbody tr th {\n",
       "        vertical-align: top;\n",
       "    }\n",
       "\n",
       "    .dataframe thead th {\n",
       "        text-align: right;\n",
       "    }\n",
       "</style>\n",
       "<table border=\"1\" class=\"dataframe\">\n",
       "  <thead>\n",
       "    <tr style=\"text-align: right;\">\n",
       "      <th></th>\n",
       "      <th>neighbourhood</th>\n",
       "      <th>id</th>\n",
       "      <th>name</th>\n",
       "      <th>host_id</th>\n",
       "      <th>host_name</th>\n",
       "      <th>neighbourhood_group</th>\n",
       "      <th>latitude</th>\n",
       "      <th>longitude</th>\n",
       "      <th>room_type</th>\n",
       "      <th>price</th>\n",
       "      <th>...</th>\n",
       "      <th>reviews_per_month</th>\n",
       "      <th>calculated_host_listings_count</th>\n",
       "      <th>availability_365</th>\n",
       "      <th>listing_id</th>\n",
       "      <th>review_id</th>\n",
       "      <th>date</th>\n",
       "      <th>reviewer_id</th>\n",
       "      <th>reviewer_name</th>\n",
       "      <th>comments</th>\n",
       "      <th>year</th>\n",
       "    </tr>\n",
       "  </thead>\n",
       "  <tbody>\n",
       "    <tr>\n",
       "      <th>0</th>\n",
       "      <td>Allston</td>\n",
       "      <td>4402209</td>\n",
       "      <td>l GREAT ROOM BOSOTN</td>\n",
       "      <td>8139434</td>\n",
       "      <td>Ari</td>\n",
       "      <td>None</td>\n",
       "      <td>42.35208077328276</td>\n",
       "      <td>-71.13599057398088</td>\n",
       "      <td>Private room</td>\n",
       "      <td>100</td>\n",
       "      <td>...</td>\n",
       "      <td>3.16</td>\n",
       "      <td>10</td>\n",
       "      <td>119</td>\n",
       "      <td>4402209</td>\n",
       "      <td>98811254</td>\n",
       "      <td>2016-09-02</td>\n",
       "      <td>73127997</td>\n",
       "      <td>紹桀</td>\n",
       "      <td>Great( ´` )ﾉ</td>\n",
       "      <td>2016</td>\n",
       "    </tr>\n",
       "    <tr>\n",
       "      <th>1</th>\n",
       "      <td>Allston</td>\n",
       "      <td>4402209</td>\n",
       "      <td>l GREAT ROOM BOSOTN</td>\n",
       "      <td>8139434</td>\n",
       "      <td>Ari</td>\n",
       "      <td>None</td>\n",
       "      <td>42.35208077328276</td>\n",
       "      <td>-71.13599057398088</td>\n",
       "      <td>Private room</td>\n",
       "      <td>100</td>\n",
       "      <td>...</td>\n",
       "      <td>3.16</td>\n",
       "      <td>10</td>\n",
       "      <td>119</td>\n",
       "      <td>4402209</td>\n",
       "      <td>98653881</td>\n",
       "      <td>2016-09-01</td>\n",
       "      <td>73127997</td>\n",
       "      <td>紹桀</td>\n",
       "      <td>Ari is a really nice host, willing to help me ...</td>\n",
       "      <td>2016</td>\n",
       "    </tr>\n",
       "    <tr>\n",
       "      <th>2</th>\n",
       "      <td>Allston</td>\n",
       "      <td>4402209</td>\n",
       "      <td>l GREAT ROOM BOSOTN</td>\n",
       "      <td>8139434</td>\n",
       "      <td>Ari</td>\n",
       "      <td>None</td>\n",
       "      <td>42.35208077328276</td>\n",
       "      <td>-71.13599057398088</td>\n",
       "      <td>Private room</td>\n",
       "      <td>100</td>\n",
       "      <td>...</td>\n",
       "      <td>3.16</td>\n",
       "      <td>10</td>\n",
       "      <td>119</td>\n",
       "      <td>4402209</td>\n",
       "      <td>89696317</td>\n",
       "      <td>2016-07-29</td>\n",
       "      <td>18169449</td>\n",
       "      <td>Cui</td>\n",
       "      <td>It's a very convenient location, and Ari provi...</td>\n",
       "      <td>2016</td>\n",
       "    </tr>\n",
       "    <tr>\n",
       "      <th>3</th>\n",
       "      <td>Allston</td>\n",
       "      <td>4402209</td>\n",
       "      <td>l GREAT ROOM BOSOTN</td>\n",
       "      <td>8139434</td>\n",
       "      <td>Ari</td>\n",
       "      <td>None</td>\n",
       "      <td>42.35208077328276</td>\n",
       "      <td>-71.13599057398088</td>\n",
       "      <td>Private room</td>\n",
       "      <td>100</td>\n",
       "      <td>...</td>\n",
       "      <td>3.16</td>\n",
       "      <td>10</td>\n",
       "      <td>119</td>\n",
       "      <td>4402209</td>\n",
       "      <td>82408950</td>\n",
       "      <td>2016-06-27</td>\n",
       "      <td>62950686</td>\n",
       "      <td>Atalya</td>\n",
       "      <td>Ari has this hosting thing down to a T! Pure p...</td>\n",
       "      <td>2016</td>\n",
       "    </tr>\n",
       "    <tr>\n",
       "      <th>4</th>\n",
       "      <td>Allston</td>\n",
       "      <td>4402209</td>\n",
       "      <td>l GREAT ROOM BOSOTN</td>\n",
       "      <td>8139434</td>\n",
       "      <td>Ari</td>\n",
       "      <td>None</td>\n",
       "      <td>42.35208077328276</td>\n",
       "      <td>-71.13599057398088</td>\n",
       "      <td>Private room</td>\n",
       "      <td>100</td>\n",
       "      <td>...</td>\n",
       "      <td>3.16</td>\n",
       "      <td>10</td>\n",
       "      <td>119</td>\n",
       "      <td>4402209</td>\n",
       "      <td>82051490</td>\n",
       "      <td>2016-06-26</td>\n",
       "      <td>61663856</td>\n",
       "      <td>Yechiel</td>\n",
       "      <td>Just like every time my stay was perfect:-)</td>\n",
       "      <td>2016</td>\n",
       "    </tr>\n",
       "    <tr>\n",
       "      <th>...</th>\n",
       "      <td>...</td>\n",
       "      <td>...</td>\n",
       "      <td>...</td>\n",
       "      <td>...</td>\n",
       "      <td>...</td>\n",
       "      <td>...</td>\n",
       "      <td>...</td>\n",
       "      <td>...</td>\n",
       "      <td>...</td>\n",
       "      <td>...</td>\n",
       "      <td>...</td>\n",
       "      <td>...</td>\n",
       "      <td>...</td>\n",
       "      <td>...</td>\n",
       "      <td>...</td>\n",
       "      <td>...</td>\n",
       "      <td>...</td>\n",
       "      <td>...</td>\n",
       "      <td>...</td>\n",
       "      <td>...</td>\n",
       "      <td>...</td>\n",
       "    </tr>\n",
       "    <tr>\n",
       "      <th>13385</th>\n",
       "      <td>Fenway</td>\n",
       "      <td>3589267</td>\n",
       "      <td>There's No Place Like {Our} Home</td>\n",
       "      <td>11890037</td>\n",
       "      <td>Will &amp; Mari</td>\n",
       "      <td>None</td>\n",
       "      <td>42.34122489190963</td>\n",
       "      <td>-71.0943622960716</td>\n",
       "      <td>Entire home/apt</td>\n",
       "      <td>699</td>\n",
       "      <td>...</td>\n",
       "      <td>0.62</td>\n",
       "      <td>1</td>\n",
       "      <td>343</td>\n",
       "      <td>3589267</td>\n",
       "      <td>18252118</td>\n",
       "      <td>2014-08-24</td>\n",
       "      <td>16092941</td>\n",
       "      <td>Igor</td>\n",
       "      <td>Everything was great! Some food in fridge afte...</td>\n",
       "      <td>2016</td>\n",
       "    </tr>\n",
       "    <tr>\n",
       "      <th>13386</th>\n",
       "      <td>Fenway</td>\n",
       "      <td>3589267</td>\n",
       "      <td>There's No Place Like {Our} Home</td>\n",
       "      <td>11890037</td>\n",
       "      <td>Will &amp; Mari</td>\n",
       "      <td>None</td>\n",
       "      <td>42.34122489190963</td>\n",
       "      <td>-71.0943622960716</td>\n",
       "      <td>Entire home/apt</td>\n",
       "      <td>699</td>\n",
       "      <td>...</td>\n",
       "      <td>0.62</td>\n",
       "      <td>1</td>\n",
       "      <td>343</td>\n",
       "      <td>3589267</td>\n",
       "      <td>17118645</td>\n",
       "      <td>2014-08-07</td>\n",
       "      <td>18355131</td>\n",
       "      <td>Kevin</td>\n",
       "      <td>The home was just as described and the neighbo...</td>\n",
       "      <td>2016</td>\n",
       "    </tr>\n",
       "    <tr>\n",
       "      <th>13387</th>\n",
       "      <td>Fenway</td>\n",
       "      <td>3589267</td>\n",
       "      <td>There's No Place Like {Our} Home</td>\n",
       "      <td>11890037</td>\n",
       "      <td>Will &amp; Mari</td>\n",
       "      <td>None</td>\n",
       "      <td>42.34122489190963</td>\n",
       "      <td>-71.0943622960716</td>\n",
       "      <td>Entire home/apt</td>\n",
       "      <td>699</td>\n",
       "      <td>...</td>\n",
       "      <td>0.62</td>\n",
       "      <td>1</td>\n",
       "      <td>343</td>\n",
       "      <td>3589267</td>\n",
       "      <td>17062693</td>\n",
       "      <td>2014-08-06</td>\n",
       "      <td>14749343</td>\n",
       "      <td>Jean Louis</td>\n",
       "      <td>Appartement très bien situé, très près des mus...</td>\n",
       "      <td>2016</td>\n",
       "    </tr>\n",
       "    <tr>\n",
       "      <th>13388</th>\n",
       "      <td>Fenway</td>\n",
       "      <td>3589267</td>\n",
       "      <td>There's No Place Like {Our} Home</td>\n",
       "      <td>11890037</td>\n",
       "      <td>Will &amp; Mari</td>\n",
       "      <td>None</td>\n",
       "      <td>42.34122489190963</td>\n",
       "      <td>-71.0943622960716</td>\n",
       "      <td>Entire home/apt</td>\n",
       "      <td>699</td>\n",
       "      <td>...</td>\n",
       "      <td>0.62</td>\n",
       "      <td>1</td>\n",
       "      <td>343</td>\n",
       "      <td>3589267</td>\n",
       "      <td>16856640</td>\n",
       "      <td>2014-08-03</td>\n",
       "      <td>1912165</td>\n",
       "      <td>Caroline</td>\n",
       "      <td>We had a great time in Boston and Mari's place...</td>\n",
       "      <td>2016</td>\n",
       "    </tr>\n",
       "    <tr>\n",
       "      <th>13389</th>\n",
       "      <td>Fenway</td>\n",
       "      <td>3589267</td>\n",
       "      <td>There's No Place Like {Our} Home</td>\n",
       "      <td>11890037</td>\n",
       "      <td>Will &amp; Mari</td>\n",
       "      <td>None</td>\n",
       "      <td>42.34122489190963</td>\n",
       "      <td>-71.0943622960716</td>\n",
       "      <td>Entire home/apt</td>\n",
       "      <td>699</td>\n",
       "      <td>...</td>\n",
       "      <td>0.62</td>\n",
       "      <td>1</td>\n",
       "      <td>343</td>\n",
       "      <td>3589267</td>\n",
       "      <td>16632687</td>\n",
       "      <td>2014-07-30</td>\n",
       "      <td>2703551</td>\n",
       "      <td>Chris</td>\n",
       "      <td>Mari's place was great!  We were in town to lo...</td>\n",
       "      <td>2016</td>\n",
       "    </tr>\n",
       "  </tbody>\n",
       "</table>\n",
       "<p>13390 rows × 23 columns</p>\n",
       "</div>"
      ],
      "text/plain": [
       "      neighbourhood       id                              name   host_id  \\\n",
       "0           Allston  4402209               l GREAT ROOM BOSOTN   8139434   \n",
       "1           Allston  4402209               l GREAT ROOM BOSOTN   8139434   \n",
       "2           Allston  4402209               l GREAT ROOM BOSOTN   8139434   \n",
       "3           Allston  4402209               l GREAT ROOM BOSOTN   8139434   \n",
       "4           Allston  4402209               l GREAT ROOM BOSOTN   8139434   \n",
       "...             ...      ...                               ...       ...   \n",
       "13385        Fenway  3589267  There's No Place Like {Our} Home  11890037   \n",
       "13386        Fenway  3589267  There's No Place Like {Our} Home  11890037   \n",
       "13387        Fenway  3589267  There's No Place Like {Our} Home  11890037   \n",
       "13388        Fenway  3589267  There's No Place Like {Our} Home  11890037   \n",
       "13389        Fenway  3589267  There's No Place Like {Our} Home  11890037   \n",
       "\n",
       "         host_name neighbourhood_group           latitude           longitude  \\\n",
       "0              Ari                None  42.35208077328276  -71.13599057398088   \n",
       "1              Ari                None  42.35208077328276  -71.13599057398088   \n",
       "2              Ari                None  42.35208077328276  -71.13599057398088   \n",
       "3              Ari                None  42.35208077328276  -71.13599057398088   \n",
       "4              Ari                None  42.35208077328276  -71.13599057398088   \n",
       "...            ...                 ...                ...                 ...   \n",
       "13385  Will & Mari                None  42.34122489190963   -71.0943622960716   \n",
       "13386  Will & Mari                None  42.34122489190963   -71.0943622960716   \n",
       "13387  Will & Mari                None  42.34122489190963   -71.0943622960716   \n",
       "13388  Will & Mari                None  42.34122489190963   -71.0943622960716   \n",
       "13389  Will & Mari                None  42.34122489190963   -71.0943622960716   \n",
       "\n",
       "             room_type price  ... reviews_per_month  \\\n",
       "0         Private room   100  ...              3.16   \n",
       "1         Private room   100  ...              3.16   \n",
       "2         Private room   100  ...              3.16   \n",
       "3         Private room   100  ...              3.16   \n",
       "4         Private room   100  ...              3.16   \n",
       "...                ...   ...  ...               ...   \n",
       "13385  Entire home/apt   699  ...              0.62   \n",
       "13386  Entire home/apt   699  ...              0.62   \n",
       "13387  Entire home/apt   699  ...              0.62   \n",
       "13388  Entire home/apt   699  ...              0.62   \n",
       "13389  Entire home/apt   699  ...              0.62   \n",
       "\n",
       "      calculated_host_listings_count availability_365 listing_id review_id  \\\n",
       "0                                 10              119    4402209  98811254   \n",
       "1                                 10              119    4402209  98653881   \n",
       "2                                 10              119    4402209  89696317   \n",
       "3                                 10              119    4402209  82408950   \n",
       "4                                 10              119    4402209  82051490   \n",
       "...                              ...              ...        ...       ...   \n",
       "13385                              1              343    3589267  18252118   \n",
       "13386                              1              343    3589267  17118645   \n",
       "13387                              1              343    3589267  17062693   \n",
       "13388                              1              343    3589267  16856640   \n",
       "13389                              1              343    3589267  16632687   \n",
       "\n",
       "             date reviewer_id reviewer_name  \\\n",
       "0      2016-09-02    73127997            紹桀   \n",
       "1      2016-09-01    73127997            紹桀   \n",
       "2      2016-07-29    18169449           Cui   \n",
       "3      2016-06-27    62950686        Atalya   \n",
       "4      2016-06-26    61663856       Yechiel   \n",
       "...           ...         ...           ...   \n",
       "13385  2014-08-24    16092941          Igor   \n",
       "13386  2014-08-07    18355131         Kevin   \n",
       "13387  2014-08-06    14749343    Jean Louis   \n",
       "13388  2014-08-03     1912165      Caroline   \n",
       "13389  2014-07-30     2703551         Chris   \n",
       "\n",
       "                                                comments  year  \n",
       "0                                           Great( ´` )ﾉ  2016  \n",
       "1      Ari is a really nice host, willing to help me ...  2016  \n",
       "2      It's a very convenient location, and Ari provi...  2016  \n",
       "3      Ari has this hosting thing down to a T! Pure p...  2016  \n",
       "4            Just like every time my stay was perfect:-)  2016  \n",
       "...                                                  ...   ...  \n",
       "13385  Everything was great! Some food in fridge afte...  2016  \n",
       "13386  The home was just as described and the neighbo...  2016  \n",
       "13387  Appartement très bien situé, très près des mus...  2016  \n",
       "13388  We had a great time in Boston and Mari's place...  2016  \n",
       "13389  Mari's place was great!  We were in town to lo...  2016  \n",
       "\n",
       "[13390 rows x 23 columns]"
      ]
     },
     "execution_count": 29,
     "metadata": {},
     "output_type": "execute_result"
    }
   ],
   "source": [
    "reviews_url = \"http://data.insideairbnb.com/united-states/ma/boston/2016-09-07/data/reviews.csv.gz\"\n",
    "listings_url = \"http://data.insideairbnb.com/united-states/ma/boston/2016-09-07/visualisations/listings.csv\"\n",
    "boston_neighbourhood_2016 = get_complete_boston_data(listings_url, reviews_url, 2016)\n",
    "boston_neighbourhood_2016.toPandas()"
   ]
  },
  {
   "cell_type": "code",
   "execution_count": 30,
   "metadata": {},
   "outputs": [
    {
     "data": {
      "text/html": [
       "<div>\n",
       "<style scoped>\n",
       "    .dataframe tbody tr th:only-of-type {\n",
       "        vertical-align: middle;\n",
       "    }\n",
       "\n",
       "    .dataframe tbody tr th {\n",
       "        vertical-align: top;\n",
       "    }\n",
       "\n",
       "    .dataframe thead th {\n",
       "        text-align: right;\n",
       "    }\n",
       "</style>\n",
       "<table border=\"1\" class=\"dataframe\">\n",
       "  <thead>\n",
       "    <tr style=\"text-align: right;\">\n",
       "      <th></th>\n",
       "      <th>neighbourhood</th>\n",
       "      <th>id</th>\n",
       "      <th>name</th>\n",
       "      <th>host_id</th>\n",
       "      <th>host_name</th>\n",
       "      <th>neighbourhood_group</th>\n",
       "      <th>latitude</th>\n",
       "      <th>longitude</th>\n",
       "      <th>room_type</th>\n",
       "      <th>price</th>\n",
       "      <th>...</th>\n",
       "      <th>reviews_per_month</th>\n",
       "      <th>calculated_host_listings_count</th>\n",
       "      <th>availability_365</th>\n",
       "      <th>listing_id</th>\n",
       "      <th>review_id</th>\n",
       "      <th>date</th>\n",
       "      <th>reviewer_id</th>\n",
       "      <th>reviewer_name</th>\n",
       "      <th>comments</th>\n",
       "      <th>year</th>\n",
       "    </tr>\n",
       "  </thead>\n",
       "  <tbody>\n",
       "    <tr>\n",
       "      <th>0</th>\n",
       "      <td>Allston</td>\n",
       "      <td>5103430</td>\n",
       "      <td>Brand New duplex - 3  BDR / 3 BA</td>\n",
       "      <td>26367207</td>\n",
       "      <td>Raphael</td>\n",
       "      <td>None</td>\n",
       "      <td>42.3521929684635</td>\n",
       "      <td>-71.12961763207782</td>\n",
       "      <td>Entire home/apt</td>\n",
       "      <td>310</td>\n",
       "      <td>...</td>\n",
       "      <td>0.88</td>\n",
       "      <td>3</td>\n",
       "      <td>68</td>\n",
       "      <td>5103430</td>\n",
       "      <td>44668713</td>\n",
       "      <td>2015-08-28</td>\n",
       "      <td>12066100</td>\n",
       "      <td>Eddie</td>\n",
       "      <td>The house owner, Raphael, is a very kind and e...</td>\n",
       "      <td>2015</td>\n",
       "    </tr>\n",
       "    <tr>\n",
       "      <th>1</th>\n",
       "      <td>Allston</td>\n",
       "      <td>5103430</td>\n",
       "      <td>Brand New duplex - 3  BDR / 3 BA</td>\n",
       "      <td>26367207</td>\n",
       "      <td>Raphael</td>\n",
       "      <td>None</td>\n",
       "      <td>42.3521929684635</td>\n",
       "      <td>-71.12961763207782</td>\n",
       "      <td>Entire home/apt</td>\n",
       "      <td>310</td>\n",
       "      <td>...</td>\n",
       "      <td>0.88</td>\n",
       "      <td>3</td>\n",
       "      <td>68</td>\n",
       "      <td>5103430</td>\n",
       "      <td>35203143</td>\n",
       "      <td>2015-06-16</td>\n",
       "      <td>29246587</td>\n",
       "      <td>Michael</td>\n",
       "      <td>Raphael's home was well maintained and very cl...</td>\n",
       "      <td>2015</td>\n",
       "    </tr>\n",
       "    <tr>\n",
       "      <th>2</th>\n",
       "      <td>Allston</td>\n",
       "      <td>5103430</td>\n",
       "      <td>Brand New duplex - 3  BDR / 3 BA</td>\n",
       "      <td>26367207</td>\n",
       "      <td>Raphael</td>\n",
       "      <td>None</td>\n",
       "      <td>42.3521929684635</td>\n",
       "      <td>-71.12961763207782</td>\n",
       "      <td>Entire home/apt</td>\n",
       "      <td>310</td>\n",
       "      <td>...</td>\n",
       "      <td>0.88</td>\n",
       "      <td>3</td>\n",
       "      <td>68</td>\n",
       "      <td>5103430</td>\n",
       "      <td>34523184</td>\n",
       "      <td>2015-06-09</td>\n",
       "      <td>26172960</td>\n",
       "      <td>Joe</td>\n",
       "      <td>\"This apartment was perfect for our trip to a ...</td>\n",
       "      <td>2015</td>\n",
       "    </tr>\n",
       "    <tr>\n",
       "      <th>3</th>\n",
       "      <td>Allston</td>\n",
       "      <td>5103430</td>\n",
       "      <td>Brand New duplex - 3  BDR / 3 BA</td>\n",
       "      <td>26367207</td>\n",
       "      <td>Raphael</td>\n",
       "      <td>None</td>\n",
       "      <td>42.3521929684635</td>\n",
       "      <td>-71.12961763207782</td>\n",
       "      <td>Entire home/apt</td>\n",
       "      <td>310</td>\n",
       "      <td>...</td>\n",
       "      <td>0.88</td>\n",
       "      <td>3</td>\n",
       "      <td>68</td>\n",
       "      <td>5103430</td>\n",
       "      <td>32679028</td>\n",
       "      <td>2015-05-20</td>\n",
       "      <td>5961958</td>\n",
       "      <td>Erich</td>\n",
       "      <td>Awesome place, great stay, host was very helpf...</td>\n",
       "      <td>2015</td>\n",
       "    </tr>\n",
       "    <tr>\n",
       "      <th>4</th>\n",
       "      <td>Allston</td>\n",
       "      <td>7052847</td>\n",
       "      <td>1 big room in a cute 2 bedroom apt</td>\n",
       "      <td>10336060</td>\n",
       "      <td>Rebeca</td>\n",
       "      <td>None</td>\n",
       "      <td>42.352805645017064</td>\n",
       "      <td>-71.12398135726829</td>\n",
       "      <td>Private room</td>\n",
       "      <td>60</td>\n",
       "      <td>...</td>\n",
       "      <td>None</td>\n",
       "      <td>1</td>\n",
       "      <td>70</td>\n",
       "      <td>None</td>\n",
       "      <td>None</td>\n",
       "      <td>None</td>\n",
       "      <td>None</td>\n",
       "      <td>None</td>\n",
       "      <td>None</td>\n",
       "      <td>2015</td>\n",
       "    </tr>\n",
       "    <tr>\n",
       "      <th>...</th>\n",
       "      <td>...</td>\n",
       "      <td>...</td>\n",
       "      <td>...</td>\n",
       "      <td>...</td>\n",
       "      <td>...</td>\n",
       "      <td>...</td>\n",
       "      <td>...</td>\n",
       "      <td>...</td>\n",
       "      <td>...</td>\n",
       "      <td>...</td>\n",
       "      <td>...</td>\n",
       "      <td>...</td>\n",
       "      <td>...</td>\n",
       "      <td>...</td>\n",
       "      <td>...</td>\n",
       "      <td>...</td>\n",
       "      <td>...</td>\n",
       "      <td>...</td>\n",
       "      <td>...</td>\n",
       "      <td>...</td>\n",
       "      <td>...</td>\n",
       "    </tr>\n",
       "    <tr>\n",
       "      <th>8475</th>\n",
       "      <td>Fenway</td>\n",
       "      <td>7332266</td>\n",
       "      <td>Sunny private room,Longwood, Fenway</td>\n",
       "      <td>31340713</td>\n",
       "      <td>Kama</td>\n",
       "      <td>None</td>\n",
       "      <td>42.34534204525907</td>\n",
       "      <td>-71.10843918882692</td>\n",
       "      <td>Private room</td>\n",
       "      <td>85</td>\n",
       "      <td>...</td>\n",
       "      <td>5.00</td>\n",
       "      <td>3</td>\n",
       "      <td>340</td>\n",
       "      <td>7332266</td>\n",
       "      <td>44822969</td>\n",
       "      <td>2015-08-29</td>\n",
       "      <td>8913208</td>\n",
       "      <td>Veronica</td>\n",
       "      <td>The neighborhood is lovely, and the room too. ...</td>\n",
       "      <td>2015</td>\n",
       "    </tr>\n",
       "    <tr>\n",
       "      <th>8476</th>\n",
       "      <td>Fenway</td>\n",
       "      <td>2083261</td>\n",
       "      <td>Beautiful Apart in Cambridgeport</td>\n",
       "      <td>10641213</td>\n",
       "      <td>Sejal</td>\n",
       "      <td>None</td>\n",
       "      <td>42.35465366568941</td>\n",
       "      <td>-71.10868079403137</td>\n",
       "      <td>Private room</td>\n",
       "      <td>78</td>\n",
       "      <td>...</td>\n",
       "      <td>0.59</td>\n",
       "      <td>1</td>\n",
       "      <td>302</td>\n",
       "      <td>2083261</td>\n",
       "      <td>33890486</td>\n",
       "      <td>2015-06-01</td>\n",
       "      <td>34310541</td>\n",
       "      <td>Imane</td>\n",
       "      <td>The host canceled this reservation 5 days befo...</td>\n",
       "      <td>2015</td>\n",
       "    </tr>\n",
       "    <tr>\n",
       "      <th>8477</th>\n",
       "      <td>Fenway</td>\n",
       "      <td>2083261</td>\n",
       "      <td>Beautiful Apart in Cambridgeport</td>\n",
       "      <td>10641213</td>\n",
       "      <td>Sejal</td>\n",
       "      <td>None</td>\n",
       "      <td>42.35465366568941</td>\n",
       "      <td>-71.10868079403137</td>\n",
       "      <td>Private room</td>\n",
       "      <td>78</td>\n",
       "      <td>...</td>\n",
       "      <td>0.59</td>\n",
       "      <td>1</td>\n",
       "      <td>302</td>\n",
       "      <td>2083261</td>\n",
       "      <td>30540240</td>\n",
       "      <td>2015-04-23</td>\n",
       "      <td>14969968</td>\n",
       "      <td>Eric</td>\n",
       "      <td>The reservation was canceled 8 days before arr...</td>\n",
       "      <td>2015</td>\n",
       "    </tr>\n",
       "    <tr>\n",
       "      <th>8478</th>\n",
       "      <td>Fenway</td>\n",
       "      <td>2083261</td>\n",
       "      <td>Beautiful Apart in Cambridgeport</td>\n",
       "      <td>10641213</td>\n",
       "      <td>Sejal</td>\n",
       "      <td>None</td>\n",
       "      <td>42.35465366568941</td>\n",
       "      <td>-71.10868079403137</td>\n",
       "      <td>Private room</td>\n",
       "      <td>78</td>\n",
       "      <td>...</td>\n",
       "      <td>0.59</td>\n",
       "      <td>1</td>\n",
       "      <td>302</td>\n",
       "      <td>2083261</td>\n",
       "      <td>30540239</td>\n",
       "      <td>2015-04-23</td>\n",
       "      <td>31627912</td>\n",
       "      <td>Shreya</td>\n",
       "      <td>The reservation was canceled 21 days before ar...</td>\n",
       "      <td>2015</td>\n",
       "    </tr>\n",
       "    <tr>\n",
       "      <th>8479</th>\n",
       "      <td>Fenway</td>\n",
       "      <td>2083261</td>\n",
       "      <td>Beautiful Apart in Cambridgeport</td>\n",
       "      <td>10641213</td>\n",
       "      <td>Sejal</td>\n",
       "      <td>None</td>\n",
       "      <td>42.35465366568941</td>\n",
       "      <td>-71.10868079403137</td>\n",
       "      <td>Private room</td>\n",
       "      <td>78</td>\n",
       "      <td>...</td>\n",
       "      <td>0.59</td>\n",
       "      <td>1</td>\n",
       "      <td>302</td>\n",
       "      <td>2083261</td>\n",
       "      <td>27986813</td>\n",
       "      <td>2015-03-16</td>\n",
       "      <td>26825198</td>\n",
       "      <td>Jamal</td>\n",
       "      <td>The reservation was canceled 31 days before ar...</td>\n",
       "      <td>2015</td>\n",
       "    </tr>\n",
       "  </tbody>\n",
       "</table>\n",
       "<p>8480 rows × 23 columns</p>\n",
       "</div>"
      ],
      "text/plain": [
       "     neighbourhood       id                                 name   host_id  \\\n",
       "0          Allston  5103430     Brand New duplex - 3  BDR / 3 BA  26367207   \n",
       "1          Allston  5103430     Brand New duplex - 3  BDR / 3 BA  26367207   \n",
       "2          Allston  5103430     Brand New duplex - 3  BDR / 3 BA  26367207   \n",
       "3          Allston  5103430     Brand New duplex - 3  BDR / 3 BA  26367207   \n",
       "4          Allston  7052847   1 big room in a cute 2 bedroom apt  10336060   \n",
       "...            ...      ...                                  ...       ...   \n",
       "8475        Fenway  7332266  Sunny private room,Longwood, Fenway  31340713   \n",
       "8476        Fenway  2083261     Beautiful Apart in Cambridgeport  10641213   \n",
       "8477        Fenway  2083261     Beautiful Apart in Cambridgeport  10641213   \n",
       "8478        Fenway  2083261     Beautiful Apart in Cambridgeport  10641213   \n",
       "8479        Fenway  2083261     Beautiful Apart in Cambridgeport  10641213   \n",
       "\n",
       "     host_name neighbourhood_group            latitude           longitude  \\\n",
       "0      Raphael                None    42.3521929684635  -71.12961763207782   \n",
       "1      Raphael                None    42.3521929684635  -71.12961763207782   \n",
       "2      Raphael                None    42.3521929684635  -71.12961763207782   \n",
       "3      Raphael                None    42.3521929684635  -71.12961763207782   \n",
       "4       Rebeca                None  42.352805645017064  -71.12398135726829   \n",
       "...        ...                 ...                 ...                 ...   \n",
       "8475      Kama                None   42.34534204525907  -71.10843918882692   \n",
       "8476     Sejal                None   42.35465366568941  -71.10868079403137   \n",
       "8477     Sejal                None   42.35465366568941  -71.10868079403137   \n",
       "8478     Sejal                None   42.35465366568941  -71.10868079403137   \n",
       "8479     Sejal                None   42.35465366568941  -71.10868079403137   \n",
       "\n",
       "            room_type price  ... reviews_per_month  \\\n",
       "0     Entire home/apt   310  ...              0.88   \n",
       "1     Entire home/apt   310  ...              0.88   \n",
       "2     Entire home/apt   310  ...              0.88   \n",
       "3     Entire home/apt   310  ...              0.88   \n",
       "4        Private room    60  ...              None   \n",
       "...               ...   ...  ...               ...   \n",
       "8475     Private room    85  ...              5.00   \n",
       "8476     Private room    78  ...              0.59   \n",
       "8477     Private room    78  ...              0.59   \n",
       "8478     Private room    78  ...              0.59   \n",
       "8479     Private room    78  ...              0.59   \n",
       "\n",
       "     calculated_host_listings_count availability_365 listing_id review_id  \\\n",
       "0                                 3               68    5103430  44668713   \n",
       "1                                 3               68    5103430  35203143   \n",
       "2                                 3               68    5103430  34523184   \n",
       "3                                 3               68    5103430  32679028   \n",
       "4                                 1               70       None      None   \n",
       "...                             ...              ...        ...       ...   \n",
       "8475                              3              340    7332266  44822969   \n",
       "8476                              1              302    2083261  33890486   \n",
       "8477                              1              302    2083261  30540240   \n",
       "8478                              1              302    2083261  30540239   \n",
       "8479                              1              302    2083261  27986813   \n",
       "\n",
       "            date reviewer_id reviewer_name  \\\n",
       "0     2015-08-28    12066100         Eddie   \n",
       "1     2015-06-16    29246587       Michael   \n",
       "2     2015-06-09    26172960           Joe   \n",
       "3     2015-05-20     5961958         Erich   \n",
       "4           None        None          None   \n",
       "...          ...         ...           ...   \n",
       "8475  2015-08-29     8913208      Veronica   \n",
       "8476  2015-06-01    34310541         Imane   \n",
       "8477  2015-04-23    14969968          Eric   \n",
       "8478  2015-04-23    31627912        Shreya   \n",
       "8479  2015-03-16    26825198         Jamal   \n",
       "\n",
       "                                               comments  year  \n",
       "0     The house owner, Raphael, is a very kind and e...  2015  \n",
       "1     Raphael's home was well maintained and very cl...  2015  \n",
       "2     \"This apartment was perfect for our trip to a ...  2015  \n",
       "3     Awesome place, great stay, host was very helpf...  2015  \n",
       "4                                                  None  2015  \n",
       "...                                                 ...   ...  \n",
       "8475  The neighborhood is lovely, and the room too. ...  2015  \n",
       "8476  The host canceled this reservation 5 days befo...  2015  \n",
       "8477  The reservation was canceled 8 days before arr...  2015  \n",
       "8478  The reservation was canceled 21 days before ar...  2015  \n",
       "8479  The reservation was canceled 31 days before ar...  2015  \n",
       "\n",
       "[8480 rows x 23 columns]"
      ]
     },
     "execution_count": 30,
     "metadata": {},
     "output_type": "execute_result"
    }
   ],
   "source": [
    "reviews_url = \"http://data.insideairbnb.com/united-states/ma/boston/2015-10-03/data/reviews.csv.gz\"\n",
    "listings_url = \"http://data.insideairbnb.com/united-states/ma/boston/2015-10-03/visualisations/listings.csv\"\n",
    "boston_neighbourhood_2015 = get_complete_boston_data(listings_url, reviews_url, 2015)\n",
    "boston_neighbourhood_2015.toPandas()"
   ]
  },
  {
   "cell_type": "markdown",
   "metadata": {},
   "source": [
    "Now that we have the combined data for all 5 years for the required neighbourhoods, we can go into a deepdive on each of the neighbourhoods"
   ]
  },
  {
   "cell_type": "markdown",
   "metadata": {},
   "source": [
    "Fenway"
   ]
  },
  {
   "cell_type": "markdown",
   "metadata": {},
   "source": [
    "Let's combine Fenway data from all the years"
   ]
  },
  {
   "cell_type": "code",
   "execution_count": 31,
   "metadata": {},
   "outputs": [
    {
     "data": {
      "text/html": [
       "<div>\n",
       "<style scoped>\n",
       "    .dataframe tbody tr th:only-of-type {\n",
       "        vertical-align: middle;\n",
       "    }\n",
       "\n",
       "    .dataframe tbody tr th {\n",
       "        vertical-align: top;\n",
       "    }\n",
       "\n",
       "    .dataframe thead th {\n",
       "        text-align: right;\n",
       "    }\n",
       "</style>\n",
       "<table border=\"1\" class=\"dataframe\">\n",
       "  <thead>\n",
       "    <tr style=\"text-align: right;\">\n",
       "      <th></th>\n",
       "      <th>neighbourhood</th>\n",
       "      <th>id</th>\n",
       "      <th>name</th>\n",
       "      <th>host_id</th>\n",
       "      <th>host_name</th>\n",
       "      <th>neighbourhood_group</th>\n",
       "      <th>latitude</th>\n",
       "      <th>longitude</th>\n",
       "      <th>room_type</th>\n",
       "      <th>price</th>\n",
       "      <th>...</th>\n",
       "      <th>reviews_per_month</th>\n",
       "      <th>calculated_host_listings_count</th>\n",
       "      <th>availability_365</th>\n",
       "      <th>listing_id</th>\n",
       "      <th>review_id</th>\n",
       "      <th>date</th>\n",
       "      <th>reviewer_id</th>\n",
       "      <th>reviewer_name</th>\n",
       "      <th>comments</th>\n",
       "      <th>year</th>\n",
       "    </tr>\n",
       "  </thead>\n",
       "  <tbody>\n",
       "    <tr>\n",
       "      <th>0</th>\n",
       "      <td>Fenway</td>\n",
       "      <td>8552387</td>\n",
       "      <td>Bright Back Bay Brownstone</td>\n",
       "      <td>28880663</td>\n",
       "      <td>Amanda</td>\n",
       "      <td>None</td>\n",
       "      <td>42.35117407918826</td>\n",
       "      <td>-71.08998038575537</td>\n",
       "      <td>Entire home/apt</td>\n",
       "      <td>225</td>\n",
       "      <td>...</td>\n",
       "      <td>None</td>\n",
       "      <td>1</td>\n",
       "      <td>9</td>\n",
       "      <td>None</td>\n",
       "      <td>None</td>\n",
       "      <td>None</td>\n",
       "      <td>None</td>\n",
       "      <td>None</td>\n",
       "      <td>None</td>\n",
       "      <td>2015</td>\n",
       "    </tr>\n",
       "    <tr>\n",
       "      <th>1</th>\n",
       "      <td>Fenway</td>\n",
       "      <td>8469841</td>\n",
       "      <td>Large Room Back Bay Close to MIT</td>\n",
       "      <td>16953664</td>\n",
       "      <td>Ife</td>\n",
       "      <td>None</td>\n",
       "      <td>42.3510130004383</td>\n",
       "      <td>-71.09012784825632</td>\n",
       "      <td>Private room</td>\n",
       "      <td>90</td>\n",
       "      <td>...</td>\n",
       "      <td>1</td>\n",
       "      <td>3</td>\n",
       "      <td>346</td>\n",
       "      <td>8469841</td>\n",
       "      <td>48817108</td>\n",
       "      <td>2015-09-28</td>\n",
       "      <td>44610837</td>\n",
       "      <td>Alan</td>\n",
       "      <td>I had a great 1st experience using airbnb.  If...</td>\n",
       "      <td>2015</td>\n",
       "    </tr>\n",
       "    <tr>\n",
       "      <th>2</th>\n",
       "      <td>Fenway</td>\n",
       "      <td>7757132</td>\n",
       "      <td>Charming and spacious 1 bedroom</td>\n",
       "      <td>8958021</td>\n",
       "      <td>Lian</td>\n",
       "      <td>None</td>\n",
       "      <td>42.34207635265539</td>\n",
       "      <td>-71.09799981268785</td>\n",
       "      <td>Entire home/apt</td>\n",
       "      <td>190</td>\n",
       "      <td>...</td>\n",
       "      <td>1.71</td>\n",
       "      <td>1</td>\n",
       "      <td>58</td>\n",
       "      <td>7757132</td>\n",
       "      <td>47402256</td>\n",
       "      <td>2015-09-18</td>\n",
       "      <td>4228486</td>\n",
       "      <td>Natalie</td>\n",
       "      <td>The apartment is clean, comfortable and  very ...</td>\n",
       "      <td>2015</td>\n",
       "    </tr>\n",
       "    <tr>\n",
       "      <th>3</th>\n",
       "      <td>Fenway</td>\n",
       "      <td>7757132</td>\n",
       "      <td>Charming and spacious 1 bedroom</td>\n",
       "      <td>8958021</td>\n",
       "      <td>Lian</td>\n",
       "      <td>None</td>\n",
       "      <td>42.34207635265539</td>\n",
       "      <td>-71.09799981268785</td>\n",
       "      <td>Entire home/apt</td>\n",
       "      <td>190</td>\n",
       "      <td>...</td>\n",
       "      <td>1.71</td>\n",
       "      <td>1</td>\n",
       "      <td>58</td>\n",
       "      <td>7757132</td>\n",
       "      <td>44984587</td>\n",
       "      <td>2015-08-30</td>\n",
       "      <td>36039829</td>\n",
       "      <td>Marco</td>\n",
       "      <td>I booked Lian's flat for my parents and they r...</td>\n",
       "      <td>2015</td>\n",
       "    </tr>\n",
       "    <tr>\n",
       "      <th>4</th>\n",
       "      <td>Fenway</td>\n",
       "      <td>5086521</td>\n",
       "      <td>Modern &amp; spacious studio for two</td>\n",
       "      <td>1868179</td>\n",
       "      <td>Ryan</td>\n",
       "      <td>None</td>\n",
       "      <td>42.34086101708686</td>\n",
       "      <td>-71.08828863604951</td>\n",
       "      <td>Entire home/apt</td>\n",
       "      <td>150</td>\n",
       "      <td>...</td>\n",
       "      <td>1.55</td>\n",
       "      <td>1</td>\n",
       "      <td>130</td>\n",
       "      <td>5086521</td>\n",
       "      <td>46117564</td>\n",
       "      <td>2015-09-08</td>\n",
       "      <td>31812081</td>\n",
       "      <td>Maximilian</td>\n",
       "      <td>The place was exactly as described, location w...</td>\n",
       "      <td>2015</td>\n",
       "    </tr>\n",
       "    <tr>\n",
       "      <th>...</th>\n",
       "      <td>...</td>\n",
       "      <td>...</td>\n",
       "      <td>...</td>\n",
       "      <td>...</td>\n",
       "      <td>...</td>\n",
       "      <td>...</td>\n",
       "      <td>...</td>\n",
       "      <td>...</td>\n",
       "      <td>...</td>\n",
       "      <td>...</td>\n",
       "      <td>...</td>\n",
       "      <td>...</td>\n",
       "      <td>...</td>\n",
       "      <td>...</td>\n",
       "      <td>...</td>\n",
       "      <td>...</td>\n",
       "      <td>...</td>\n",
       "      <td>...</td>\n",
       "      <td>...</td>\n",
       "      <td>...</td>\n",
       "      <td>...</td>\n",
       "    </tr>\n",
       "    <tr>\n",
       "      <th>9073</th>\n",
       "      <td>Fenway</td>\n",
       "      <td>5671806</td>\n",
       "      <td>Luxury Fenway Brownstone-Beacon St</td>\n",
       "      <td>29406566</td>\n",
       "      <td>Jennifer</td>\n",
       "      <td>None</td>\n",
       "      <td>42.34535000231358</td>\n",
       "      <td>-71.10684236073557</td>\n",
       "      <td>Entire home/apt</td>\n",
       "      <td>400</td>\n",
       "      <td>...</td>\n",
       "      <td>0.90</td>\n",
       "      <td>1</td>\n",
       "      <td>29</td>\n",
       "      <td>5671806</td>\n",
       "      <td>30315640</td>\n",
       "      <td>2015-04-20</td>\n",
       "      <td>28743839</td>\n",
       "      <td>Nanci</td>\n",
       "      <td>The description of this place is (email hidden...</td>\n",
       "      <td>2020</td>\n",
       "    </tr>\n",
       "    <tr>\n",
       "      <th>9074</th>\n",
       "      <td>Fenway</td>\n",
       "      <td>5671806</td>\n",
       "      <td>Luxury Fenway Brownstone-Beacon St</td>\n",
       "      <td>29406566</td>\n",
       "      <td>Jennifer</td>\n",
       "      <td>None</td>\n",
       "      <td>42.34535000231358</td>\n",
       "      <td>-71.10684236073557</td>\n",
       "      <td>Entire home/apt</td>\n",
       "      <td>400</td>\n",
       "      <td>...</td>\n",
       "      <td>0.90</td>\n",
       "      <td>1</td>\n",
       "      <td>29</td>\n",
       "      <td>5671806</td>\n",
       "      <td>32567096</td>\n",
       "      <td>2015-05-19</td>\n",
       "      <td>15747050</td>\n",
       "      <td>Ann</td>\n",
       "      <td>A very lovely place in a perfect location.  Ne...</td>\n",
       "      <td>2020</td>\n",
       "    </tr>\n",
       "    <tr>\n",
       "      <th>9075</th>\n",
       "      <td>Fenway</td>\n",
       "      <td>5671806</td>\n",
       "      <td>Luxury Fenway Brownstone-Beacon St</td>\n",
       "      <td>29406566</td>\n",
       "      <td>Jennifer</td>\n",
       "      <td>None</td>\n",
       "      <td>42.34535000231358</td>\n",
       "      <td>-71.10684236073557</td>\n",
       "      <td>Entire home/apt</td>\n",
       "      <td>400</td>\n",
       "      <td>...</td>\n",
       "      <td>0.90</td>\n",
       "      <td>1</td>\n",
       "      <td>29</td>\n",
       "      <td>5671806</td>\n",
       "      <td>33313882</td>\n",
       "      <td>2015-05-26</td>\n",
       "      <td>26989637</td>\n",
       "      <td>Prashant</td>\n",
       "      <td>Jennifer was really helpful and provided me an...</td>\n",
       "      <td>2020</td>\n",
       "    </tr>\n",
       "    <tr>\n",
       "      <th>9076</th>\n",
       "      <td>Fenway</td>\n",
       "      <td>5671806</td>\n",
       "      <td>Luxury Fenway Brownstone-Beacon St</td>\n",
       "      <td>29406566</td>\n",
       "      <td>Jennifer</td>\n",
       "      <td>None</td>\n",
       "      <td>42.34535000231358</td>\n",
       "      <td>-71.10684236073557</td>\n",
       "      <td>Entire home/apt</td>\n",
       "      <td>400</td>\n",
       "      <td>...</td>\n",
       "      <td>0.90</td>\n",
       "      <td>1</td>\n",
       "      <td>29</td>\n",
       "      <td>5671806</td>\n",
       "      <td>37398353</td>\n",
       "      <td>2015-07-06</td>\n",
       "      <td>33661506</td>\n",
       "      <td>Kathleen</td>\n",
       "      <td>Jennifer and the apartment were great! At firs...</td>\n",
       "      <td>2020</td>\n",
       "    </tr>\n",
       "    <tr>\n",
       "      <th>9077</th>\n",
       "      <td>Fenway</td>\n",
       "      <td>5671806</td>\n",
       "      <td>Luxury Fenway Brownstone-Beacon St</td>\n",
       "      <td>29406566</td>\n",
       "      <td>Jennifer</td>\n",
       "      <td>None</td>\n",
       "      <td>42.34535000231358</td>\n",
       "      <td>-71.10684236073557</td>\n",
       "      <td>Entire home/apt</td>\n",
       "      <td>400</td>\n",
       "      <td>...</td>\n",
       "      <td>0.90</td>\n",
       "      <td>1</td>\n",
       "      <td>29</td>\n",
       "      <td>5671806</td>\n",
       "      <td>39973715</td>\n",
       "      <td>2015-07-27</td>\n",
       "      <td>34681576</td>\n",
       "      <td>Tim</td>\n",
       "      <td>The apartment was exactly as expected - nice, ...</td>\n",
       "      <td>2020</td>\n",
       "    </tr>\n",
       "  </tbody>\n",
       "</table>\n",
       "<p>9078 rows × 23 columns</p>\n",
       "</div>"
      ],
      "text/plain": [
       "     neighbourhood       id                                name   host_id  \\\n",
       "0           Fenway  8552387          Bright Back Bay Brownstone  28880663   \n",
       "1           Fenway  8469841    Large Room Back Bay Close to MIT  16953664   \n",
       "2           Fenway  7757132     Charming and spacious 1 bedroom   8958021   \n",
       "3           Fenway  7757132     Charming and spacious 1 bedroom   8958021   \n",
       "4           Fenway  5086521    Modern & spacious studio for two   1868179   \n",
       "...            ...      ...                                 ...       ...   \n",
       "9073        Fenway  5671806  Luxury Fenway Brownstone-Beacon St  29406566   \n",
       "9074        Fenway  5671806  Luxury Fenway Brownstone-Beacon St  29406566   \n",
       "9075        Fenway  5671806  Luxury Fenway Brownstone-Beacon St  29406566   \n",
       "9076        Fenway  5671806  Luxury Fenway Brownstone-Beacon St  29406566   \n",
       "9077        Fenway  5671806  Luxury Fenway Brownstone-Beacon St  29406566   \n",
       "\n",
       "     host_name neighbourhood_group           latitude           longitude  \\\n",
       "0       Amanda                None  42.35117407918826  -71.08998038575537   \n",
       "1          Ife                None   42.3510130004383  -71.09012784825632   \n",
       "2         Lian                None  42.34207635265539  -71.09799981268785   \n",
       "3         Lian                None  42.34207635265539  -71.09799981268785   \n",
       "4         Ryan                None  42.34086101708686  -71.08828863604951   \n",
       "...        ...                 ...                ...                 ...   \n",
       "9073  Jennifer                None  42.34535000231358  -71.10684236073557   \n",
       "9074  Jennifer                None  42.34535000231358  -71.10684236073557   \n",
       "9075  Jennifer                None  42.34535000231358  -71.10684236073557   \n",
       "9076  Jennifer                None  42.34535000231358  -71.10684236073557   \n",
       "9077  Jennifer                None  42.34535000231358  -71.10684236073557   \n",
       "\n",
       "            room_type price  ... reviews_per_month  \\\n",
       "0     Entire home/apt   225  ...              None   \n",
       "1        Private room    90  ...                 1   \n",
       "2     Entire home/apt   190  ...              1.71   \n",
       "3     Entire home/apt   190  ...              1.71   \n",
       "4     Entire home/apt   150  ...              1.55   \n",
       "...               ...   ...  ...               ...   \n",
       "9073  Entire home/apt   400  ...              0.90   \n",
       "9074  Entire home/apt   400  ...              0.90   \n",
       "9075  Entire home/apt   400  ...              0.90   \n",
       "9076  Entire home/apt   400  ...              0.90   \n",
       "9077  Entire home/apt   400  ...              0.90   \n",
       "\n",
       "     calculated_host_listings_count availability_365 listing_id review_id  \\\n",
       "0                                 1                9       None      None   \n",
       "1                                 3              346    8469841  48817108   \n",
       "2                                 1               58    7757132  47402256   \n",
       "3                                 1               58    7757132  44984587   \n",
       "4                                 1              130    5086521  46117564   \n",
       "...                             ...              ...        ...       ...   \n",
       "9073                              1               29    5671806  30315640   \n",
       "9074                              1               29    5671806  32567096   \n",
       "9075                              1               29    5671806  33313882   \n",
       "9076                              1               29    5671806  37398353   \n",
       "9077                              1               29    5671806  39973715   \n",
       "\n",
       "            date reviewer_id reviewer_name  \\\n",
       "0           None        None          None   \n",
       "1     2015-09-28    44610837          Alan   \n",
       "2     2015-09-18     4228486       Natalie   \n",
       "3     2015-08-30    36039829         Marco   \n",
       "4     2015-09-08    31812081    Maximilian   \n",
       "...          ...         ...           ...   \n",
       "9073  2015-04-20    28743839         Nanci   \n",
       "9074  2015-05-19    15747050           Ann   \n",
       "9075  2015-05-26    26989637      Prashant   \n",
       "9076  2015-07-06    33661506      Kathleen   \n",
       "9077  2015-07-27    34681576           Tim   \n",
       "\n",
       "                                               comments  year  \n",
       "0                                                  None  2015  \n",
       "1     I had a great 1st experience using airbnb.  If...  2015  \n",
       "2     The apartment is clean, comfortable and  very ...  2015  \n",
       "3     I booked Lian's flat for my parents and they r...  2015  \n",
       "4     The place was exactly as described, location w...  2015  \n",
       "...                                                 ...   ...  \n",
       "9073  The description of this place is (email hidden...  2020  \n",
       "9074  A very lovely place in a perfect location.  Ne...  2020  \n",
       "9075  Jennifer was really helpful and provided me an...  2020  \n",
       "9076  Jennifer and the apartment were great! At firs...  2020  \n",
       "9077  The apartment was exactly as expected - nice, ...  2020  \n",
       "\n",
       "[9078 rows x 23 columns]"
      ]
     },
     "execution_count": 31,
     "metadata": {},
     "output_type": "execute_result"
    }
   ],
   "source": [
    "fenway_neighbourhood = boston_neighbourhood_2015.where(\"neighbourhood == 'Fenway'\").union(boston_neighbourhood_2016.where(\"neighbourhood == 'Fenway'\"))\n",
    "fenway_neighbourhood = fenway_neighbourhood.union(boston_neighbourhood_2017.where(\"neighbourhood == 'Fenway'\"))\n",
    "fenway_neighbourhood = fenway_neighbourhood.union(boston_neighbourhood_2018.where(\"neighbourhood == 'Fenway'\"))\n",
    "fenway_neighbourhood = fenway_neighbourhood.union(boston_neighbourhood_2019.where(\"neighbourhood == 'Fenway'\"))\n",
    "fenway_neighbourhood = fenway_neighbourhood.union(boston_neighbourhood_2020.where(\"neighbourhood == 'Fenway'\"))\n",
    "fenway_neighbourhood.toPandas()"
   ]
  },
  {
   "cell_type": "markdown",
   "metadata": {},
   "source": [
    "Get the setiment score for each review using textblob library, but before that, the reviews need to be translated to english, as not all the reviews are in english"
   ]
  },
  {
   "cell_type": "code",
   "execution_count": 32,
   "metadata": {},
   "outputs": [],
   "source": [
    "def translate(sentence):\n",
    "    try:\n",
    "        str(TextBlob(x).translate(to= 'en'))\n",
    "    except:\n",
    "        return sentence"
   ]
  },
  {
   "cell_type": "code",
   "execution_count": 33,
   "metadata": {},
   "outputs": [],
   "source": [
    "translate_udf = F.udf(lambda sentence: translate(sentence) if sentence is not None else None , T.StringType())"
   ]
  },
  {
   "cell_type": "code",
   "execution_count": 34,
   "metadata": {},
   "outputs": [
    {
     "data": {
      "text/html": [
       "<div>\n",
       "<style scoped>\n",
       "    .dataframe tbody tr th:only-of-type {\n",
       "        vertical-align: middle;\n",
       "    }\n",
       "\n",
       "    .dataframe tbody tr th {\n",
       "        vertical-align: top;\n",
       "    }\n",
       "\n",
       "    .dataframe thead th {\n",
       "        text-align: right;\n",
       "    }\n",
       "</style>\n",
       "<table border=\"1\" class=\"dataframe\">\n",
       "  <thead>\n",
       "    <tr style=\"text-align: right;\">\n",
       "      <th></th>\n",
       "      <th>neighbourhood</th>\n",
       "      <th>id</th>\n",
       "      <th>name</th>\n",
       "      <th>host_id</th>\n",
       "      <th>host_name</th>\n",
       "      <th>neighbourhood_group</th>\n",
       "      <th>latitude</th>\n",
       "      <th>longitude</th>\n",
       "      <th>room_type</th>\n",
       "      <th>price</th>\n",
       "      <th>...</th>\n",
       "      <th>reviews_per_month</th>\n",
       "      <th>calculated_host_listings_count</th>\n",
       "      <th>availability_365</th>\n",
       "      <th>listing_id</th>\n",
       "      <th>review_id</th>\n",
       "      <th>date</th>\n",
       "      <th>reviewer_id</th>\n",
       "      <th>reviewer_name</th>\n",
       "      <th>comments</th>\n",
       "      <th>year</th>\n",
       "    </tr>\n",
       "  </thead>\n",
       "  <tbody>\n",
       "    <tr>\n",
       "      <th>0</th>\n",
       "      <td>Fenway</td>\n",
       "      <td>8552387</td>\n",
       "      <td>Bright Back Bay Brownstone</td>\n",
       "      <td>28880663</td>\n",
       "      <td>Amanda</td>\n",
       "      <td>None</td>\n",
       "      <td>42.35117407918826</td>\n",
       "      <td>-71.08998038575537</td>\n",
       "      <td>Entire home/apt</td>\n",
       "      <td>225</td>\n",
       "      <td>...</td>\n",
       "      <td>None</td>\n",
       "      <td>1</td>\n",
       "      <td>9</td>\n",
       "      <td>None</td>\n",
       "      <td>None</td>\n",
       "      <td>None</td>\n",
       "      <td>None</td>\n",
       "      <td>None</td>\n",
       "      <td>None</td>\n",
       "      <td>2015</td>\n",
       "    </tr>\n",
       "    <tr>\n",
       "      <th>1</th>\n",
       "      <td>Fenway</td>\n",
       "      <td>8469841</td>\n",
       "      <td>Large Room Back Bay Close to MIT</td>\n",
       "      <td>16953664</td>\n",
       "      <td>Ife</td>\n",
       "      <td>None</td>\n",
       "      <td>42.3510130004383</td>\n",
       "      <td>-71.09012784825632</td>\n",
       "      <td>Private room</td>\n",
       "      <td>90</td>\n",
       "      <td>...</td>\n",
       "      <td>1</td>\n",
       "      <td>3</td>\n",
       "      <td>346</td>\n",
       "      <td>8469841</td>\n",
       "      <td>48817108</td>\n",
       "      <td>2015-09-28</td>\n",
       "      <td>44610837</td>\n",
       "      <td>Alan</td>\n",
       "      <td>I had a great 1st experience using airbnb.  If...</td>\n",
       "      <td>2015</td>\n",
       "    </tr>\n",
       "    <tr>\n",
       "      <th>2</th>\n",
       "      <td>Fenway</td>\n",
       "      <td>7757132</td>\n",
       "      <td>Charming and spacious 1 bedroom</td>\n",
       "      <td>8958021</td>\n",
       "      <td>Lian</td>\n",
       "      <td>None</td>\n",
       "      <td>42.34207635265539</td>\n",
       "      <td>-71.09799981268785</td>\n",
       "      <td>Entire home/apt</td>\n",
       "      <td>190</td>\n",
       "      <td>...</td>\n",
       "      <td>1.71</td>\n",
       "      <td>1</td>\n",
       "      <td>58</td>\n",
       "      <td>7757132</td>\n",
       "      <td>47402256</td>\n",
       "      <td>2015-09-18</td>\n",
       "      <td>4228486</td>\n",
       "      <td>Natalie</td>\n",
       "      <td>The apartment is clean, comfortable and  very ...</td>\n",
       "      <td>2015</td>\n",
       "    </tr>\n",
       "    <tr>\n",
       "      <th>3</th>\n",
       "      <td>Fenway</td>\n",
       "      <td>7757132</td>\n",
       "      <td>Charming and spacious 1 bedroom</td>\n",
       "      <td>8958021</td>\n",
       "      <td>Lian</td>\n",
       "      <td>None</td>\n",
       "      <td>42.34207635265539</td>\n",
       "      <td>-71.09799981268785</td>\n",
       "      <td>Entire home/apt</td>\n",
       "      <td>190</td>\n",
       "      <td>...</td>\n",
       "      <td>1.71</td>\n",
       "      <td>1</td>\n",
       "      <td>58</td>\n",
       "      <td>7757132</td>\n",
       "      <td>44984587</td>\n",
       "      <td>2015-08-30</td>\n",
       "      <td>36039829</td>\n",
       "      <td>Marco</td>\n",
       "      <td>I booked Lian's flat for my parents and they r...</td>\n",
       "      <td>2015</td>\n",
       "    </tr>\n",
       "    <tr>\n",
       "      <th>4</th>\n",
       "      <td>Fenway</td>\n",
       "      <td>5086521</td>\n",
       "      <td>Modern &amp; spacious studio for two</td>\n",
       "      <td>1868179</td>\n",
       "      <td>Ryan</td>\n",
       "      <td>None</td>\n",
       "      <td>42.34086101708686</td>\n",
       "      <td>-71.08828863604951</td>\n",
       "      <td>Entire home/apt</td>\n",
       "      <td>150</td>\n",
       "      <td>...</td>\n",
       "      <td>1.55</td>\n",
       "      <td>1</td>\n",
       "      <td>130</td>\n",
       "      <td>5086521</td>\n",
       "      <td>46117564</td>\n",
       "      <td>2015-09-08</td>\n",
       "      <td>31812081</td>\n",
       "      <td>Maximilian</td>\n",
       "      <td>The place was exactly as described, location w...</td>\n",
       "      <td>2015</td>\n",
       "    </tr>\n",
       "    <tr>\n",
       "      <th>...</th>\n",
       "      <td>...</td>\n",
       "      <td>...</td>\n",
       "      <td>...</td>\n",
       "      <td>...</td>\n",
       "      <td>...</td>\n",
       "      <td>...</td>\n",
       "      <td>...</td>\n",
       "      <td>...</td>\n",
       "      <td>...</td>\n",
       "      <td>...</td>\n",
       "      <td>...</td>\n",
       "      <td>...</td>\n",
       "      <td>...</td>\n",
       "      <td>...</td>\n",
       "      <td>...</td>\n",
       "      <td>...</td>\n",
       "      <td>...</td>\n",
       "      <td>...</td>\n",
       "      <td>...</td>\n",
       "      <td>...</td>\n",
       "      <td>...</td>\n",
       "    </tr>\n",
       "    <tr>\n",
       "      <th>9073</th>\n",
       "      <td>Fenway</td>\n",
       "      <td>5671806</td>\n",
       "      <td>Luxury Fenway Brownstone-Beacon St</td>\n",
       "      <td>29406566</td>\n",
       "      <td>Jennifer</td>\n",
       "      <td>None</td>\n",
       "      <td>42.34535000231358</td>\n",
       "      <td>-71.10684236073557</td>\n",
       "      <td>Entire home/apt</td>\n",
       "      <td>400</td>\n",
       "      <td>...</td>\n",
       "      <td>0.90</td>\n",
       "      <td>1</td>\n",
       "      <td>29</td>\n",
       "      <td>5671806</td>\n",
       "      <td>30315640</td>\n",
       "      <td>2015-04-20</td>\n",
       "      <td>28743839</td>\n",
       "      <td>Nanci</td>\n",
       "      <td>The description of this place is (email hidden...</td>\n",
       "      <td>2020</td>\n",
       "    </tr>\n",
       "    <tr>\n",
       "      <th>9074</th>\n",
       "      <td>Fenway</td>\n",
       "      <td>5671806</td>\n",
       "      <td>Luxury Fenway Brownstone-Beacon St</td>\n",
       "      <td>29406566</td>\n",
       "      <td>Jennifer</td>\n",
       "      <td>None</td>\n",
       "      <td>42.34535000231358</td>\n",
       "      <td>-71.10684236073557</td>\n",
       "      <td>Entire home/apt</td>\n",
       "      <td>400</td>\n",
       "      <td>...</td>\n",
       "      <td>0.90</td>\n",
       "      <td>1</td>\n",
       "      <td>29</td>\n",
       "      <td>5671806</td>\n",
       "      <td>32567096</td>\n",
       "      <td>2015-05-19</td>\n",
       "      <td>15747050</td>\n",
       "      <td>Ann</td>\n",
       "      <td>A very lovely place in a perfect location.  Ne...</td>\n",
       "      <td>2020</td>\n",
       "    </tr>\n",
       "    <tr>\n",
       "      <th>9075</th>\n",
       "      <td>Fenway</td>\n",
       "      <td>5671806</td>\n",
       "      <td>Luxury Fenway Brownstone-Beacon St</td>\n",
       "      <td>29406566</td>\n",
       "      <td>Jennifer</td>\n",
       "      <td>None</td>\n",
       "      <td>42.34535000231358</td>\n",
       "      <td>-71.10684236073557</td>\n",
       "      <td>Entire home/apt</td>\n",
       "      <td>400</td>\n",
       "      <td>...</td>\n",
       "      <td>0.90</td>\n",
       "      <td>1</td>\n",
       "      <td>29</td>\n",
       "      <td>5671806</td>\n",
       "      <td>33313882</td>\n",
       "      <td>2015-05-26</td>\n",
       "      <td>26989637</td>\n",
       "      <td>Prashant</td>\n",
       "      <td>Jennifer was really helpful and provided me an...</td>\n",
       "      <td>2020</td>\n",
       "    </tr>\n",
       "    <tr>\n",
       "      <th>9076</th>\n",
       "      <td>Fenway</td>\n",
       "      <td>5671806</td>\n",
       "      <td>Luxury Fenway Brownstone-Beacon St</td>\n",
       "      <td>29406566</td>\n",
       "      <td>Jennifer</td>\n",
       "      <td>None</td>\n",
       "      <td>42.34535000231358</td>\n",
       "      <td>-71.10684236073557</td>\n",
       "      <td>Entire home/apt</td>\n",
       "      <td>400</td>\n",
       "      <td>...</td>\n",
       "      <td>0.90</td>\n",
       "      <td>1</td>\n",
       "      <td>29</td>\n",
       "      <td>5671806</td>\n",
       "      <td>37398353</td>\n",
       "      <td>2015-07-06</td>\n",
       "      <td>33661506</td>\n",
       "      <td>Kathleen</td>\n",
       "      <td>Jennifer and the apartment were great! At firs...</td>\n",
       "      <td>2020</td>\n",
       "    </tr>\n",
       "    <tr>\n",
       "      <th>9077</th>\n",
       "      <td>Fenway</td>\n",
       "      <td>5671806</td>\n",
       "      <td>Luxury Fenway Brownstone-Beacon St</td>\n",
       "      <td>29406566</td>\n",
       "      <td>Jennifer</td>\n",
       "      <td>None</td>\n",
       "      <td>42.34535000231358</td>\n",
       "      <td>-71.10684236073557</td>\n",
       "      <td>Entire home/apt</td>\n",
       "      <td>400</td>\n",
       "      <td>...</td>\n",
       "      <td>0.90</td>\n",
       "      <td>1</td>\n",
       "      <td>29</td>\n",
       "      <td>5671806</td>\n",
       "      <td>39973715</td>\n",
       "      <td>2015-07-27</td>\n",
       "      <td>34681576</td>\n",
       "      <td>Tim</td>\n",
       "      <td>The apartment was exactly as expected - nice, ...</td>\n",
       "      <td>2020</td>\n",
       "    </tr>\n",
       "  </tbody>\n",
       "</table>\n",
       "<p>9078 rows × 23 columns</p>\n",
       "</div>"
      ],
      "text/plain": [
       "     neighbourhood       id                                name   host_id  \\\n",
       "0           Fenway  8552387          Bright Back Bay Brownstone  28880663   \n",
       "1           Fenway  8469841    Large Room Back Bay Close to MIT  16953664   \n",
       "2           Fenway  7757132     Charming and spacious 1 bedroom   8958021   \n",
       "3           Fenway  7757132     Charming and spacious 1 bedroom   8958021   \n",
       "4           Fenway  5086521    Modern & spacious studio for two   1868179   \n",
       "...            ...      ...                                 ...       ...   \n",
       "9073        Fenway  5671806  Luxury Fenway Brownstone-Beacon St  29406566   \n",
       "9074        Fenway  5671806  Luxury Fenway Brownstone-Beacon St  29406566   \n",
       "9075        Fenway  5671806  Luxury Fenway Brownstone-Beacon St  29406566   \n",
       "9076        Fenway  5671806  Luxury Fenway Brownstone-Beacon St  29406566   \n",
       "9077        Fenway  5671806  Luxury Fenway Brownstone-Beacon St  29406566   \n",
       "\n",
       "     host_name neighbourhood_group           latitude           longitude  \\\n",
       "0       Amanda                None  42.35117407918826  -71.08998038575537   \n",
       "1          Ife                None   42.3510130004383  -71.09012784825632   \n",
       "2         Lian                None  42.34207635265539  -71.09799981268785   \n",
       "3         Lian                None  42.34207635265539  -71.09799981268785   \n",
       "4         Ryan                None  42.34086101708686  -71.08828863604951   \n",
       "...        ...                 ...                ...                 ...   \n",
       "9073  Jennifer                None  42.34535000231358  -71.10684236073557   \n",
       "9074  Jennifer                None  42.34535000231358  -71.10684236073557   \n",
       "9075  Jennifer                None  42.34535000231358  -71.10684236073557   \n",
       "9076  Jennifer                None  42.34535000231358  -71.10684236073557   \n",
       "9077  Jennifer                None  42.34535000231358  -71.10684236073557   \n",
       "\n",
       "            room_type price  ... reviews_per_month  \\\n",
       "0     Entire home/apt   225  ...              None   \n",
       "1        Private room    90  ...                 1   \n",
       "2     Entire home/apt   190  ...              1.71   \n",
       "3     Entire home/apt   190  ...              1.71   \n",
       "4     Entire home/apt   150  ...              1.55   \n",
       "...               ...   ...  ...               ...   \n",
       "9073  Entire home/apt   400  ...              0.90   \n",
       "9074  Entire home/apt   400  ...              0.90   \n",
       "9075  Entire home/apt   400  ...              0.90   \n",
       "9076  Entire home/apt   400  ...              0.90   \n",
       "9077  Entire home/apt   400  ...              0.90   \n",
       "\n",
       "     calculated_host_listings_count availability_365 listing_id review_id  \\\n",
       "0                                 1                9       None      None   \n",
       "1                                 3              346    8469841  48817108   \n",
       "2                                 1               58    7757132  47402256   \n",
       "3                                 1               58    7757132  44984587   \n",
       "4                                 1              130    5086521  46117564   \n",
       "...                             ...              ...        ...       ...   \n",
       "9073                              1               29    5671806  30315640   \n",
       "9074                              1               29    5671806  32567096   \n",
       "9075                              1               29    5671806  33313882   \n",
       "9076                              1               29    5671806  37398353   \n",
       "9077                              1               29    5671806  39973715   \n",
       "\n",
       "            date reviewer_id reviewer_name  \\\n",
       "0           None        None          None   \n",
       "1     2015-09-28    44610837          Alan   \n",
       "2     2015-09-18     4228486       Natalie   \n",
       "3     2015-08-30    36039829         Marco   \n",
       "4     2015-09-08    31812081    Maximilian   \n",
       "...          ...         ...           ...   \n",
       "9073  2015-04-20    28743839         Nanci   \n",
       "9074  2015-05-19    15747050           Ann   \n",
       "9075  2015-05-26    26989637      Prashant   \n",
       "9076  2015-07-06    33661506      Kathleen   \n",
       "9077  2015-07-27    34681576           Tim   \n",
       "\n",
       "                                               comments  year  \n",
       "0                                                  None  2015  \n",
       "1     I had a great 1st experience using airbnb.  If...  2015  \n",
       "2     The apartment is clean, comfortable and  very ...  2015  \n",
       "3     I booked Lian's flat for my parents and they r...  2015  \n",
       "4     The place was exactly as described, location w...  2015  \n",
       "...                                                 ...   ...  \n",
       "9073  The description of this place is (email hidden...  2020  \n",
       "9074  A very lovely place in a perfect location.  Ne...  2020  \n",
       "9075  Jennifer was really helpful and provided me an...  2020  \n",
       "9076  Jennifer and the apartment were great! At firs...  2020  \n",
       "9077  The apartment was exactly as expected - nice, ...  2020  \n",
       "\n",
       "[9078 rows x 23 columns]"
      ]
     },
     "execution_count": 34,
     "metadata": {},
     "output_type": "execute_result"
    }
   ],
   "source": [
    "fenway_neighbourhood = fenway_neighbourhood.withColumn('comments', translate_udf(F.col(\"comments\")))\n",
    "fenway_neighbourhood.toPandas()"
   ]
  },
  {
   "cell_type": "markdown",
   "metadata": {},
   "source": [
    "Sentiment Score:"
   ]
  },
  {
   "cell_type": "code",
   "execution_count": 35,
   "metadata": {},
   "outputs": [],
   "source": [
    "sentiment_udf = F.udf(lambda x:TextBlob(x).sentiment.polarity if x is not None else None , T.StringType())"
   ]
  },
  {
   "cell_type": "code",
   "execution_count": 36,
   "metadata": {},
   "outputs": [
    {
     "data": {
      "text/html": [
       "<div>\n",
       "<style scoped>\n",
       "    .dataframe tbody tr th:only-of-type {\n",
       "        vertical-align: middle;\n",
       "    }\n",
       "\n",
       "    .dataframe tbody tr th {\n",
       "        vertical-align: top;\n",
       "    }\n",
       "\n",
       "    .dataframe thead th {\n",
       "        text-align: right;\n",
       "    }\n",
       "</style>\n",
       "<table border=\"1\" class=\"dataframe\">\n",
       "  <thead>\n",
       "    <tr style=\"text-align: right;\">\n",
       "      <th></th>\n",
       "      <th>neighbourhood</th>\n",
       "      <th>id</th>\n",
       "      <th>name</th>\n",
       "      <th>host_id</th>\n",
       "      <th>host_name</th>\n",
       "      <th>neighbourhood_group</th>\n",
       "      <th>latitude</th>\n",
       "      <th>longitude</th>\n",
       "      <th>room_type</th>\n",
       "      <th>price</th>\n",
       "      <th>...</th>\n",
       "      <th>calculated_host_listings_count</th>\n",
       "      <th>availability_365</th>\n",
       "      <th>listing_id</th>\n",
       "      <th>review_id</th>\n",
       "      <th>date</th>\n",
       "      <th>reviewer_id</th>\n",
       "      <th>reviewer_name</th>\n",
       "      <th>comments</th>\n",
       "      <th>year</th>\n",
       "      <th>review_polarity</th>\n",
       "    </tr>\n",
       "  </thead>\n",
       "  <tbody>\n",
       "    <tr>\n",
       "      <th>0</th>\n",
       "      <td>Fenway</td>\n",
       "      <td>8552387</td>\n",
       "      <td>Bright Back Bay Brownstone</td>\n",
       "      <td>28880663</td>\n",
       "      <td>Amanda</td>\n",
       "      <td>None</td>\n",
       "      <td>42.35117407918826</td>\n",
       "      <td>-71.08998038575537</td>\n",
       "      <td>Entire home/apt</td>\n",
       "      <td>225</td>\n",
       "      <td>...</td>\n",
       "      <td>1</td>\n",
       "      <td>9</td>\n",
       "      <td>None</td>\n",
       "      <td>None</td>\n",
       "      <td>None</td>\n",
       "      <td>None</td>\n",
       "      <td>None</td>\n",
       "      <td>None</td>\n",
       "      <td>2015</td>\n",
       "      <td>None</td>\n",
       "    </tr>\n",
       "    <tr>\n",
       "      <th>1</th>\n",
       "      <td>Fenway</td>\n",
       "      <td>8469841</td>\n",
       "      <td>Large Room Back Bay Close to MIT</td>\n",
       "      <td>16953664</td>\n",
       "      <td>Ife</td>\n",
       "      <td>None</td>\n",
       "      <td>42.3510130004383</td>\n",
       "      <td>-71.09012784825632</td>\n",
       "      <td>Private room</td>\n",
       "      <td>90</td>\n",
       "      <td>...</td>\n",
       "      <td>3</td>\n",
       "      <td>346</td>\n",
       "      <td>8469841</td>\n",
       "      <td>48817108</td>\n",
       "      <td>2015-09-28</td>\n",
       "      <td>44610837</td>\n",
       "      <td>Alan</td>\n",
       "      <td>I had a great 1st experience using airbnb.  If...</td>\n",
       "      <td>2015</td>\n",
       "      <td>0.31500000000000006</td>\n",
       "    </tr>\n",
       "    <tr>\n",
       "      <th>2</th>\n",
       "      <td>Fenway</td>\n",
       "      <td>7757132</td>\n",
       "      <td>Charming and spacious 1 bedroom</td>\n",
       "      <td>8958021</td>\n",
       "      <td>Lian</td>\n",
       "      <td>None</td>\n",
       "      <td>42.34207635265539</td>\n",
       "      <td>-71.09799981268785</td>\n",
       "      <td>Entire home/apt</td>\n",
       "      <td>190</td>\n",
       "      <td>...</td>\n",
       "      <td>1</td>\n",
       "      <td>58</td>\n",
       "      <td>7757132</td>\n",
       "      <td>47402256</td>\n",
       "      <td>2015-09-18</td>\n",
       "      <td>4228486</td>\n",
       "      <td>Natalie</td>\n",
       "      <td>The apartment is clean, comfortable and  very ...</td>\n",
       "      <td>2015</td>\n",
       "      <td>0.3766666666666667</td>\n",
       "    </tr>\n",
       "    <tr>\n",
       "      <th>3</th>\n",
       "      <td>Fenway</td>\n",
       "      <td>7757132</td>\n",
       "      <td>Charming and spacious 1 bedroom</td>\n",
       "      <td>8958021</td>\n",
       "      <td>Lian</td>\n",
       "      <td>None</td>\n",
       "      <td>42.34207635265539</td>\n",
       "      <td>-71.09799981268785</td>\n",
       "      <td>Entire home/apt</td>\n",
       "      <td>190</td>\n",
       "      <td>...</td>\n",
       "      <td>1</td>\n",
       "      <td>58</td>\n",
       "      <td>7757132</td>\n",
       "      <td>44984587</td>\n",
       "      <td>2015-08-30</td>\n",
       "      <td>36039829</td>\n",
       "      <td>Marco</td>\n",
       "      <td>I booked Lian's flat for my parents and they r...</td>\n",
       "      <td>2015</td>\n",
       "      <td>0.07714285714285714</td>\n",
       "    </tr>\n",
       "    <tr>\n",
       "      <th>4</th>\n",
       "      <td>Fenway</td>\n",
       "      <td>5086521</td>\n",
       "      <td>Modern &amp; spacious studio for two</td>\n",
       "      <td>1868179</td>\n",
       "      <td>Ryan</td>\n",
       "      <td>None</td>\n",
       "      <td>42.34086101708686</td>\n",
       "      <td>-71.08828863604951</td>\n",
       "      <td>Entire home/apt</td>\n",
       "      <td>150</td>\n",
       "      <td>...</td>\n",
       "      <td>1</td>\n",
       "      <td>130</td>\n",
       "      <td>5086521</td>\n",
       "      <td>46117564</td>\n",
       "      <td>2015-09-08</td>\n",
       "      <td>31812081</td>\n",
       "      <td>Maximilian</td>\n",
       "      <td>The place was exactly as described, location w...</td>\n",
       "      <td>2015</td>\n",
       "      <td>0.4461111111111111</td>\n",
       "    </tr>\n",
       "    <tr>\n",
       "      <th>...</th>\n",
       "      <td>...</td>\n",
       "      <td>...</td>\n",
       "      <td>...</td>\n",
       "      <td>...</td>\n",
       "      <td>...</td>\n",
       "      <td>...</td>\n",
       "      <td>...</td>\n",
       "      <td>...</td>\n",
       "      <td>...</td>\n",
       "      <td>...</td>\n",
       "      <td>...</td>\n",
       "      <td>...</td>\n",
       "      <td>...</td>\n",
       "      <td>...</td>\n",
       "      <td>...</td>\n",
       "      <td>...</td>\n",
       "      <td>...</td>\n",
       "      <td>...</td>\n",
       "      <td>...</td>\n",
       "      <td>...</td>\n",
       "      <td>...</td>\n",
       "    </tr>\n",
       "    <tr>\n",
       "      <th>9073</th>\n",
       "      <td>Fenway</td>\n",
       "      <td>5671806</td>\n",
       "      <td>Luxury Fenway Brownstone-Beacon St</td>\n",
       "      <td>29406566</td>\n",
       "      <td>Jennifer</td>\n",
       "      <td>None</td>\n",
       "      <td>42.34535000231358</td>\n",
       "      <td>-71.10684236073557</td>\n",
       "      <td>Entire home/apt</td>\n",
       "      <td>400</td>\n",
       "      <td>...</td>\n",
       "      <td>1</td>\n",
       "      <td>29</td>\n",
       "      <td>5671806</td>\n",
       "      <td>30315640</td>\n",
       "      <td>2015-04-20</td>\n",
       "      <td>28743839</td>\n",
       "      <td>Nanci</td>\n",
       "      <td>The description of this place is (email hidden...</td>\n",
       "      <td>2020</td>\n",
       "      <td>0.3726190476190476</td>\n",
       "    </tr>\n",
       "    <tr>\n",
       "      <th>9074</th>\n",
       "      <td>Fenway</td>\n",
       "      <td>5671806</td>\n",
       "      <td>Luxury Fenway Brownstone-Beacon St</td>\n",
       "      <td>29406566</td>\n",
       "      <td>Jennifer</td>\n",
       "      <td>None</td>\n",
       "      <td>42.34535000231358</td>\n",
       "      <td>-71.10684236073557</td>\n",
       "      <td>Entire home/apt</td>\n",
       "      <td>400</td>\n",
       "      <td>...</td>\n",
       "      <td>1</td>\n",
       "      <td>29</td>\n",
       "      <td>5671806</td>\n",
       "      <td>32567096</td>\n",
       "      <td>2015-05-19</td>\n",
       "      <td>15747050</td>\n",
       "      <td>Ann</td>\n",
       "      <td>A very lovely place in a perfect location.  Ne...</td>\n",
       "      <td>2020</td>\n",
       "      <td>0.21796969696969692</td>\n",
       "    </tr>\n",
       "    <tr>\n",
       "      <th>9075</th>\n",
       "      <td>Fenway</td>\n",
       "      <td>5671806</td>\n",
       "      <td>Luxury Fenway Brownstone-Beacon St</td>\n",
       "      <td>29406566</td>\n",
       "      <td>Jennifer</td>\n",
       "      <td>None</td>\n",
       "      <td>42.34535000231358</td>\n",
       "      <td>-71.10684236073557</td>\n",
       "      <td>Entire home/apt</td>\n",
       "      <td>400</td>\n",
       "      <td>...</td>\n",
       "      <td>1</td>\n",
       "      <td>29</td>\n",
       "      <td>5671806</td>\n",
       "      <td>33313882</td>\n",
       "      <td>2015-05-26</td>\n",
       "      <td>26989637</td>\n",
       "      <td>Prashant</td>\n",
       "      <td>Jennifer was really helpful and provided me an...</td>\n",
       "      <td>2020</td>\n",
       "      <td>0.4979166666666667</td>\n",
       "    </tr>\n",
       "    <tr>\n",
       "      <th>9076</th>\n",
       "      <td>Fenway</td>\n",
       "      <td>5671806</td>\n",
       "      <td>Luxury Fenway Brownstone-Beacon St</td>\n",
       "      <td>29406566</td>\n",
       "      <td>Jennifer</td>\n",
       "      <td>None</td>\n",
       "      <td>42.34535000231358</td>\n",
       "      <td>-71.10684236073557</td>\n",
       "      <td>Entire home/apt</td>\n",
       "      <td>400</td>\n",
       "      <td>...</td>\n",
       "      <td>1</td>\n",
       "      <td>29</td>\n",
       "      <td>5671806</td>\n",
       "      <td>37398353</td>\n",
       "      <td>2015-07-06</td>\n",
       "      <td>33661506</td>\n",
       "      <td>Kathleen</td>\n",
       "      <td>Jennifer and the apartment were great! At firs...</td>\n",
       "      <td>2020</td>\n",
       "      <td>0.13065907522429263</td>\n",
       "    </tr>\n",
       "    <tr>\n",
       "      <th>9077</th>\n",
       "      <td>Fenway</td>\n",
       "      <td>5671806</td>\n",
       "      <td>Luxury Fenway Brownstone-Beacon St</td>\n",
       "      <td>29406566</td>\n",
       "      <td>Jennifer</td>\n",
       "      <td>None</td>\n",
       "      <td>42.34535000231358</td>\n",
       "      <td>-71.10684236073557</td>\n",
       "      <td>Entire home/apt</td>\n",
       "      <td>400</td>\n",
       "      <td>...</td>\n",
       "      <td>1</td>\n",
       "      <td>29</td>\n",
       "      <td>5671806</td>\n",
       "      <td>39973715</td>\n",
       "      <td>2015-07-27</td>\n",
       "      <td>34681576</td>\n",
       "      <td>Tim</td>\n",
       "      <td>The apartment was exactly as expected - nice, ...</td>\n",
       "      <td>2020</td>\n",
       "      <td>0.48875</td>\n",
       "    </tr>\n",
       "  </tbody>\n",
       "</table>\n",
       "<p>9078 rows × 24 columns</p>\n",
       "</div>"
      ],
      "text/plain": [
       "     neighbourhood       id                                name   host_id  \\\n",
       "0           Fenway  8552387          Bright Back Bay Brownstone  28880663   \n",
       "1           Fenway  8469841    Large Room Back Bay Close to MIT  16953664   \n",
       "2           Fenway  7757132     Charming and spacious 1 bedroom   8958021   \n",
       "3           Fenway  7757132     Charming and spacious 1 bedroom   8958021   \n",
       "4           Fenway  5086521    Modern & spacious studio for two   1868179   \n",
       "...            ...      ...                                 ...       ...   \n",
       "9073        Fenway  5671806  Luxury Fenway Brownstone-Beacon St  29406566   \n",
       "9074        Fenway  5671806  Luxury Fenway Brownstone-Beacon St  29406566   \n",
       "9075        Fenway  5671806  Luxury Fenway Brownstone-Beacon St  29406566   \n",
       "9076        Fenway  5671806  Luxury Fenway Brownstone-Beacon St  29406566   \n",
       "9077        Fenway  5671806  Luxury Fenway Brownstone-Beacon St  29406566   \n",
       "\n",
       "     host_name neighbourhood_group           latitude           longitude  \\\n",
       "0       Amanda                None  42.35117407918826  -71.08998038575537   \n",
       "1          Ife                None   42.3510130004383  -71.09012784825632   \n",
       "2         Lian                None  42.34207635265539  -71.09799981268785   \n",
       "3         Lian                None  42.34207635265539  -71.09799981268785   \n",
       "4         Ryan                None  42.34086101708686  -71.08828863604951   \n",
       "...        ...                 ...                ...                 ...   \n",
       "9073  Jennifer                None  42.34535000231358  -71.10684236073557   \n",
       "9074  Jennifer                None  42.34535000231358  -71.10684236073557   \n",
       "9075  Jennifer                None  42.34535000231358  -71.10684236073557   \n",
       "9076  Jennifer                None  42.34535000231358  -71.10684236073557   \n",
       "9077  Jennifer                None  42.34535000231358  -71.10684236073557   \n",
       "\n",
       "            room_type price  ... calculated_host_listings_count  \\\n",
       "0     Entire home/apt   225  ...                              1   \n",
       "1        Private room    90  ...                              3   \n",
       "2     Entire home/apt   190  ...                              1   \n",
       "3     Entire home/apt   190  ...                              1   \n",
       "4     Entire home/apt   150  ...                              1   \n",
       "...               ...   ...  ...                            ...   \n",
       "9073  Entire home/apt   400  ...                              1   \n",
       "9074  Entire home/apt   400  ...                              1   \n",
       "9075  Entire home/apt   400  ...                              1   \n",
       "9076  Entire home/apt   400  ...                              1   \n",
       "9077  Entire home/apt   400  ...                              1   \n",
       "\n",
       "     availability_365 listing_id review_id        date reviewer_id  \\\n",
       "0                   9       None      None        None        None   \n",
       "1                 346    8469841  48817108  2015-09-28    44610837   \n",
       "2                  58    7757132  47402256  2015-09-18     4228486   \n",
       "3                  58    7757132  44984587  2015-08-30    36039829   \n",
       "4                 130    5086521  46117564  2015-09-08    31812081   \n",
       "...               ...        ...       ...         ...         ...   \n",
       "9073               29    5671806  30315640  2015-04-20    28743839   \n",
       "9074               29    5671806  32567096  2015-05-19    15747050   \n",
       "9075               29    5671806  33313882  2015-05-26    26989637   \n",
       "9076               29    5671806  37398353  2015-07-06    33661506   \n",
       "9077               29    5671806  39973715  2015-07-27    34681576   \n",
       "\n",
       "     reviewer_name                                           comments  year  \\\n",
       "0             None                                               None  2015   \n",
       "1             Alan  I had a great 1st experience using airbnb.  If...  2015   \n",
       "2          Natalie  The apartment is clean, comfortable and  very ...  2015   \n",
       "3            Marco  I booked Lian's flat for my parents and they r...  2015   \n",
       "4       Maximilian  The place was exactly as described, location w...  2015   \n",
       "...            ...                                                ...   ...   \n",
       "9073         Nanci  The description of this place is (email hidden...  2020   \n",
       "9074           Ann  A very lovely place in a perfect location.  Ne...  2020   \n",
       "9075      Prashant  Jennifer was really helpful and provided me an...  2020   \n",
       "9076      Kathleen  Jennifer and the apartment were great! At firs...  2020   \n",
       "9077           Tim  The apartment was exactly as expected - nice, ...  2020   \n",
       "\n",
       "          review_polarity  \n",
       "0                    None  \n",
       "1     0.31500000000000006  \n",
       "2      0.3766666666666667  \n",
       "3     0.07714285714285714  \n",
       "4      0.4461111111111111  \n",
       "...                   ...  \n",
       "9073   0.3726190476190476  \n",
       "9074  0.21796969696969692  \n",
       "9075   0.4979166666666667  \n",
       "9076  0.13065907522429263  \n",
       "9077              0.48875  \n",
       "\n",
       "[9078 rows x 24 columns]"
      ]
     },
     "execution_count": 36,
     "metadata": {},
     "output_type": "execute_result"
    }
   ],
   "source": [
    "fenway_neighbourhood = fenway_neighbourhood.withColumn('review_polarity', sentiment_udf(F.col(\"comments\")))\n",
    "fenway_neighbourhood.toPandas()"
   ]
  },
  {
   "cell_type": "code",
   "execution_count": null,
   "metadata": {},
   "outputs": [],
   "source": [
    "fenway_neighbourhood_home = fenway_neighbourhood.where(\"room_type == 'Entire home/apt'\").toPandas()\n",
    "fig = px.histogram(fenway_neighbourhood_home, x=\"review_polarity\", color='room_type')\n",
    "fig.show()"
   ]
  },
  {
   "cell_type": "code",
   "execution_count": null,
   "metadata": {},
   "outputs": [],
   "source": [
    "fenway_neighbourhood_private = fenway_neighbourhood.where(\"room_type == 'Private room'\").toPandas()\n",
    "fig = px.histogram(fenway_neighbourhood_private, x=\"review_polarity\", color='room_type')\n",
    "fig.show()"
   ]
  },
  {
   "cell_type": "code",
   "execution_count": null,
   "metadata": {},
   "outputs": [],
   "source": [
    "fenway_neighbourhood_shared = fenway_neighbourhood.where(\"room_type == 'Shared room'\").toPandas()\n",
    "fig = px.histogram(fenway_neighbourhood_private, x=\"review_polarity\", color='room_type')\n",
    "fig.show()"
   ]
  },
  {
   "cell_type": "markdown",
   "metadata": {},
   "source": [
    "Allston:"
   ]
  },
  {
   "cell_type": "markdown",
   "metadata": {},
   "source": [
    "Let's combine Allston data from all the years"
   ]
  },
  {
   "cell_type": "code",
   "execution_count": null,
   "metadata": {},
   "outputs": [],
   "source": [
    "allston_neighbourhood = boston_neighbourhood_2015.where(\"neighbourhood == 'Allston'\").union(boston_neighbourhood_2016.where(\"neighbourhood == 'Allston'\"))\n",
    "allston_neighbourhood = allston_neighbourhood.union(boston_neighbourhood_2017.where(\"neighbourhood == 'Allston'\"))\n",
    "allston_neighbourhood = allston_neighbourhood.union(boston_neighbourhood_2018.where(\"neighbourhood == 'Allston'\"))\n",
    "allston_neighbourhood = allston_neighbourhood.union(boston_neighbourhood_2019.where(\"neighbourhood == 'Allston'\"))\n",
    "allston_neighbourhood = allston_neighbourhood.union(boston_neighbourhood_2020.where(\"neighbourhood == 'Allston'\"))\n",
    "allston_neighbourhood.toPandas()"
   ]
  },
  {
   "cell_type": "markdown",
   "metadata": {},
   "source": [
    "Let's translate all the reviews to english first"
   ]
  },
  {
   "cell_type": "code",
   "execution_count": null,
   "metadata": {},
   "outputs": [],
   "source": [
    "allston_neighbourhood = allston_neighbourhood.withColumn('comments', translate_udf(F.col(\"comments\")))\n",
    "allston_neighbourhood.toPandas()"
   ]
  },
  {
   "cell_type": "markdown",
   "metadata": {},
   "source": [
    "Calculate the polarity of each review"
   ]
  },
  {
   "cell_type": "code",
   "execution_count": null,
   "metadata": {},
   "outputs": [],
   "source": [
    "allston_neighbourhood = allston_neighbourhood.withColumn('review_polarity', sentiment_udf(F.col(\"comments\")))\n",
    "allston_neighbourhood.toPandas()"
   ]
  },
  {
   "cell_type": "code",
   "execution_count": null,
   "metadata": {},
   "outputs": [],
   "source": [
    "allston_neighbourhood_home = allston_neighbourhood.where(\"room_type == 'Entire home/apt'\").toPandas()\n",
    "fig = px.histogram(allston_neighbourhood_home, x=\"review_polarity\", color='room_type')\n",
    "fig.show()"
   ]
  },
  {
   "cell_type": "code",
   "execution_count": null,
   "metadata": {},
   "outputs": [],
   "source": [
    "allston_neighbourhood_private = allston_neighbourhood.where(\"room_type == 'Private room'\").toPandas()\n",
    "fig = px.histogram(allston_neighbourhood_private, x=\"review_polarity\", color='room_type')\n",
    "fig.show()"
   ]
  },
  {
   "cell_type": "code",
   "execution_count": null,
   "metadata": {},
   "outputs": [],
   "source": [
    "allston_neighbourhood_shared = allston_neighbourhood.where(\"room_type == 'Shared room'\").toPandas()\n",
    "fig = px.histogram(allston_neighbourhood_shared, x=\"review_polarity\", color='room_type')\n",
    "fig.show()"
   ]
  },
  {
   "cell_type": "markdown",
   "metadata": {},
   "source": [
    "Dorchester:"
   ]
  },
  {
   "cell_type": "markdown",
   "metadata": {},
   "source": [
    "Let's combine Allston data from all the years"
   ]
  },
  {
   "cell_type": "code",
   "execution_count": null,
   "metadata": {},
   "outputs": [],
   "source": [
    "dorchester_neighbourhood = boston_neighbourhood_2015.where(\"neighbourhood == 'Dorchester'\").union(boston_neighbourhood_2016.where(\"neighbourhood == 'Dorchester'\"))\n",
    "dorchester_neighbourhood = dorchester_neighbourhood.union(boston_neighbourhood_2017.where(\"neighbourhood == 'Dorchester'\"))\n",
    "dorchester_neighbourhood = dorchester_neighbourhood.union(boston_neighbourhood_2018.where(\"neighbourhood == 'Dorchester'\"))\n",
    "dorchester_neighbourhood = dorchester_neighbourhood.union(boston_neighbourhood_2019.where(\"neighbourhood == 'Dorchester'\"))\n",
    "dorchester_neighbourhood = dorchester_neighbourhood.union(boston_neighbourhood_2020.where(\"neighbourhood == 'Dorchester'\"))\n",
    "dorchester_neighbourhood.toPandas()"
   ]
  },
  {
   "cell_type": "markdown",
   "metadata": {},
   "source": [
    "Let's translate all the reviews to english first"
   ]
  },
  {
   "cell_type": "code",
   "execution_count": null,
   "metadata": {},
   "outputs": [],
   "source": [
    "dorchester_neighbourhood = dorchester_neighbourhood.withColumn('comments', translate_udf(F.col(\"comments\")))\n",
    "dorchester_neighbourhood.toPandas()"
   ]
  },
  {
   "cell_type": "markdown",
   "metadata": {},
   "source": [
    "Calculate the polarity of each review"
   ]
  },
  {
   "cell_type": "code",
   "execution_count": null,
   "metadata": {},
   "outputs": [],
   "source": [
    "dorchester_neighbourhood = dorchester_neighbourhood.withColumn('review_polarity', sentiment_udf(F.col(\"comments\")))\n",
    "dorchester_neighbourhood.toPandas()"
   ]
  },
  {
   "cell_type": "code",
   "execution_count": null,
   "metadata": {},
   "outputs": [],
   "source": [
    "dorchester_neighbourhood_home = dorchester_neighbourhood.where(\"room_type == 'Entire home/apt'\").toPandas()\n",
    "fig = px.histogram(dorchester_neighbourhood_home, x=\"review_polarity\", color='room_type')\n",
    "fig.show()"
   ]
  },
  {
   "cell_type": "code",
   "execution_count": null,
   "metadata": {},
   "outputs": [],
   "source": [
    "dorchester_neighbourhood_private = dorchester_neighbourhood.where(\"room_type == 'Private room'\").toPandas()\n",
    "fig = px.histogram(dorchester_neighbourhood_private, x=\"review_polarity\", color='room_type')\n",
    "fig.show()"
   ]
  },
  {
   "cell_type": "code",
   "execution_count": null,
   "metadata": {},
   "outputs": [],
   "source": [
    "dorchester_neighbourhood_shared = dorchester_neighbourhood.where(\"room_type == 'Shared room'\").toPandas()\n",
    "fig = px.histogram(dorchester_neighbourhood_shared, x=\"review_polarity\", color='room_type')\n",
    "fig.show()"
   ]
  },
  {
   "cell_type": "code",
   "execution_count": null,
   "metadata": {},
   "outputs": [],
   "source": []
  },
  {
   "cell_type": "code",
   "execution_count": 1,
   "metadata": {},
   "outputs": [
    {
     "name": "stdout",
     "output_type": "stream",
     "text": [
      "testing changes\n"
     ]
    }
   ],
   "source": [
    "print(\"testing changes\")"
   ]
  },
  {
   "cell_type": "code",
   "execution_count": null,
   "metadata": {},
   "outputs": [],
   "source": []
  },
  {
   "cell_type": "code",
   "execution_count": null,
   "metadata": {},
   "outputs": [],
   "source": []
  }
 ],
 "metadata": {
  "kernelspec": {
   "display_name": "Python 3",
   "language": "python",
   "name": "python3"
  },
  "language_info": {
   "codemirror_mode": {
    "name": "ipython",
    "version": 3
   },
   "file_extension": ".py",
   "mimetype": "text/x-python",
   "name": "python",
   "nbconvert_exporter": "python",
   "pygments_lexer": "ipython3",
   "version": "3.8.3"
  }
 },
 "nbformat": 4,
 "nbformat_minor": 4
}
